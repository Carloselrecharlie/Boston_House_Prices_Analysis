{
 "cells": [
  {
   "cell_type": "code",
   "execution_count": 1,
   "metadata": {},
   "outputs": [
    {
     "name": "stderr",
     "output_type": "stream",
     "text": [
      "Using TensorFlow backend.\n",
      "C:\\Users\\montec3\\AppData\\Local\\Continuum\\anaconda3\\lib\\site-packages\\tensorflow\\python\\framework\\dtypes.py:526: FutureWarning: Passing (type, 1) or '1type' as a synonym of type is deprecated; in a future version of numpy, it will be understood as (type, (1,)) / '(1,)type'.\n",
      "  _np_qint8 = np.dtype([(\"qint8\", np.int8, 1)])\n",
      "C:\\Users\\montec3\\AppData\\Local\\Continuum\\anaconda3\\lib\\site-packages\\tensorflow\\python\\framework\\dtypes.py:527: FutureWarning: Passing (type, 1) or '1type' as a synonym of type is deprecated; in a future version of numpy, it will be understood as (type, (1,)) / '(1,)type'.\n",
      "  _np_quint8 = np.dtype([(\"quint8\", np.uint8, 1)])\n",
      "C:\\Users\\montec3\\AppData\\Local\\Continuum\\anaconda3\\lib\\site-packages\\tensorflow\\python\\framework\\dtypes.py:528: FutureWarning: Passing (type, 1) or '1type' as a synonym of type is deprecated; in a future version of numpy, it will be understood as (type, (1,)) / '(1,)type'.\n",
      "  _np_qint16 = np.dtype([(\"qint16\", np.int16, 1)])\n",
      "C:\\Users\\montec3\\AppData\\Local\\Continuum\\anaconda3\\lib\\site-packages\\tensorflow\\python\\framework\\dtypes.py:529: FutureWarning: Passing (type, 1) or '1type' as a synonym of type is deprecated; in a future version of numpy, it will be understood as (type, (1,)) / '(1,)type'.\n",
      "  _np_quint16 = np.dtype([(\"quint16\", np.uint16, 1)])\n",
      "C:\\Users\\montec3\\AppData\\Local\\Continuum\\anaconda3\\lib\\site-packages\\tensorflow\\python\\framework\\dtypes.py:530: FutureWarning: Passing (type, 1) or '1type' as a synonym of type is deprecated; in a future version of numpy, it will be understood as (type, (1,)) / '(1,)type'.\n",
      "  _np_qint32 = np.dtype([(\"qint32\", np.int32, 1)])\n",
      "C:\\Users\\montec3\\AppData\\Local\\Continuum\\anaconda3\\lib\\site-packages\\tensorflow\\python\\framework\\dtypes.py:535: FutureWarning: Passing (type, 1) or '1type' as a synonym of type is deprecated; in a future version of numpy, it will be understood as (type, (1,)) / '(1,)type'.\n",
      "  np_resource = np.dtype([(\"resource\", np.ubyte, 1)])\n"
     ]
    }
   ],
   "source": [
    "import numpy as np\n",
    "import pandas as pd  \n",
    "import seaborn as sns\n",
    "# For importing the boston house dataset\n",
    "from sklearn.datasets import load_boston\n",
    "import matplotlib.pyplot as plt\n",
    "import scipy.stats as stats\n",
    "# For building neural networks.\n",
    "import keras as kr\n",
    "# For encoding categorical variables.\n",
    "import sklearn.preprocessing as pre\n",
    "# For splitting into training and test sets.\n",
    "import sklearn.model_selection as mod\n",
    "# For whitening the inputs\n",
    "import sklearn.decomposition as dec\n",
    "# Set default size of plots\n",
    "plt.rcParams['figure.figsize'] = (10.0, 5.0)"
   ]
  },
  {
   "cell_type": "markdown",
   "metadata": {},
   "source": [
    "# Description"
   ]
  },
  {
   "cell_type": "markdown",
   "metadata": {},
   "source": [
    "- I take the dataset from sklearn package and show its description:"
   ]
  },
  {
   "cell_type": "code",
   "execution_count": 2,
   "metadata": {},
   "outputs": [
    {
     "name": "stdout",
     "output_type": "stream",
     "text": [
      ".. _boston_dataset:\n",
      "\n",
      "Boston house prices dataset\n",
      "---------------------------\n",
      "\n",
      "**Data Set Characteristics:**  \n",
      "\n",
      "    :Number of Instances: 506 \n",
      "\n",
      "    :Number of Attributes: 13 numeric/categorical predictive. Median Value (attribute 14) is usually the target.\n",
      "\n",
      "    :Attribute Information (in order):\n",
      "        - CRIM     per capita crime rate by town\n",
      "        - ZN       proportion of residential land zoned for lots over 25,000 sq.ft.\n",
      "        - INDUS    proportion of non-retail business acres per town\n",
      "        - CHAS     Charles River dummy variable (= 1 if tract bounds river; 0 otherwise)\n",
      "        - NOX      nitric oxides concentration (parts per 10 million)\n",
      "        - RM       average number of rooms per dwelling\n",
      "        - AGE      proportion of owner-occupied units built prior to 1940\n",
      "        - DIS      weighted distances to five Boston employment centres\n",
      "        - RAD      index of accessibility to radial highways\n",
      "        - TAX      full-value property-tax rate per $10,000\n",
      "        - PTRATIO  pupil-teacher ratio by town\n",
      "        - B        1000(Bk - 0.63)^2 where Bk is the proportion of blacks by town\n",
      "        - LSTAT    % lower status of the population\n",
      "        - MEDV     Median value of owner-occupied homes in $1000's\n",
      "\n",
      "    :Missing Attribute Values: None\n",
      "\n",
      "    :Creator: Harrison, D. and Rubinfeld, D.L.\n",
      "\n",
      "This is a copy of UCI ML housing dataset.\n",
      "https://archive.ics.uci.edu/ml/machine-learning-databases/housing/\n",
      "\n",
      "\n",
      "This dataset was taken from the StatLib library which is maintained at Carnegie Mellon University.\n",
      "\n",
      "The Boston house-price data of Harrison, D. and Rubinfeld, D.L. 'Hedonic\n",
      "prices and the demand for clean air', J. Environ. Economics & Management,\n",
      "vol.5, 81-102, 1978.   Used in Belsley, Kuh & Welsch, 'Regression diagnostics\n",
      "...', Wiley, 1980.   N.B. Various transformations are used in the table on\n",
      "pages 244-261 of the latter.\n",
      "\n",
      "The Boston house-price data has been used in many machine learning papers that address regression\n",
      "problems.   \n",
      "     \n",
      ".. topic:: References\n",
      "\n",
      "   - Belsley, Kuh & Welsch, 'Regression diagnostics: Identifying Influential Data and Sources of Collinearity', Wiley, 1980. 244-261.\n",
      "   - Quinlan,R. (1993). Combining Instance-Based and Model-Based Learning. In Proceedings on the Tenth International Conference of Machine Learning, 236-243, University of Massachusetts, Amherst. Morgan Kaufmann.\n",
      "\n"
     ]
    }
   ],
   "source": [
    "# Stored the dataset in a variable, DS -dataset-\n",
    "DS = load_boston()\n",
    "# Dataset characteristics:\n",
    "print(DS.DESCR)"
   ]
  },
  {
   "cell_type": "markdown",
   "metadata": {},
   "source": [
    "---\n",
    "- Then there is 506 rows and 13 attributes other than the price median value (target). \n",
    "- This data was collected in 1978 and each of the 506 entries represents aggregate information about 14 features of homes from various suburbs located in Boston.\n",
    "- Now I create a pandas data frame to display the header of the table as a sample:"
   ]
  },
  {
   "cell_type": "code",
   "execution_count": 3,
   "metadata": {
    "scrolled": false
   },
   "outputs": [
    {
     "name": "stdout",
     "output_type": "stream",
     "text": [
      "(#rows, #columns): (506, 13)\n"
     ]
    },
    {
     "data": {
      "text/html": [
       "<div>\n",
       "<style scoped>\n",
       "    .dataframe tbody tr th:only-of-type {\n",
       "        vertical-align: middle;\n",
       "    }\n",
       "\n",
       "    .dataframe tbody tr th {\n",
       "        vertical-align: top;\n",
       "    }\n",
       "\n",
       "    .dataframe thead th {\n",
       "        text-align: right;\n",
       "    }\n",
       "</style>\n",
       "<table border=\"1\" class=\"dataframe\">\n",
       "  <thead>\n",
       "    <tr style=\"text-align: right;\">\n",
       "      <th></th>\n",
       "      <th>CRIM</th>\n",
       "      <th>ZN</th>\n",
       "      <th>INDUS</th>\n",
       "      <th>CHAS</th>\n",
       "      <th>NOX</th>\n",
       "      <th>RM</th>\n",
       "      <th>AGE</th>\n",
       "      <th>DIS</th>\n",
       "      <th>RAD</th>\n",
       "      <th>TAX</th>\n",
       "      <th>PTRATIO</th>\n",
       "      <th>B</th>\n",
       "      <th>LSTAT</th>\n",
       "      <th>MEDV</th>\n",
       "    </tr>\n",
       "  </thead>\n",
       "  <tbody>\n",
       "    <tr>\n",
       "      <th>1</th>\n",
       "      <td>0.00632</td>\n",
       "      <td>18.0</td>\n",
       "      <td>2.31</td>\n",
       "      <td>0.0</td>\n",
       "      <td>0.538</td>\n",
       "      <td>6.575</td>\n",
       "      <td>65.2</td>\n",
       "      <td>4.0900</td>\n",
       "      <td>1.0</td>\n",
       "      <td>296.0</td>\n",
       "      <td>15.3</td>\n",
       "      <td>396.90</td>\n",
       "      <td>4.98</td>\n",
       "      <td>24.0</td>\n",
       "    </tr>\n",
       "    <tr>\n",
       "      <th>2</th>\n",
       "      <td>0.02731</td>\n",
       "      <td>0.0</td>\n",
       "      <td>7.07</td>\n",
       "      <td>0.0</td>\n",
       "      <td>0.469</td>\n",
       "      <td>6.421</td>\n",
       "      <td>78.9</td>\n",
       "      <td>4.9671</td>\n",
       "      <td>2.0</td>\n",
       "      <td>242.0</td>\n",
       "      <td>17.8</td>\n",
       "      <td>396.90</td>\n",
       "      <td>9.14</td>\n",
       "      <td>21.6</td>\n",
       "    </tr>\n",
       "    <tr>\n",
       "      <th>3</th>\n",
       "      <td>0.02729</td>\n",
       "      <td>0.0</td>\n",
       "      <td>7.07</td>\n",
       "      <td>0.0</td>\n",
       "      <td>0.469</td>\n",
       "      <td>7.185</td>\n",
       "      <td>61.1</td>\n",
       "      <td>4.9671</td>\n",
       "      <td>2.0</td>\n",
       "      <td>242.0</td>\n",
       "      <td>17.8</td>\n",
       "      <td>392.83</td>\n",
       "      <td>4.03</td>\n",
       "      <td>34.7</td>\n",
       "    </tr>\n",
       "    <tr>\n",
       "      <th>4</th>\n",
       "      <td>0.03237</td>\n",
       "      <td>0.0</td>\n",
       "      <td>2.18</td>\n",
       "      <td>0.0</td>\n",
       "      <td>0.458</td>\n",
       "      <td>6.998</td>\n",
       "      <td>45.8</td>\n",
       "      <td>6.0622</td>\n",
       "      <td>3.0</td>\n",
       "      <td>222.0</td>\n",
       "      <td>18.7</td>\n",
       "      <td>394.63</td>\n",
       "      <td>2.94</td>\n",
       "      <td>33.4</td>\n",
       "    </tr>\n",
       "    <tr>\n",
       "      <th>5</th>\n",
       "      <td>0.06905</td>\n",
       "      <td>0.0</td>\n",
       "      <td>2.18</td>\n",
       "      <td>0.0</td>\n",
       "      <td>0.458</td>\n",
       "      <td>7.147</td>\n",
       "      <td>54.2</td>\n",
       "      <td>6.0622</td>\n",
       "      <td>3.0</td>\n",
       "      <td>222.0</td>\n",
       "      <td>18.7</td>\n",
       "      <td>396.90</td>\n",
       "      <td>5.33</td>\n",
       "      <td>36.2</td>\n",
       "    </tr>\n",
       "  </tbody>\n",
       "</table>\n",
       "</div>"
      ],
      "text/plain": [
       "      CRIM    ZN  INDUS  CHAS    NOX     RM   AGE     DIS  RAD    TAX  \\\n",
       "1  0.00632  18.0   2.31   0.0  0.538  6.575  65.2  4.0900  1.0  296.0   \n",
       "2  0.02731   0.0   7.07   0.0  0.469  6.421  78.9  4.9671  2.0  242.0   \n",
       "3  0.02729   0.0   7.07   0.0  0.469  7.185  61.1  4.9671  2.0  242.0   \n",
       "4  0.03237   0.0   2.18   0.0  0.458  6.998  45.8  6.0622  3.0  222.0   \n",
       "5  0.06905   0.0   2.18   0.0  0.458  7.147  54.2  6.0622  3.0  222.0   \n",
       "\n",
       "   PTRATIO       B  LSTAT  MEDV  \n",
       "1     15.3  396.90   4.98  24.0  \n",
       "2     17.8  396.90   9.14  21.6  \n",
       "3     17.8  392.83   4.03  34.7  \n",
       "4     18.7  394.63   2.94  33.4  \n",
       "5     18.7  396.90   5.33  36.2  "
      ]
     },
     "execution_count": 3,
     "metadata": {},
     "output_type": "execute_result"
    }
   ],
   "source": [
    "print('(#rows, #columns):', DS.data.shape) #shows count of rows and columns\n",
    "bhp = pd.DataFrame(DS.data, columns=DS.feature_names) # bhp stands for Boston house prices\n",
    "bhp.index += 1 #starting the index from 1 instead of 0 (first row is still indexed as 0)\n",
    "bhp['MEDV'] = DS.target # Adding prices -MEDV- to the table\n",
    "bhp.head() # .head() shows just the first five rows"
   ]
  },
  {
   "cell_type": "markdown",
   "metadata": {},
   "source": [
    "For a first glance there is an option to describe all the attributes of the dataset individually and visualize their distribution by twos. That is what the code from the cell below shows, it is commented because it takes a lot of space and much information returned is not revealing. Following, I will summarise the main features of the dataset but if you are curious enough you may want to uncomment the block and rerun the cell. "
   ]
  },
  {
   "cell_type": "code",
   "execution_count": 4,
   "metadata": {
    "scrolled": false
   },
   "outputs": [],
   "source": [
    "# # The pairplot function of seaborn draws scatterplots for joint relationships and histograms for univariate distributions\n",
    "# sns.pairplot(bhp)\n",
    "# plt.show()\n",
    "# # shows count, mean, std, min, 25%, 50%, 75% and max of all attributes \n",
    "# bhp.describe().T # .describe() shows count, mean, std, min, 25%, 50%, 75% and max.T switches position of headers and first column just for a better fit of the table on the page"
   ]
  },
  {
   "cell_type": "markdown",
   "metadata": {},
   "source": [
    "- Making sure that all the values are floats and check if any of them are missing:"
   ]
  },
  {
   "cell_type": "code",
   "execution_count": 5,
   "metadata": {},
   "outputs": [
    {
     "data": {
      "text/plain": [
       "CRIM       float64\n",
       "ZN         float64\n",
       "INDUS      float64\n",
       "CHAS       float64\n",
       "NOX        float64\n",
       "RM         float64\n",
       "AGE        float64\n",
       "DIS        float64\n",
       "RAD        float64\n",
       "TAX        float64\n",
       "PTRATIO    float64\n",
       "B          float64\n",
       "LSTAT      float64\n",
       "MEDV       float64\n",
       "dtype: object"
      ]
     },
     "execution_count": 5,
     "metadata": {},
     "output_type": "execute_result"
    }
   ],
   "source": [
    "bhp.dtypes"
   ]
  },
  {
   "cell_type": "code",
   "execution_count": 6,
   "metadata": {
    "scrolled": false
   },
   "outputs": [
    {
     "data": {
      "text/plain": [
       "CRIM       0\n",
       "ZN         0\n",
       "INDUS      0\n",
       "CHAS       0\n",
       "NOX        0\n",
       "RM         0\n",
       "AGE        0\n",
       "DIS        0\n",
       "RAD        0\n",
       "TAX        0\n",
       "PTRATIO    0\n",
       "B          0\n",
       "LSTAT      0\n",
       "MEDV       0\n",
       "dtype: int64"
      ]
     },
     "execution_count": 6,
     "metadata": {},
     "output_type": "execute_result"
    }
   ],
   "source": [
    "bhp.isnull().sum()"
   ]
  },
  {
   "cell_type": "markdown",
   "metadata": {},
   "source": [
    "- All are floats and there is no missing values.\n",
    "- The main atribute, which this notebook focuses on, is the price of the houses (__MEDV__, median value of the price in $1000's)\n"
   ]
  },
  {
   "cell_type": "code",
   "execution_count": 7,
   "metadata": {
    "scrolled": true
   },
   "outputs": [
    {
     "data": {
      "image/png": "[encoded data removed]",
      "text/plain": [
       "<Figure size 432x288 with 1 Axes>"
      ]
     },
     "metadata": {
      "needs_background": "light"
     },
     "output_type": "display_data"
    }
   ],
   "source": [
    "# Histogram of the price attribute\n",
    "sns.distplot(bhp['MEDV']) # Passing the MEDV -price- column to the distplot() function of seaborn\n",
    "plt.show()"
   ]
  },
  {
   "cell_type": "markdown",
   "metadata": {},
   "source": [
    "- It shows the typical bell-like shape which charaterises the normal distribution. There is more observations concentrated on the smaller range side (left) with an outstanding rise on the highest price side (right). There seemed to be, back then, a paralell high-end market totally independent of the rest of the market. Perhaps this range of price was wider than the others.\n",
    "\n",
    "And the figures below represent the shape of the bell: 75% of the values are up to 25.00, which is near the mean (22.53) and the 25% remider until 50.00, reason why the shape of the right tale is smoother."
   ]
  },
  {
   "cell_type": "code",
   "execution_count": 8,
   "metadata": {},
   "outputs": [
    {
     "data": {
      "text/plain": [
       "count    506.000000\n",
       "mean      22.532806\n",
       "std        9.197104\n",
       "min        5.000000\n",
       "25%       17.025000\n",
       "50%       21.200000\n",
       "75%       25.000000\n",
       "max       50.000000\n",
       "Name: MEDV, dtype: float64"
      ]
     },
     "execution_count": 8,
     "metadata": {},
     "output_type": "execute_result"
    }
   ],
   "source": [
    "# Data exploration\n",
    "bhp['MEDV'].describe() # Description of the price -MEDV- column"
   ]
  },
  {
   "cell_type": "markdown",
   "metadata": {},
   "source": [
    "- There is a <u>moderate to strong linear correlation</u> between price (__MEDV__) and number of rooms (__RM__) with a correlation coefficient of 0.69. "
   ]
  },
  {
   "cell_type": "code",
   "execution_count": 9,
   "metadata": {},
   "outputs": [
    {
     "data": {
      "text/plain": [
       "0.695359947071539"
      ]
     },
     "execution_count": 9,
     "metadata": {},
     "output_type": "execute_result"
    }
   ],
   "source": [
    "bhp['RM'].corr(bhp['MEDV'])"
   ]
  },
  {
   "cell_type": "markdown",
   "metadata": {},
   "source": [
    "The plot suggests the existence of a linear correlation despite the presence of some outliers. Now I will plot it along with its regression line in red:"
   ]
  },
  {
   "cell_type": "code",
   "execution_count": 10,
   "metadata": {
    "scrolled": false
   },
   "outputs": [
    {
     "name": "stdout",
     "output_type": "stream",
     "text": [
      "m = 9.1021; c = -34.6706\n"
     ]
    },
    {
     "data": {
      "image/png": "[encoded data removed]",
      "text/plain": [
       "<Figure size 432x288 with 1 Axes>"
      ]
     },
     "metadata": {
      "needs_background": "light"
     },
     "output_type": "display_data"
    }
   ],
   "source": [
    "# plotting both variables with small black dots \n",
    "plt.plot(bhp['RM'],bhp['MEDV'], 'k,')\n",
    "# getting the parameters from the regression line that best fit these pair of coordinates\n",
    "m, c = np.polyfit(bhp['RM'], bhp['MEDV'], 1)\n",
    "print('m = %.4f; c = %.4f' %(m,c)) # %.4f to show just 4 decimal points\n",
    "# drawing the regression line in red\n",
    "plt.plot(bhp['RM'], m * bhp['RM'] + c, 'r', linewidth=0.5)\n",
    "# setting axes labels\n",
    "plt.xlabel('RM', fontsize=18)\n",
    "plt.ylabel('MEDV', fontsize=18)\n",
    "plt.show()"
   ]
  },
  {
   "cell_type": "markdown",
   "metadata": {},
   "source": [
    "Then the function that defines this linear correlation is:\n",
    "\n",
    "$$ MEDV = 9.1\\times LSTAT - 34.67 $$\n"
   ]
  },
  {
   "cell_type": "markdown",
   "metadata": {},
   "source": [
    "- And this correlation between price and number of rooms tends to be the rule in practice.\n",
    "- Also there is a <u>moderate to strong negative linear correlation</u> with a coefficient of -0.74 between price (__MEDV__) and the proportion of population with limited resources (__LSTAT__). This is, the greater proportion of this population, the lower the price is.\n",
    "- However when plotting this two ocurrences I do not see a linear relation, but a quadratic or even an asymptotic-like one:"
   ]
  },
  {
   "cell_type": "code",
   "execution_count": 11,
   "metadata": {
    "scrolled": false
   },
   "outputs": [
    {
     "name": "stdout",
     "output_type": "stream",
     "text": [
      "m = 0.0435; n = -2.3328; c = 42.8620\n"
     ]
    },
    {
     "data": {
      "image/png": "[encoded data removed]",
      "text/plain": [
       "<Figure size 432x288 with 1 Axes>"
      ]
     },
     "metadata": {
      "needs_background": "light"
     },
     "output_type": "display_data"
    }
   ],
   "source": [
    "# plotting both variables with small blue dots \n",
    "plt.plot(bhp['LSTAT'],bhp['MEDV'], 'b,')\n",
    "# getting the parameters from the regression line that best fit these pair of coordinates\n",
    "m, n, c = np.polyfit(bhp['LSTAT'], bhp['MEDV'], 2)\n",
    "# drawing the regression line in red\n",
    "plt.plot(bhp['LSTAT'], m*bhp['LSTAT']**2 + n * bhp['LSTAT'] + c, 'r-', linewidth=0.02)\n",
    "# setting axes labels\n",
    "plt.xlabel('LSTAT', fontsize=18)\n",
    "plt.ylabel('MEDV', fontsize=18)\n",
    "print('m = %.4f; n = %.4f; c = %.4f' %(m,n,c)) # %.4f to show just 4 decimal points"
   ]
  },
  {
   "cell_type": "markdown",
   "metadata": {},
   "source": [
    "And the function that defines this quadratic correlation is:\n",
    "\n",
    "$$ MEDV = 0.04\\times LSTAT^2 - 2.33\\times LSTAT + 42.86$$"
   ]
  },
  {
   "cell_type": "markdown",
   "metadata": {},
   "source": [
    "And this fact leads me to check the distribution of the population:"
   ]
  },
  {
   "cell_type": "code",
   "execution_count": 12,
   "metadata": {
    "scrolled": true
   },
   "outputs": [
    {
     "data": {
      "image/png": "[encoded data removed]",
      "text/plain": [
       "<Figure size 432x288 with 1 Axes>"
      ]
     },
     "metadata": {
      "needs_background": "light"
     },
     "output_type": "display_data"
    }
   ],
   "source": [
    "sns.distplot(bhp[\"LSTAT\"]) # Passing the LSTAT column to the distplot() function of seaborn\n",
    "plt.show()"
   ]
  },
  {
   "cell_type": "markdown",
   "metadata": {},
   "source": [
    "We see that LSTAT also has a normal distribution and is skweded right as most of the occurences gather on the left side, where there is lower percentage of population with lower status. For this reason the right tale is longer. \n",
    "\n",
    "Tipically, the mean is larger than the median. Let's see the figures:"
   ]
  },
  {
   "cell_type": "code",
   "execution_count": 13,
   "metadata": {},
   "outputs": [
    {
     "data": {
      "text/plain": [
       "11.36"
      ]
     },
     "execution_count": 13,
     "metadata": {},
     "output_type": "execute_result"
    }
   ],
   "source": [
    "np.median(bhp['LSTAT'])"
   ]
  },
  {
   "cell_type": "code",
   "execution_count": 14,
   "metadata": {},
   "outputs": [
    {
     "data": {
      "text/plain": [
       "count    506.000000\n",
       "mean      12.653063\n",
       "std        7.141062\n",
       "min        1.730000\n",
       "25%        6.950000\n",
       "50%       11.360000\n",
       "75%       16.955000\n",
       "max       37.970000\n",
       "Name: LSTAT, dtype: float64"
      ]
     },
     "execution_count": 14,
     "metadata": {},
     "output_type": "execute_result"
    }
   ],
   "source": [
    "bhp['LSTAT'].describe()"
   ]
  },
  {
   "cell_type": "markdown",
   "metadata": {},
   "source": [
    "And the mean is greater than the median indeed. Also according to the right-skewed feature mentioned, the 75% of the areas studied have up to a 17% -roughly- of population with lower status when the maximum value is nearly 40%, which is over double. This is, between the minimum and maximum values measured (1.7% and 37.9%), three quarters of them (75%) are gathered below the 17%. \n",
    "\n",
    "Similarly, CRIM, DIS and NOX follow a normal distribution skewed right, and on the contrary AGE and PTRATIO are skewed left with their corresponding oposite features. In order to show an example I will plot PTRATIO:"
   ]
  },
  {
   "cell_type": "code",
   "execution_count": 15,
   "metadata": {
    "scrolled": true
   },
   "outputs": [
    {
     "data": {
      "image/png": "[encoded data removed]",
      "text/plain": [
       "<Figure size 432x288 with 1 Axes>"
      ]
     },
     "metadata": {
      "needs_background": "light"
     },
     "output_type": "display_data"
    }
   ],
   "source": [
    "sns.distplot(bhp[\"PTRATIO\"])\n",
    "plt.show()\n",
    "# pupil-teacher ratio by town"
   ]
  },
  {
   "cell_type": "markdown",
   "metadata": {},
   "source": [
    "And finally INDUS, RAD and TAX have a bimodal distribution with two peaks each. They have two data ranges that appear most often in the dataset giving it this particular shape, like two bells close to each other. As a sample I will plot INDUS where there is two clear tendencies, towns with around 5% of non-retail business acres, or else towns with around 17% of non-retail acres. It would be interesting to look into the observances of these two peaks, check their other attributes to, on a latter stage, compare them between themselvesand between the other segments of the distribution."
   ]
  },
  {
   "cell_type": "code",
   "execution_count": 16,
   "metadata": {
    "scrolled": true
   },
   "outputs": [
    {
     "data": {
      "image/png": "[encoded data removed]",
      "text/plain": [
       "<Figure size 432x288 with 1 Axes>"
      ]
     },
     "metadata": {
      "needs_background": "light"
     },
     "output_type": "display_data"
    }
   ],
   "source": [
    "sns.distplot(bhp[\"INDUS\"])\n",
    "plt.show()"
   ]
  },
  {
   "cell_type": "markdown",
   "metadata": {},
   "source": [
    "Same as before, feel free to uncomment the cell below if you would like to see the histograms of all the varialbes"
   ]
  },
  {
   "cell_type": "code",
   "execution_count": 17,
   "metadata": {},
   "outputs": [],
   "source": [
    "# for x in bhp.columns: # for loop to iterate through all of the columns -attributes- and plot their histogram\n",
    "#     sns.distplot(bhp[x])\n",
    "#     plt.show()"
   ]
  },
  {
   "cell_type": "markdown",
   "metadata": {},
   "source": [
    "- It is also worth mentioning that I left CHAR aside since it is a categorical variable, equivalent to True and False depending on whether or not the houses are on the river bank. This is encoded in the dataset as 1 and 0 respectively which is convenient for later on when this variable will be handled by a neural network."
   ]
  },
  {
   "cell_type": "code",
   "execution_count": 18,
   "metadata": {
    "scrolled": true
   },
   "outputs": [
    {
     "data": {
      "text/html": [
       "<div>\n",
       "<style scoped>\n",
       "    .dataframe tbody tr th:only-of-type {\n",
       "        vertical-align: middle;\n",
       "    }\n",
       "\n",
       "    .dataframe tbody tr th {\n",
       "        vertical-align: top;\n",
       "    }\n",
       "\n",
       "    .dataframe thead th {\n",
       "        text-align: right;\n",
       "    }\n",
       "</style>\n",
       "<table border=\"1\" class=\"dataframe\">\n",
       "  <thead>\n",
       "    <tr style=\"text-align: right;\">\n",
       "      <th></th>\n",
       "      <th>count</th>\n",
       "      <th>mean</th>\n",
       "      <th>std</th>\n",
       "      <th>min</th>\n",
       "      <th>25%</th>\n",
       "      <th>50%</th>\n",
       "      <th>75%</th>\n",
       "      <th>max</th>\n",
       "    </tr>\n",
       "  </thead>\n",
       "  <tbody>\n",
       "    <tr>\n",
       "      <th>CRIM</th>\n",
       "      <td>506.0</td>\n",
       "      <td>3.613524</td>\n",
       "      <td>8.601545</td>\n",
       "      <td>0.00632</td>\n",
       "      <td>0.082045</td>\n",
       "      <td>0.25651</td>\n",
       "      <td>3.677083</td>\n",
       "      <td>88.9762</td>\n",
       "    </tr>\n",
       "    <tr>\n",
       "      <th>ZN</th>\n",
       "      <td>506.0</td>\n",
       "      <td>11.363636</td>\n",
       "      <td>23.322453</td>\n",
       "      <td>0.00000</td>\n",
       "      <td>0.000000</td>\n",
       "      <td>0.00000</td>\n",
       "      <td>12.500000</td>\n",
       "      <td>100.0000</td>\n",
       "    </tr>\n",
       "    <tr>\n",
       "      <th>INDUS</th>\n",
       "      <td>506.0</td>\n",
       "      <td>11.136779</td>\n",
       "      <td>6.860353</td>\n",
       "      <td>0.46000</td>\n",
       "      <td>5.190000</td>\n",
       "      <td>9.69000</td>\n",
       "      <td>18.100000</td>\n",
       "      <td>27.7400</td>\n",
       "    </tr>\n",
       "    <tr>\n",
       "      <th>CHAS</th>\n",
       "      <td>506.0</td>\n",
       "      <td>0.069170</td>\n",
       "      <td>0.253994</td>\n",
       "      <td>0.00000</td>\n",
       "      <td>0.000000</td>\n",
       "      <td>0.00000</td>\n",
       "      <td>0.000000</td>\n",
       "      <td>1.0000</td>\n",
       "    </tr>\n",
       "    <tr>\n",
       "      <th>NOX</th>\n",
       "      <td>506.0</td>\n",
       "      <td>0.554695</td>\n",
       "      <td>0.115878</td>\n",
       "      <td>0.38500</td>\n",
       "      <td>0.449000</td>\n",
       "      <td>0.53800</td>\n",
       "      <td>0.624000</td>\n",
       "      <td>0.8710</td>\n",
       "    </tr>\n",
       "    <tr>\n",
       "      <th>RM</th>\n",
       "      <td>506.0</td>\n",
       "      <td>6.284634</td>\n",
       "      <td>0.702617</td>\n",
       "      <td>3.56100</td>\n",
       "      <td>5.885500</td>\n",
       "      <td>6.20850</td>\n",
       "      <td>6.623500</td>\n",
       "      <td>8.7800</td>\n",
       "    </tr>\n",
       "    <tr>\n",
       "      <th>AGE</th>\n",
       "      <td>506.0</td>\n",
       "      <td>68.574901</td>\n",
       "      <td>28.148861</td>\n",
       "      <td>2.90000</td>\n",
       "      <td>45.025000</td>\n",
       "      <td>77.50000</td>\n",
       "      <td>94.075000</td>\n",
       "      <td>100.0000</td>\n",
       "    </tr>\n",
       "    <tr>\n",
       "      <th>DIS</th>\n",
       "      <td>506.0</td>\n",
       "      <td>3.795043</td>\n",
       "      <td>2.105710</td>\n",
       "      <td>1.12960</td>\n",
       "      <td>2.100175</td>\n",
       "      <td>3.20745</td>\n",
       "      <td>5.188425</td>\n",
       "      <td>12.1265</td>\n",
       "    </tr>\n",
       "    <tr>\n",
       "      <th>RAD</th>\n",
       "      <td>506.0</td>\n",
       "      <td>9.549407</td>\n",
       "      <td>8.707259</td>\n",
       "      <td>1.00000</td>\n",
       "      <td>4.000000</td>\n",
       "      <td>5.00000</td>\n",
       "      <td>24.000000</td>\n",
       "      <td>24.0000</td>\n",
       "    </tr>\n",
       "    <tr>\n",
       "      <th>TAX</th>\n",
       "      <td>506.0</td>\n",
       "      <td>408.237154</td>\n",
       "      <td>168.537116</td>\n",
       "      <td>187.00000</td>\n",
       "      <td>279.000000</td>\n",
       "      <td>330.00000</td>\n",
       "      <td>666.000000</td>\n",
       "      <td>711.0000</td>\n",
       "    </tr>\n",
       "    <tr>\n",
       "      <th>PTRATIO</th>\n",
       "      <td>506.0</td>\n",
       "      <td>18.455534</td>\n",
       "      <td>2.164946</td>\n",
       "      <td>12.60000</td>\n",
       "      <td>17.400000</td>\n",
       "      <td>19.05000</td>\n",
       "      <td>20.200000</td>\n",
       "      <td>22.0000</td>\n",
       "    </tr>\n",
       "    <tr>\n",
       "      <th>B</th>\n",
       "      <td>506.0</td>\n",
       "      <td>356.674032</td>\n",
       "      <td>91.294864</td>\n",
       "      <td>0.32000</td>\n",
       "      <td>375.377500</td>\n",
       "      <td>391.44000</td>\n",
       "      <td>396.225000</td>\n",
       "      <td>396.9000</td>\n",
       "    </tr>\n",
       "    <tr>\n",
       "      <th>LSTAT</th>\n",
       "      <td>506.0</td>\n",
       "      <td>12.653063</td>\n",
       "      <td>7.141062</td>\n",
       "      <td>1.73000</td>\n",
       "      <td>6.950000</td>\n",
       "      <td>11.36000</td>\n",
       "      <td>16.955000</td>\n",
       "      <td>37.9700</td>\n",
       "    </tr>\n",
       "    <tr>\n",
       "      <th>MEDV</th>\n",
       "      <td>506.0</td>\n",
       "      <td>22.532806</td>\n",
       "      <td>9.197104</td>\n",
       "      <td>5.00000</td>\n",
       "      <td>17.025000</td>\n",
       "      <td>21.20000</td>\n",
       "      <td>25.000000</td>\n",
       "      <td>50.0000</td>\n",
       "    </tr>\n",
       "  </tbody>\n",
       "</table>\n",
       "</div>"
      ],
      "text/plain": [
       "         count        mean         std        min         25%        50%  \\\n",
       "CRIM     506.0    3.613524    8.601545    0.00632    0.082045    0.25651   \n",
       "ZN       506.0   11.363636   23.322453    0.00000    0.000000    0.00000   \n",
       "INDUS    506.0   11.136779    6.860353    0.46000    5.190000    9.69000   \n",
       "CHAS     506.0    0.069170    0.253994    0.00000    0.000000    0.00000   \n",
       "NOX      506.0    0.554695    0.115878    0.38500    0.449000    0.53800   \n",
       "RM       506.0    6.284634    0.702617    3.56100    5.885500    6.20850   \n",
       "AGE      506.0   68.574901   28.148861    2.90000   45.025000   77.50000   \n",
       "DIS      506.0    3.795043    2.105710    1.12960    2.100175    3.20745   \n",
       "RAD      506.0    9.549407    8.707259    1.00000    4.000000    5.00000   \n",
       "TAX      506.0  408.237154  168.537116  187.00000  279.000000  330.00000   \n",
       "PTRATIO  506.0   18.455534    2.164946   12.60000   17.400000   19.05000   \n",
       "B        506.0  356.674032   91.294864    0.32000  375.377500  391.44000   \n",
       "LSTAT    506.0   12.653063    7.141062    1.73000    6.950000   11.36000   \n",
       "MEDV     506.0   22.532806    9.197104    5.00000   17.025000   21.20000   \n",
       "\n",
       "                75%       max  \n",
       "CRIM       3.677083   88.9762  \n",
       "ZN        12.500000  100.0000  \n",
       "INDUS     18.100000   27.7400  \n",
       "CHAS       0.000000    1.0000  \n",
       "NOX        0.624000    0.8710  \n",
       "RM         6.623500    8.7800  \n",
       "AGE       94.075000  100.0000  \n",
       "DIS        5.188425   12.1265  \n",
       "RAD       24.000000   24.0000  \n",
       "TAX      666.000000  711.0000  \n",
       "PTRATIO   20.200000   22.0000  \n",
       "B        396.225000  396.9000  \n",
       "LSTAT     16.955000   37.9700  \n",
       "MEDV      25.000000   50.0000  "
      ]
     },
     "execution_count": 18,
     "metadata": {},
     "output_type": "execute_result"
    }
   ],
   "source": [
    "# Data exploration\n",
    "bhp.describe().T"
   ]
  },
  {
   "cell_type": "markdown",
   "metadata": {},
   "source": [
    "# Inference"
   ]
  },
  {
   "cell_type": "markdown",
   "metadata": {},
   "source": [
    "Here I will try to show if there is a significant difference in median house prices between houses that are along the Charles river and those that aren’t. For this analysis I am going to create two arrays which hold the values of the price from houses located on the river bank (where column CHAS is 1) and a different array that contains the price of the properties away from it (where column CHAS is 0)"
   ]
  },
  {
   "cell_type": "code",
   "execution_count": 19,
   "metadata": {},
   "outputs": [
    {
     "name": "stdout",
     "output_type": "stream",
     "text": [
      "35  - mean =  28.439999999999998  - NotBank length =  471  - mean =  22.093842887473464\n",
      "Ttest_indResult(statistic=3.996437466090509, pvalue=7.390623170519905e-05)\n"
     ]
    }
   ],
   "source": [
    "# Creating two arrays which contain the MEDV values from properties on the river bank and away from it:\n",
    "Bank = []\n",
    "NotBank = []\n",
    "\n",
    "# for loop to iterate row after row along the data frame:\n",
    "for index, row in bhp.iterrows():\n",
    "    if (row['CHAS'] == 0):\n",
    "        NotBank.append(row['MEDV'])\n",
    "    else:\n",
    "        # CHAS values are either 0 or 1 so this else statement only considers the ones.\n",
    "        Bank.append(row['MEDV'])\n",
    "        \n",
    "ttest = stats.ttest_ind(Bank, NotBank)\n",
    "\n",
    "print(len(Bank), ' - mean = ', np.mean(Bank), ' - NotBank length = ', len(NotBank), ' - mean = ', np.mean(NotBank))\n",
    "\n",
    "print(ttest)"
   ]
  },
  {
   "cell_type": "markdown",
   "metadata": {},
   "source": [
    "Then pvalue is 7.4 x 10<sup>-5</sup>, with such low probability I can reject the null hypothesis and consider the medians of the price differ significantly."
   ]
  },
  {
   "cell_type": "code",
   "execution_count": 20,
   "metadata": {
    "scrolled": false
   },
   "outputs": [
    {
     "data": {
      "image/png": "[encoded data removed]",
      "text/plain": [
       "<Figure size 432x288 with 1 Axes>"
      ]
     },
     "metadata": {
      "needs_background": "light"
     },
     "output_type": "display_data"
    }
   ],
   "source": [
    "#sns.distplot(Bank)\n",
    "#sns.distplot(NotBank)\n",
    "\n",
    "# Plot histograms of the two samples.\n",
    "plt.hist(Bank, density=True, color='g', alpha=0.25, label=\"Sample A\")\n",
    "plt.hist(NotBank, density=True, color='b', alpha=0.25, label=\"Sample B\")\n",
    "\n",
    "plt.show()"
   ]
  },
  {
   "cell_type": "code",
   "execution_count": 21,
   "metadata": {
    "scrolled": true
   },
   "outputs": [
    {
     "name": "stdout",
     "output_type": "stream",
     "text": [
      "135.64354285714285\n"
     ]
    },
    {
     "data": {
      "text/plain": [
       "77.8273718564197"
      ]
     },
     "execution_count": 21,
     "metadata": {},
     "output_type": "execute_result"
    }
   ],
   "source": [
    "print(np.var(Bank))\n",
    "np.var(NotBank)"
   ]
  },
  {
   "cell_type": "code",
   "execution_count": 22,
   "metadata": {
    "scrolled": true
   },
   "outputs": [
    {
     "data": {
      "image/png": "[encoded data removed]",
      "text/plain": [
       "<Figure size 432x288 with 1 Axes>"
      ]
     },
     "metadata": {
      "needs_background": "light"
     },
     "output_type": "display_data"
    }
   ],
   "source": [
    "sns.distplot(bhp['MEDV']) \n",
    "\n",
    "plt.show()"
   ]
  },
  {
   "cell_type": "code",
   "execution_count": 23,
   "metadata": {},
   "outputs": [
    {
     "name": "stdout",
     "output_type": "stream",
     "text": [
      "On the river bank 6 values out of 35 are 50, whereas away from it, just 10 out of 471\n"
     ]
    }
   ],
   "source": [
    "print('On the river bank',Bank.count(50), 'values out of',len(Bank), 'are 50,', 'whereas away from it, just', NotBank.count(50), 'out of',len(NotBank))"
   ]
  },
  {
   "cell_type": "code",
   "execution_count": 24,
   "metadata": {},
   "outputs": [
    {
     "data": {
      "text/plain": [
       "10"
      ]
     },
     "execution_count": 24,
     "metadata": {},
     "output_type": "execute_result"
    }
   ],
   "source": [
    "NotBank.count(50)"
   ]
  },
  {
   "cell_type": "code",
   "execution_count": 25,
   "metadata": {},
   "outputs": [
    {
     "data": {
      "text/plain": [
       "F_onewayResult(statistic=15.971512420371962, pvalue=7.390623170520815e-05)"
      ]
     },
     "execution_count": 25,
     "metadata": {},
     "output_type": "execute_result"
    }
   ],
   "source": [
    "stats.f_oneway(Bank,NotBank)"
   ]
  },
  {
   "cell_type": "code",
   "execution_count": 26,
   "metadata": {
    "scrolled": true
   },
   "outputs": [],
   "source": [
    "# sns.distplot(bhp[\"RM\"])\n",
    "# plt.show()\n",
    "# # average number of rooms per dwelling"
   ]
  },
  {
   "cell_type": "markdown",
   "metadata": {},
   "source": [
    "# Prediction\n",
    "\n",
    "In order to predict the price of a house according to some attributes input I will configure a neural network with keras. \n",
    "VARIATIONS: \n",
    "- attributes chosen\n",
    "- test_size=0.3\n",
    "- number of neuron layers\n",
    "- number of neuron layers\n",
    "- activation functions: tanh, relu, \n",
    "- loss='mean_squared_error', not many variations possible\n",
    "- optimizer='sgd'or 'adam'"
   ]
  },
  {
   "cell_type": "code",
   "execution_count": 57,
   "metadata": {},
   "outputs": [
    {
     "data": {
      "text/html": [
       "<div>\n",
       "<style scoped>\n",
       "    .dataframe tbody tr th:only-of-type {\n",
       "        vertical-align: middle;\n",
       "    }\n",
       "\n",
       "    .dataframe tbody tr th {\n",
       "        vertical-align: top;\n",
       "    }\n",
       "\n",
       "    .dataframe thead th {\n",
       "        text-align: right;\n",
       "    }\n",
       "</style>\n",
       "<table border=\"1\" class=\"dataframe\">\n",
       "  <thead>\n",
       "    <tr style=\"text-align: right;\">\n",
       "      <th></th>\n",
       "      <th>CRIM</th>\n",
       "      <th>INDUS</th>\n",
       "      <th>CHAS</th>\n",
       "      <th>NOX</th>\n",
       "      <th>RM</th>\n",
       "      <th>DIS</th>\n",
       "      <th>RAD</th>\n",
       "      <th>TAX</th>\n",
       "      <th>PTRATIO</th>\n",
       "    </tr>\n",
       "  </thead>\n",
       "  <tbody>\n",
       "    <tr>\n",
       "      <th>1</th>\n",
       "      <td>0.00632</td>\n",
       "      <td>2.31</td>\n",
       "      <td>0.0</td>\n",
       "      <td>0.538</td>\n",
       "      <td>6.575</td>\n",
       "      <td>4.0900</td>\n",
       "      <td>1.0</td>\n",
       "      <td>296.0</td>\n",
       "      <td>15.3</td>\n",
       "    </tr>\n",
       "    <tr>\n",
       "      <th>2</th>\n",
       "      <td>0.02731</td>\n",
       "      <td>7.07</td>\n",
       "      <td>0.0</td>\n",
       "      <td>0.469</td>\n",
       "      <td>6.421</td>\n",
       "      <td>4.9671</td>\n",
       "      <td>2.0</td>\n",
       "      <td>242.0</td>\n",
       "      <td>17.8</td>\n",
       "    </tr>\n",
       "    <tr>\n",
       "      <th>3</th>\n",
       "      <td>0.02729</td>\n",
       "      <td>7.07</td>\n",
       "      <td>0.0</td>\n",
       "      <td>0.469</td>\n",
       "      <td>7.185</td>\n",
       "      <td>4.9671</td>\n",
       "      <td>2.0</td>\n",
       "      <td>242.0</td>\n",
       "      <td>17.8</td>\n",
       "    </tr>\n",
       "    <tr>\n",
       "      <th>4</th>\n",
       "      <td>0.03237</td>\n",
       "      <td>2.18</td>\n",
       "      <td>0.0</td>\n",
       "      <td>0.458</td>\n",
       "      <td>6.998</td>\n",
       "      <td>6.0622</td>\n",
       "      <td>3.0</td>\n",
       "      <td>222.0</td>\n",
       "      <td>18.7</td>\n",
       "    </tr>\n",
       "    <tr>\n",
       "      <th>5</th>\n",
       "      <td>0.06905</td>\n",
       "      <td>2.18</td>\n",
       "      <td>0.0</td>\n",
       "      <td>0.458</td>\n",
       "      <td>7.147</td>\n",
       "      <td>6.0622</td>\n",
       "      <td>3.0</td>\n",
       "      <td>222.0</td>\n",
       "      <td>18.7</td>\n",
       "    </tr>\n",
       "    <tr>\n",
       "      <th>...</th>\n",
       "      <td>...</td>\n",
       "      <td>...</td>\n",
       "      <td>...</td>\n",
       "      <td>...</td>\n",
       "      <td>...</td>\n",
       "      <td>...</td>\n",
       "      <td>...</td>\n",
       "      <td>...</td>\n",
       "      <td>...</td>\n",
       "    </tr>\n",
       "    <tr>\n",
       "      <th>502</th>\n",
       "      <td>0.06263</td>\n",
       "      <td>11.93</td>\n",
       "      <td>0.0</td>\n",
       "      <td>0.573</td>\n",
       "      <td>6.593</td>\n",
       "      <td>2.4786</td>\n",
       "      <td>1.0</td>\n",
       "      <td>273.0</td>\n",
       "      <td>21.0</td>\n",
       "    </tr>\n",
       "    <tr>\n",
       "      <th>503</th>\n",
       "      <td>0.04527</td>\n",
       "      <td>11.93</td>\n",
       "      <td>0.0</td>\n",
       "      <td>0.573</td>\n",
       "      <td>6.120</td>\n",
       "      <td>2.2875</td>\n",
       "      <td>1.0</td>\n",
       "      <td>273.0</td>\n",
       "      <td>21.0</td>\n",
       "    </tr>\n",
       "    <tr>\n",
       "      <th>504</th>\n",
       "      <td>0.06076</td>\n",
       "      <td>11.93</td>\n",
       "      <td>0.0</td>\n",
       "      <td>0.573</td>\n",
       "      <td>6.976</td>\n",
       "      <td>2.1675</td>\n",
       "      <td>1.0</td>\n",
       "      <td>273.0</td>\n",
       "      <td>21.0</td>\n",
       "    </tr>\n",
       "    <tr>\n",
       "      <th>505</th>\n",
       "      <td>0.10959</td>\n",
       "      <td>11.93</td>\n",
       "      <td>0.0</td>\n",
       "      <td>0.573</td>\n",
       "      <td>6.794</td>\n",
       "      <td>2.3889</td>\n",
       "      <td>1.0</td>\n",
       "      <td>273.0</td>\n",
       "      <td>21.0</td>\n",
       "    </tr>\n",
       "    <tr>\n",
       "      <th>506</th>\n",
       "      <td>0.04741</td>\n",
       "      <td>11.93</td>\n",
       "      <td>0.0</td>\n",
       "      <td>0.573</td>\n",
       "      <td>6.030</td>\n",
       "      <td>2.5050</td>\n",
       "      <td>1.0</td>\n",
       "      <td>273.0</td>\n",
       "      <td>21.0</td>\n",
       "    </tr>\n",
       "  </tbody>\n",
       "</table>\n",
       "<p>506 rows × 9 columns</p>\n",
       "</div>"
      ],
      "text/plain": [
       "        CRIM  INDUS  CHAS    NOX     RM     DIS  RAD    TAX  PTRATIO\n",
       "1    0.00632   2.31   0.0  0.538  6.575  4.0900  1.0  296.0     15.3\n",
       "2    0.02731   7.07   0.0  0.469  6.421  4.9671  2.0  242.0     17.8\n",
       "3    0.02729   7.07   0.0  0.469  7.185  4.9671  2.0  242.0     17.8\n",
       "4    0.03237   2.18   0.0  0.458  6.998  6.0622  3.0  222.0     18.7\n",
       "5    0.06905   2.18   0.0  0.458  7.147  6.0622  3.0  222.0     18.7\n",
       "..       ...    ...   ...    ...    ...     ...  ...    ...      ...\n",
       "502  0.06263  11.93   0.0  0.573  6.593  2.4786  1.0  273.0     21.0\n",
       "503  0.04527  11.93   0.0  0.573  6.120  2.2875  1.0  273.0     21.0\n",
       "504  0.06076  11.93   0.0  0.573  6.976  2.1675  1.0  273.0     21.0\n",
       "505  0.10959  11.93   0.0  0.573  6.794  2.3889  1.0  273.0     21.0\n",
       "506  0.04741  11.93   0.0  0.573  6.030  2.5050  1.0  273.0     21.0\n",
       "\n",
       "[506 rows x 9 columns]"
      ]
     },
     "execution_count": 57,
     "metadata": {},
     "output_type": "execute_result"
    }
   ],
   "source": [
    "# Separate the inputs from the rest of the variables.\n",
    "inputs = bhp[['CRIM','INDUS','CHAS','NOX','RM','DIS','RAD','TAX','PTRATIO']]\n",
    "outputs = bhp[['MEDV']]\n",
    "inputs"
   ]
  },
  {
   "cell_type": "code",
   "execution_count": 58,
   "metadata": {},
   "outputs": [],
   "source": [
    "# Split the inputs and outputs into training and test sets. Standard way of training neural network tests. Training network on 70% of the data set and the 30% for testing -test_size=0.3-. Eventually train it on the whole dataset\n",
    "inputs_train, inputs_test, outputs_train, outputs_test = mod.train_test_split(inputs, outputs, test_size=0.3)\n",
    "# test_size=0.5, takes half of the data set to train beforehand"
   ]
  },
  {
   "cell_type": "code",
   "execution_count": 59,
   "metadata": {},
   "outputs": [],
   "source": [
    "# Starting a neural network, sequential for building it by layers.\n",
    "model = kr.models.Sequential()\n",
    "\n",
    "# Add a hidden layer with 10 neurons and an input layer with 12.\n",
    "model.add(kr.layers.Dense(units=10, activation='tanh', input_dim=9)) # input_dim=12, the twelve values from dataset.\n",
    "\n",
    "# Add another hidden layer \n",
    "model.add(kr.layers.Dense(units=20, activation='relu')) \n",
    "\n",
    "# Add another hidden layer \n",
    "model.add(kr.layers.Dense(units=10, activation='tanh')) \n",
    "          \n",
    "# Add a one neuron output layer.\n",
    "model.add(kr.layers.Dense(units=1, activation='linear')) # Price is the only output I expect\n",
    "\n",
    "# Build the graph.\n",
    "model.compile(loss='mean_squared_error', optimizer='sgd', metrics=['accuracy'])\n",
    "# loss='categorical_crossentropy' is a standard loss function for a categorical variable."
   ]
  },
  {
   "cell_type": "code",
   "execution_count": 60,
   "metadata": {
    "scrolled": true
   },
   "outputs": [
    {
     "name": "stdout",
     "output_type": "stream",
     "text": [
      "Epoch 1/80\n",
      "354/354 [==============================] - 0s 664us/step - loss: 113.0047 - accuracy: 0.0056\n",
      "Epoch 2/80\n",
      "354/354 [==============================] - 0s 326us/step - loss: 92.1607 - accuracy: 0.0113\n",
      "Epoch 3/80\n",
      "354/354 [==============================] - 0s 268us/step - loss: 93.3424 - accuracy: 0.0141\n",
      "Epoch 4/80\n",
      "354/354 [==============================] - 0s 305us/step - loss: 90.3458 - accuracy: 0.0141\n",
      "Epoch 5/80\n",
      "354/354 [==============================] - 0s 206us/step - loss: 92.9023 - accuracy: 0.0085\n",
      "Epoch 6/80\n",
      "354/354 [==============================] - 0s 347us/step - loss: 92.0822 - accuracy: 0.0141\n",
      "Epoch 7/80\n",
      "354/354 [==============================] - 0s 288us/step - loss: 92.1085 - accuracy: 0.0085\n",
      "Epoch 8/80\n",
      "354/354 [==============================] - 0s 311us/step - loss: 93.0161 - accuracy: 0.0085\n",
      "Epoch 9/80\n",
      "354/354 [==============================] - 0s 260us/step - loss: 92.5706 - accuracy: 0.0056\n",
      "Epoch 10/80\n",
      "354/354 [==============================] - 0s 226us/step - loss: 93.2611 - accuracy: 0.0028\n",
      "Epoch 11/80\n",
      "354/354 [==============================] - ETA: 0s - loss: 80.3499 - accuracy: 0.0140     - 0s 252us/step - loss: 92.3980 - accuracy: 0.0113\n",
      "Epoch 12/80\n",
      "354/354 [==============================] - 0s 260us/step - loss: 93.7952 - accuracy: 0.0113\n",
      "Epoch 13/80\n",
      "354/354 [==============================] - 0s 255us/step - loss: 92.7574 - accuracy: 0.0085\n",
      "Epoch 14/80\n",
      "354/354 [==============================] - 0s 333us/step - loss: 92.1715 - accuracy: 0.0141\n",
      "Epoch 15/80\n",
      "354/354 [==============================] - 0s 257us/step - loss: 91.6721 - accuracy: 0.0113\n",
      "Epoch 16/80\n",
      "354/354 [==============================] - 0s 421us/step - loss: 93.7324 - accuracy: 0.0085\n",
      "Epoch 17/80\n",
      "354/354 [==============================] - 0s 268us/step - loss: 91.3564 - accuracy: 0.0113\n",
      "Epoch 18/80\n",
      "354/354 [==============================] - 0s 285us/step - loss: 92.8598 - accuracy: 0.0085\n",
      "Epoch 19/80\n",
      "354/354 [==============================] - 0s 266us/step - loss: 90.8796 - accuracy: 0.0028\n",
      "Epoch 20/80\n",
      "354/354 [==============================] - 0s 325us/step - loss: 91.8544 - accuracy: 0.0141\n",
      "Epoch 21/80\n",
      "354/354 [==============================] - 0s 203us/step - loss: 93.4859 - accuracy: 0.0056\n",
      "Epoch 22/80\n",
      "354/354 [==============================] - 0s 282us/step - loss: 92.3654 - accuracy: 0.0113\n",
      "Epoch 23/80\n",
      "354/354 [==============================] - 0s 283us/step - loss: 92.8960 - accuracy: 0.0169\n",
      "Epoch 24/80\n",
      "354/354 [==============================] - 0s 305us/step - loss: 93.4179 - accuracy: 0.0113\n",
      "Epoch 25/80\n",
      "354/354 [==============================] - 0s 254us/step - loss: 91.5706 - accuracy: 0.0056\n",
      "Epoch 26/80\n",
      "354/354 [==============================] - 0s 260us/step - loss: 91.3900 - accuracy: 0.0056\n",
      "Epoch 27/80\n",
      "354/354 [==============================] - 0s 234us/step - loss: 92.6876 - accuracy: 0.0028\n",
      "Epoch 28/80\n",
      "354/354 [==============================] - 0s 291us/step - loss: 92.2929 - accuracy: 0.0113\n",
      "Epoch 29/80\n",
      "354/354 [==============================] - ETA: 0s - loss: 97.8303 - accuracy: 0.0063     - 0s 342us/step - loss: 92.9682 - accuracy: 0.0056\n",
      "Epoch 30/80\n",
      "354/354 [==============================] - 0s 282us/step - loss: 91.4216 - accuracy: 0.0056\n",
      "Epoch 31/80\n",
      "354/354 [==============================] - 0s 260us/step - loss: 93.1523 - accuracy: 0.0056\n",
      "Epoch 32/80\n",
      "354/354 [==============================] - 0s 208us/step - loss: 92.0392 - accuracy: 0.0169\n",
      "Epoch 33/80\n",
      "354/354 [==============================] - 0s 209us/step - loss: 90.8405 - accuracy: 0.0113\n",
      "Epoch 34/80\n",
      "354/354 [==============================] - 0s 215us/step - loss: 91.8000 - accuracy: 0.0113\n",
      "Epoch 35/80\n",
      "354/354 [==============================] - 0s 203us/step - loss: 91.8133 - accuracy: 0.0085\n",
      "Epoch 36/80\n",
      "354/354 [==============================] - 0s 280us/step - loss: 93.3210 - accuracy: 0.0056\n",
      "Epoch 37/80\n",
      "354/354 [==============================] - 0s 243us/step - loss: 92.1672 - accuracy: 0.0141\n",
      "Epoch 38/80\n",
      "354/354 [==============================] - 0s 254us/step - loss: 92.4782 - accuracy: 0.0113\n",
      "Epoch 39/80\n",
      "354/354 [==============================] - 0s 291us/step - loss: 91.0852 - accuracy: 0.0028\n",
      "Epoch 40/80\n",
      "354/354 [==============================] - 0s 243us/step - loss: 92.6644 - accuracy: 0.0056\n",
      "Epoch 41/80\n",
      "354/354 [==============================] - 0s 254us/step - loss: 90.8746 - accuracy: 0.0000e+00\n",
      "Epoch 42/80\n",
      "354/354 [==============================] - 0s 294us/step - loss: 93.0095 - accuracy: 0.0028\n",
      "Epoch 43/80\n",
      "354/354 [==============================] - 0s 291us/step - loss: 93.5595 - accuracy: 0.0085\n",
      "Epoch 44/80\n",
      "354/354 [==============================] - 0s 251us/step - loss: 91.4269 - accuracy: 0.0085\n",
      "Epoch 45/80\n",
      "354/354 [==============================] - 0s 229us/step - loss: 92.2056 - accuracy: 0.0141\n",
      "Epoch 46/80\n",
      "354/354 [==============================] - 0s 249us/step - loss: 93.2184 - accuracy: 0.0085\n",
      "Epoch 47/80\n",
      "354/354 [==============================] - 0s 263us/step - loss: 90.6187 - accuracy: 0.0056\n",
      "Epoch 48/80\n",
      "354/354 [==============================] - 0s 261us/step - loss: 91.7123 - accuracy: 0.0113\n",
      "Epoch 49/80\n",
      "354/354 [==============================] - 0s 288us/step - loss: 92.3723 - accuracy: 0.0113\n",
      "Epoch 50/80\n",
      "354/354 [==============================] - 0s 302us/step - loss: 91.8348 - accuracy: 0.0113\n",
      "Epoch 51/80\n",
      "354/354 [==============================] - 0s 268us/step - loss: 92.8246 - accuracy: 0.0113\n",
      "Epoch 52/80\n",
      "354/354 [==============================] - 0s 234us/step - loss: 91.5428 - accuracy: 0.0056\n",
      "Epoch 53/80\n",
      "354/354 [==============================] - 0s 263us/step - loss: 91.3835 - accuracy: 0.0085\n",
      "Epoch 54/80\n",
      "354/354 [==============================] - 0s 260us/step - loss: 93.5732 - accuracy: 0.0056\n",
      "Epoch 55/80\n",
      "354/354 [==============================] - 0s 246us/step - loss: 92.8812 - accuracy: 0.0085\n",
      "Epoch 56/80\n",
      "354/354 [==============================] - 0s 325us/step - loss: 92.0013 - accuracy: 0.0085\n",
      "Epoch 57/80\n",
      "354/354 [==============================] - 0s 266us/step - loss: 92.7840 - accuracy: 0.0141\n",
      "Epoch 58/80\n",
      "354/354 [==============================] - 0s 254us/step - loss: 92.3716 - accuracy: 0.0113\n",
      "Epoch 59/80\n",
      "354/354 [==============================] - 0s 257us/step - loss: 92.1419 - accuracy: 0.0000e+00\n",
      "Epoch 60/80\n",
      "354/354 [==============================] - 0s 308us/step - loss: 91.5768 - accuracy: 0.0113\n",
      "Epoch 61/80\n",
      "354/354 [==============================] - 0s 316us/step - loss: 92.5812 - accuracy: 0.0028\n",
      "Epoch 62/80\n",
      "354/354 [==============================] - 0s 243us/step - loss: 92.7679 - accuracy: 0.0085\n",
      "Epoch 63/80\n",
      "354/354 [==============================] - 0s 249us/step - loss: 93.1940 - accuracy: 0.0000e+00\n",
      "Epoch 64/80\n",
      "354/354 [==============================] - 0s 277us/step - loss: 92.4933 - accuracy: 0.0085\n",
      "Epoch 65/80\n",
      "354/354 [==============================] - 0s 286us/step - loss: 91.3536 - accuracy: 0.0113\n",
      "Epoch 66/80\n",
      "354/354 [==============================] - 0s 325us/step - loss: 91.5808 - accuracy: 0.0085\n",
      "Epoch 67/80\n",
      "354/354 [==============================] - 0s 409us/step - loss: 91.0688 - accuracy: 0.0141\n",
      "Epoch 68/80\n",
      "354/354 [==============================] - 0s 370us/step - loss: 90.4142 - accuracy: 0.0113\n",
      "Epoch 69/80\n",
      "354/354 [==============================] - 0s 229us/step - loss: 93.4824 - accuracy: 0.0169\n",
      "Epoch 70/80\n",
      "354/354 [==============================] - 0s 251us/step - loss: 91.7386 - accuracy: 0.0085\n",
      "Epoch 71/80\n",
      "354/354 [==============================] - 0s 260us/step - loss: 93.7365 - accuracy: 0.0113\n",
      "Epoch 72/80\n",
      "354/354 [==============================] - 0s 260us/step - loss: 92.9050 - accuracy: 0.0141\n",
      "Epoch 73/80\n",
      "354/354 [==============================] - 0s 246us/step - loss: 92.6780 - accuracy: 0.0113\n",
      "Epoch 74/80\n",
      "354/354 [==============================] - 0s 268us/step - loss: 92.8998 - accuracy: 0.0085\n",
      "Epoch 75/80\n",
      "354/354 [==============================] - 0s 412us/step - loss: 92.5970 - accuracy: 0.0113\n",
      "Epoch 76/80\n",
      "354/354 [==============================] - 0s 274us/step - loss: 91.6923 - accuracy: 0.0198\n",
      "Epoch 77/80\n",
      "354/354 [==============================] - 0s 267us/step - loss: 92.6165 - accuracy: 0.0028\n",
      "Epoch 78/80\n"
     ]
    },
    {
     "name": "stdout",
     "output_type": "stream",
     "text": [
      "354/354 [==============================] - 0s 342us/step - loss: 91.7801 - accuracy: 0.0028\n",
      "Epoch 79/80\n",
      "354/354 [==============================] - 0s 294us/step - loss: 93.5037 - accuracy: 0.0113\n",
      "Epoch 80/80\n",
      "354/354 [==============================] - 0s 288us/step - loss: 93.7646 - accuracy: 0.0085\n"
     ]
    },
    {
     "data": {
      "text/plain": [
       "<keras.callbacks.callbacks.History at 0x1d9d62b9cc0>"
      ]
     },
     "execution_count": 60,
     "metadata": {},
     "output_type": "execute_result"
    }
   ],
   "source": [
    "# Train the neural network.\n",
    "model.fit(inputs_train, outputs_train, epochs=80, batch_size=5)"
   ]
  },
  {
   "cell_type": "code",
   "execution_count": 61,
   "metadata": {
    "scrolled": true
   },
   "outputs": [],
   "source": [
    "# predictions on the test set\n",
    "pred1 = model.predict(inputs_test)"
   ]
  },
  {
   "cell_type": "code",
   "execution_count": 62,
   "metadata": {
    "scrolled": true
   },
   "outputs": [
    {
     "name": "stderr",
     "output_type": "stream",
     "text": [
      "C:\\Users\\montec3\\AppData\\Local\\Continuum\\anaconda3\\lib\\site-packages\\ipykernel_launcher.py:2: FutureWarning: Method .as_matrix will be removed in a future version. Use .values instead.\n",
      "  \n"
     ]
    }
   ],
   "source": [
    "# values from the test set\n",
    "outTest1 = outputs_test.as_matrix().astype(np.float32)"
   ]
  },
  {
   "cell_type": "code",
   "execution_count": 63,
   "metadata": {
    "scrolled": true
   },
   "outputs": [
    {
     "data": {
      "text/plain": [
       "array([[22.125137, 22.125137, 22.125137, 22.125137, 22.125137, 22.125137,\n",
       "        22.125137, 22.125137, 22.125137, 22.125137, 22.125137, 22.125137,\n",
       "        22.125137, 22.125137, 22.125137, 22.125137, 22.125137, 22.125137,\n",
       "        22.125137, 22.125137, 22.125137, 22.125137, 22.125137, 22.125137,\n",
       "        22.125137, 22.125137, 22.125137, 22.125137, 22.125137, 22.125137,\n",
       "        22.125137, 22.125137, 22.125137, 22.125137, 22.125137, 22.125137,\n",
       "        22.125137, 22.125137, 22.125137, 22.125137, 22.125137, 22.125137,\n",
       "        22.125137, 22.125137, 22.125137, 22.125137, 22.125137, 22.125137,\n",
       "        22.125137, 22.125137, 22.125137, 22.125137, 22.125137, 22.125137,\n",
       "        22.125137, 22.125137, 22.125137, 22.125137, 22.125137, 22.125137,\n",
       "        22.125137, 22.125137, 22.125137, 22.125137, 22.125137, 22.125137,\n",
       "        22.125137, 22.125137, 22.125137, 22.125137, 22.125137, 22.125137,\n",
       "        22.125137, 22.125137, 22.125137, 22.125137, 22.125137, 22.125137,\n",
       "        22.125137, 22.125137, 22.125137, 22.125137, 22.125137, 22.125137,\n",
       "        22.125137, 22.125137, 22.125137, 22.125137, 22.125137, 22.125137,\n",
       "        22.125137, 22.125137, 22.125137, 22.125137, 22.125137, 22.125137,\n",
       "        22.125137, 22.125137, 22.125137, 22.125137, 22.125137, 22.125137,\n",
       "        22.125137, 22.125137, 22.125137, 22.125137, 22.125137, 22.125137,\n",
       "        22.125137, 22.125137, 22.125137, 22.125137, 22.125137, 22.125137,\n",
       "        22.125137, 22.125137, 22.125137, 22.125137, 22.125137, 22.125137,\n",
       "        22.125137, 22.125137, 22.125137, 22.125137, 22.125137, 22.125137,\n",
       "        22.125137, 22.125137, 22.125137, 22.125137, 22.125137, 22.125137,\n",
       "        22.125137, 22.125137, 22.125137, 22.125137, 22.125137, 22.125137,\n",
       "        22.125137, 22.125137, 22.125137, 22.125137, 22.125137, 22.125137,\n",
       "        22.125137, 22.125137, 22.125137, 22.125137, 22.125137, 22.125137,\n",
       "        22.125137, 22.125137]], dtype=float32)"
      ]
     },
     "execution_count": 63,
     "metadata": {},
     "output_type": "execute_result"
    }
   ],
   "source": [
    "pred1.T # all the values are repeated. After several tries only scaling the dataset solved it"
   ]
  },
  {
   "cell_type": "code",
   "execution_count": 64,
   "metadata": {},
   "outputs": [
    {
     "name": "stdout",
     "output_type": "stream",
     "text": [
      "152/152 [==============================] - 0s 428us/step\n"
     ]
    },
    {
     "data": {
      "text/plain": [
       "[71.27451444927014, 0.00657894741743803]"
      ]
     },
     "execution_count": 64,
     "metadata": {},
     "output_type": "execute_result"
    }
   ],
   "source": [
    "# Calculate the loss function, mean squared error in this case. The higher the value output the worse\n",
    "model.evaluate(inputs_test, outputs_test)"
   ]
  },
  {
   "cell_type": "markdown",
   "metadata": {},
   "source": [
    "----\n",
    "The predictions are not valid since they are all reapeated. In order to improve the efficiency of the neural network I will **scale** it\n"
   ]
  },
  {
   "cell_type": "code",
   "execution_count": 65,
   "metadata": {},
   "outputs": [],
   "source": [
    "# Standard scaler from the preprocessing library \n",
    "scaler = pre.StandardScaler()\n",
    "scaler.fit(inputs_train)\n",
    "inputs_train_scaled = scaler.transform(inputs_train)"
   ]
  },
  {
   "cell_type": "code",
   "execution_count": 66,
   "metadata": {},
   "outputs": [],
   "source": [
    "# Starting a neural network, sequential for building it by layers.\n",
    "model = kr.models.Sequential()\n",
    "\n",
    "# Add a hidden layer with 10 neurons and an input layer with 12.\n",
    "model.add(kr.layers.Dense(units=10, activation='tanh', input_dim=9)) # input_dim=12, the twelve values from dataset.\n",
    "\n",
    "# Add another hidden layer \n",
    "model.add(kr.layers.Dense(units=20, activation='relu')) \n",
    "\n",
    "# Add another hidden layer \n",
    "model.add(kr.layers.Dense(units=10, activation='tanh')) \n",
    "          \n",
    "# Add a one neuron output layer.\n",
    "model.add(kr.layers.Dense(units=1, activation='linear')) # Price is the only output I expect\n",
    "\n",
    "# Build the graph.\n",
    "model.compile(loss='mean_squared_error', optimizer='sgd', metrics=['accuracy'])\n",
    "# loss='categorical_crossentropy' is a standard loss function for a categorical variable."
   ]
  },
  {
   "cell_type": "code",
   "execution_count": 67,
   "metadata": {
    "scrolled": true
   },
   "outputs": [
    {
     "name": "stdout",
     "output_type": "stream",
     "text": [
      "Epoch 1/80\n",
      "354/354 [==============================] - 0s 653us/step - loss: 95.3472 - accuracy: 0.0113\n",
      "Epoch 2/80\n",
      "354/354 [==============================] - 0s 296us/step - loss: 48.5579 - accuracy: 0.0113\n",
      "Epoch 3/80\n",
      "354/354 [==============================] - 0s 353us/step - loss: 41.8230 - accuracy: 0.0085\n",
      "Epoch 4/80\n",
      "354/354 [==============================] - 0s 356us/step - loss: 45.7856 - accuracy: 0.0028\n",
      "Epoch 5/80\n",
      "354/354 [==============================] - 0s 271us/step - loss: 39.3668 - accuracy: 0.0141\n",
      "Epoch 6/80\n",
      "354/354 [==============================] - 0s 249us/step - loss: 40.4761 - accuracy: 0.0056\n",
      "Epoch 7/80\n",
      "354/354 [==============================] - 0s 274us/step - loss: 40.9306 - accuracy: 0.0085\n",
      "Epoch 8/80\n",
      "354/354 [==============================] - 0s 274us/step - loss: 36.6952 - accuracy: 0.0028\n",
      "Epoch 9/80\n",
      "354/354 [==============================] - 0s 269us/step - loss: 37.0853 - accuracy: 0.0056\n",
      "Epoch 10/80\n",
      "354/354 [==============================] - 0s 269us/step - loss: 33.4845 - accuracy: 0.0169\n",
      "Epoch 11/80\n",
      "354/354 [==============================] - 0s 328us/step - loss: 36.8461 - accuracy: 0.0085\n",
      "Epoch 12/80\n",
      "354/354 [==============================] - 0s 277us/step - loss: 38.2293 - accuracy: 0.0028\n",
      "Epoch 13/80\n",
      "354/354 [==============================] - 0s 305us/step - loss: 49.0365 - accuracy: 0.0028\n",
      "Epoch 14/80\n",
      "354/354 [==============================] - 0s 249us/step - loss: 45.9477 - accuracy: 0.0085\n",
      "Epoch 15/80\n",
      "354/354 [==============================] - 0s 232us/step - loss: 63.3004 - accuracy: 0.0113\n",
      "Epoch 16/80\n",
      "354/354 [==============================] - 0s 237us/step - loss: 53.4968 - accuracy: 0.0028\n",
      "Epoch 17/80\n",
      "354/354 [==============================] - 0s 254us/step - loss: 51.4703 - accuracy: 0.0056\n",
      "Epoch 18/80\n",
      "354/354 [==============================] - 0s 266us/step - loss: 52.8092 - accuracy: 0.0056\n",
      "Epoch 19/80\n",
      "354/354 [==============================] - 0s 268us/step - loss: 50.7691 - accuracy: 0.0000e+00\n",
      "Epoch 20/80\n",
      "354/354 [==============================] - 0s 243us/step - loss: 63.3657 - accuracy: 0.0056\n",
      "Epoch 21/80\n",
      "354/354 [==============================] - 0s 285us/step - loss: 58.6629 - accuracy: 0.0085\n",
      "Epoch 22/80\n",
      "354/354 [==============================] - 0s 251us/step - loss: 49.4109 - accuracy: 0.0028\n",
      "Epoch 23/80\n",
      "354/354 [==============================] - 0s 232us/step - loss: 50.4846 - accuracy: 0.0028\n",
      "Epoch 24/80\n",
      "354/354 [==============================] - 0s 229us/step - loss: 58.2528 - accuracy: 0.0056\n",
      "Epoch 25/80\n",
      "354/354 [==============================] - 0s 229us/step - loss: 50.7831 - accuracy: 0.0028\n",
      "Epoch 26/80\n",
      "354/354 [==============================] - 0s 251us/step - loss: 49.3582 - accuracy: 0.0085\n",
      "Epoch 27/80\n",
      "354/354 [==============================] - 0s 219us/step - loss: 43.0763 - accuracy: 0.0000e+00\n",
      "Epoch 28/80\n",
      "354/354 [==============================] - 0s 229us/step - loss: 53.2151 - accuracy: 0.0000e+00\n",
      "Epoch 29/80\n",
      "354/354 [==============================] - 0s 234us/step - loss: 56.9301 - accuracy: 0.0085\n",
      "Epoch 30/80\n",
      "354/354 [==============================] - 0s 232us/step - loss: 81.6151 - accuracy: 0.0056\n",
      "Epoch 31/80\n",
      "354/354 [==============================] - 0s 246us/step - loss: 72.8998 - accuracy: 0.0056\n",
      "Epoch 32/80\n",
      "354/354 [==============================] - 0s 266us/step - loss: 56.6434 - accuracy: 0.0113\n",
      "Epoch 33/80\n",
      "354/354 [==============================] - 0s 266us/step - loss: 51.1761 - accuracy: 0.0028\n",
      "Epoch 34/80\n",
      "354/354 [==============================] - 0s 247us/step - loss: 53.1741 - accuracy: 0.0085\n",
      "Epoch 35/80\n",
      "354/354 [==============================] - 0s 237us/step - loss: 49.9000 - accuracy: 0.0056\n",
      "Epoch 36/80\n",
      "354/354 [==============================] - 0s 260us/step - loss: 50.4821 - accuracy: 0.0028\n",
      "Epoch 37/80\n",
      "354/354 [==============================] - 0s 251us/step - loss: 49.3034 - accuracy: 0.0028\n",
      "Epoch 38/80\n",
      "354/354 [==============================] - 0s 240us/step - loss: 53.6918 - accuracy: 0.0085\n",
      "Epoch 39/80\n",
      "354/354 [==============================] - 0s 254us/step - loss: 55.3622 - accuracy: 0.0000e+00\n",
      "Epoch 40/80\n",
      "354/354 [==============================] - 0s 305us/step - loss: 53.8154 - accuracy: 0.0113\n",
      "Epoch 41/80\n",
      "354/354 [==============================] - 0s 254us/step - loss: 56.0662 - accuracy: 0.0028\n",
      "Epoch 42/80\n",
      "354/354 [==============================] - 0s 263us/step - loss: 52.5121 - accuracy: 0.0056\n",
      "Epoch 43/80\n",
      "354/354 [==============================] - 0s 319us/step - loss: 49.4348 - accuracy: 0.0085\n",
      "Epoch 44/80\n",
      "354/354 [==============================] - 0s 268us/step - loss: 44.7787 - accuracy: 0.0113\n",
      "Epoch 45/80\n",
      "354/354 [==============================] - 0s 257us/step - loss: 49.2330 - accuracy: 0.0028\n",
      "Epoch 46/80\n",
      "354/354 [==============================] - 0s 277us/step - loss: 57.0193 - accuracy: 0.0113\n",
      "Epoch 47/80\n",
      "354/354 [==============================] - 0s 277us/step - loss: 54.1913 - accuracy: 0.0169\n",
      "Epoch 48/80\n",
      "354/354 [==============================] - 0s 268us/step - loss: 55.0645 - accuracy: 0.0141\n",
      "Epoch 49/80\n",
      "354/354 [==============================] - 0s 262us/step - loss: 55.0056 - accuracy: 0.0085\n",
      "Epoch 50/80\n",
      "354/354 [==============================] - 0s 317us/step - loss: 53.8266 - accuracy: 0.0085\n",
      "Epoch 51/80\n",
      "354/354 [==============================] - 0s 429us/step - loss: 54.5594 - accuracy: 0.0028\n",
      "Epoch 52/80\n",
      "354/354 [==============================] - 0s 322us/step - loss: 54.0109 - accuracy: 0.0028\n",
      "Epoch 53/80\n",
      "354/354 [==============================] - 0s 268us/step - loss: 57.0777 - accuracy: 0.0085\n",
      "Epoch 54/80\n",
      "354/354 [==============================] - 0s 350us/step - loss: 55.2256 - accuracy: 0.0056\n",
      "Epoch 55/80\n",
      "354/354 [==============================] - 0s 356us/step - loss: 54.4189 - accuracy: 0.0085\n",
      "Epoch 56/80\n",
      "354/354 [==============================] - 0s 280us/step - loss: 51.8701 - accuracy: 0.0028\n",
      "Epoch 57/80\n",
      "354/354 [==============================] - 0s 271us/step - loss: 52.6027 - accuracy: 0.0028\n",
      "Epoch 58/80\n",
      "354/354 [==============================] - 0s 268us/step - loss: 51.6138 - accuracy: 0.0085\n",
      "Epoch 59/80\n",
      "354/354 [==============================] - 0s 290us/step - loss: 52.3583 - accuracy: 0.0028\n",
      "Epoch 60/80\n",
      "354/354 [==============================] - 0s 271us/step - loss: 50.2965 - accuracy: 0.0056\n",
      "Epoch 61/80\n",
      "354/354 [==============================] - 0s 308us/step - loss: 45.5344 - accuracy: 0.0056\n",
      "Epoch 62/80\n",
      "354/354 [==============================] - 0s 291us/step - loss: 45.6258 - accuracy: 0.0056\n",
      "Epoch 63/80\n",
      "354/354 [==============================] - 0s 375us/step - loss: 44.8729 - accuracy: 0.0028\n",
      "Epoch 64/80\n",
      "354/354 [==============================] - 0s 280us/step - loss: 48.9545 - accuracy: 0.0056\n",
      "Epoch 65/80\n",
      "354/354 [==============================] - 0s 260us/step - loss: 48.0137 - accuracy: 0.0028\n",
      "Epoch 66/80\n",
      "354/354 [==============================] - 0s 282us/step - loss: 44.3586 - accuracy: 0.0028\n",
      "Epoch 67/80\n",
      "354/354 [==============================] - 0s 282us/step - loss: 44.1421 - accuracy: 0.0056\n",
      "Epoch 68/80\n",
      "354/354 [==============================] - 0s 274us/step - loss: 51.0147 - accuracy: 0.0113\n",
      "Epoch 69/80\n",
      "354/354 [==============================] - 0s 255us/step - loss: 49.8783 - accuracy: 0.0056\n",
      "Epoch 70/80\n",
      "354/354 [==============================] - 0s 325us/step - loss: 48.6424 - accuracy: 0.0056\n",
      "Epoch 71/80\n",
      "354/354 [==============================] - 0s 309us/step - loss: 47.5482 - accuracy: 0.0056\n",
      "Epoch 72/80\n",
      "354/354 [==============================] - 0s 268us/step - loss: 48.2469 - accuracy: 0.0056\n",
      "Epoch 73/80\n",
      "354/354 [==============================] - 0s 273us/step - loss: 48.8740 - accuracy: 0.0113\n",
      "Epoch 74/80\n",
      "354/354 [==============================] - 0s 266us/step - loss: 48.8520 - accuracy: 0.0085\n",
      "Epoch 75/80\n",
      "354/354 [==============================] - 0s 282us/step - loss: 48.4784 - accuracy: 0.0056\n",
      "Epoch 76/80\n",
      "354/354 [==============================] - 0s 359us/step - loss: 48.2792 - accuracy: 0.0056\n",
      "Epoch 77/80\n",
      "354/354 [==============================] - 0s 410us/step - loss: 48.3801 - accuracy: 0.0056\n",
      "Epoch 78/80\n",
      "354/354 [==============================] - 0s 282us/step - loss: 48.1227 - accuracy: 0.0085\n",
      "Epoch 79/80\n"
     ]
    },
    {
     "name": "stdout",
     "output_type": "stream",
     "text": [
      "354/354 [==============================] - 0s 367us/step - loss: 48.4974 - accuracy: 0.0113\n",
      "Epoch 80/80\n",
      "354/354 [==============================] - 0s 253us/step - loss: 48.5639 - accuracy: 0.0056\n"
     ]
    },
    {
     "data": {
      "text/plain": [
       "<keras.callbacks.callbacks.History at 0x1d9d3924390>"
      ]
     },
     "execution_count": 67,
     "metadata": {},
     "output_type": "execute_result"
    }
   ],
   "source": [
    "# Train again the neural network.\n",
    "model.fit(inputs_train_scaled, outputs_train, epochs=80, batch_size=5)"
   ]
  },
  {
   "cell_type": "code",
   "execution_count": 68,
   "metadata": {},
   "outputs": [],
   "source": [
    "# Predictions \n",
    "inputs_test_scaled = scaler.transform(inputs_test)\n",
    "pred2 = model.predict(inputs_test_scaled).T\n",
    "pred2_1D = pred2[0] # isolating the first element of the 2D array pred2 which contains the predictions so that it can be joined with the array which contains the outputs and can be displayed per pairs for comparison purposes"
   ]
  },
  {
   "cell_type": "code",
   "execution_count": 69,
   "metadata": {
    "scrolled": true
   },
   "outputs": [
    {
     "name": "stderr",
     "output_type": "stream",
     "text": [
      "C:\\Users\\montec3\\AppData\\Local\\Continuum\\anaconda3\\lib\\site-packages\\ipykernel_launcher.py:1: FutureWarning: Method .as_matrix will be removed in a future version. Use .values instead.\n",
      "  \"\"\"Entry point for launching an IPython kernel.\n"
     ]
    }
   ],
   "source": [
    "outTest2 = outputs_test.as_matrix().astype(np.float32)"
   ]
  },
  {
   "cell_type": "code",
   "execution_count": 70,
   "metadata": {
    "scrolled": true
   },
   "outputs": [
    {
     "name": "stdout",
     "output_type": "stream",
     "text": [
      "\n",
      "Prediction scaled   vs  [Expected]\n",
      "\n",
      "24.361806869506836       [18.7]\n",
      "24.361804962158203       [19.7]\n",
      "24.361804962158203       [15.]\n",
      "24.361804962158203       [31.1]\n",
      "24.361806869506836       [23.3]\n",
      "24.361806869506836       [27.5]\n",
      "24.361804962158203       [25.]\n",
      "24.361806869506836       [21.]\n",
      "24.361806869506836       [23.4]\n",
      "17.52644920349121       [8.4]\n",
      "42.733489990234375       [31.5]\n",
      "42.733489990234375       [33.2]\n",
      "24.361806869506836       [19.4]\n",
      "42.733489990234375       [33.8]\n",
      "42.707828521728516       [28.7]\n",
      "15.813194274902344       [13.1]\n",
      "17.52644920349121       [14.1]\n",
      "24.361806869506836       [18.4]\n",
      "24.361806869506836       [20.1]\n",
      "24.361806869506836       [20.7]\n",
      "17.52644920349121       [8.3]\n",
      "17.52644920349121       [12.]\n",
      "24.361806869506836       [22.5]\n",
      "17.52644920349121       [19.9]\n",
      "24.361804962158203       [20.5]\n",
      "24.361806869506836       [20.1]\n",
      "24.36180305480957       [23.2]\n",
      "23.923444747924805       [25.1]\n",
      "24.36180305480957       [30.1]\n",
      "24.361806869506836       [18.5]\n",
      "17.52644920349121       [8.4]\n",
      "42.733489990234375       [35.2]\n",
      "17.52644920349121       [15.1]\n",
      "24.361804962158203       [22.5]\n",
      "24.361806869506836       [24.5]\n",
      "24.361804962158203       [24.4]\n",
      "17.52644920349121       [9.6]\n",
      "24.361806869506836       [32.9]\n",
      "17.52644920349121       [7.5]\n",
      "17.52644920349121       [13.8]\n",
      "24.361804962158203       [27.1]\n",
      "42.733489990234375       [31.]\n",
      "17.52644920349121       [14.6]\n",
      "17.527414321899414       [15.2]\n",
      "17.52644920349121       [23.]\n",
      "24.361804962158203       [19.3]\n",
      "17.52644920349121       [17.8]\n",
      "17.52644920349121       [5.]\n",
      "17.52644920349121       [7.2]\n",
      "24.361804962158203       [21.2]\n",
      "17.52644920349121       [13.9]\n",
      "17.52644920349121       [13.8]\n",
      "24.361806869506836       [18.2]\n",
      "17.52644920349121       [14.1]\n",
      "24.361806869506836       [35.4]\n",
      "42.73363494873047       [44.8]\n",
      "17.52644920349121       [14.9]\n",
      "17.52644920349121       [13.4]\n",
      "24.361804962158203       [28.4]\n",
      "17.52644920349121       [20.8]\n",
      "24.361804962158203       [20.]\n",
      "24.361806869506836       [42.8]\n",
      "42.733489990234375       [38.7]\n",
      "24.361806869506836       [19.2]\n",
      "17.52644920349121       [18.4]\n",
      "24.361806869506836       [17.5]\n",
      "24.361804962158203       [18.9]\n",
      "15.813194274902344       [15.6]\n",
      "24.361804962158203       [23.4]\n",
      "24.361806869506836       [20.6]\n",
      "17.52644920349121       [15.6]\n",
      "17.52644920349121       [11.9]\n",
      "24.361806869506836       [33.4]\n",
      "24.361804962158203       [19.4]\n",
      "24.361806869506836       [23.7]\n",
      "24.361804962158203       [32.5]\n",
      "24.36180305480957       [28.2]\n",
      "24.361806869506836       [23.1]\n",
      "24.361804962158203       [23.3]\n",
      "17.52644920349121       [20.]\n",
      "24.361804962158203       [26.4]\n",
      "24.361804962158203       [23.9]\n",
      "24.361806869506836       [24.6]\n",
      "42.733489990234375       [50.]\n",
      "24.361806869506836       [20.4]\n",
      "24.361804962158203       [22.9]\n",
      "24.361804962158203       [23.5]\n",
      "24.36180305480957       [23.6]\n",
      "17.52644920349121       [21.4]\n",
      "24.361806869506836       [20.9]\n",
      "17.52644920349121       [10.2]\n",
      "17.52644920349121       [17.5]\n",
      "17.52644920349121       [16.4]\n",
      "23.923553466796875       [19.1]\n",
      "17.526731491088867       [19.6]\n",
      "17.52644920349121       [16.3]\n",
      "24.361806869506836       [30.1]\n",
      "24.361804962158203       [24.7]\n",
      "17.52644920349121       [8.7]\n",
      "17.52644920349121       [13.2]\n",
      "24.361806869506836       [22.8]\n",
      "17.52644920349121       [19.]\n",
      "24.361806869506836       [23.1]\n",
      "24.361806869506836       [24.8]\n",
      "17.52644920349121       [12.3]\n",
      "17.526432037353516       [21.4]\n",
      "24.36180305480957       [27.9]\n",
      "24.361806869506836       [33.1]\n",
      "24.361804962158203       [22.]\n",
      "42.733489990234375       [46.7]\n",
      "17.52644920349121       [11.]\n",
      "24.361806869506836       [18.3]\n",
      "17.52644920349121       [7.]\n",
      "44.44491958618164       [33.4]\n",
      "42.733489990234375       [50.]\n",
      "17.52644920349121       [15.]\n",
      "17.52644920349121       [13.1]\n",
      "17.52644920349121       [16.7]\n",
      "24.361804962158203       [25.]\n",
      "17.52644920349121       [14.1]\n",
      "17.52644920349121       [18.]\n",
      "23.923553466796875       [23.3]\n",
      "17.52644920349121       [23.7]\n",
      "17.52644920349121       [23.]\n",
      "24.361806869506836       [20.]\n",
      "18.295581817626953       [21.8]\n",
      "17.52644920349121       [17.2]\n",
      "24.361806869506836       [19.5]\n",
      "24.361806869506836       [26.6]\n",
      "24.361799240112305       [29.9]\n",
      "24.36180305480957       [21.7]\n",
      "17.52644920349121       [13.3]\n",
      "15.813194274902344       [17.8]\n",
      "24.361804962158203       [25.3]\n",
      "24.361806869506836       [23.1]\n",
      "24.361806869506836       [17.2]\n",
      "24.361806869506836       [24.2]\n",
      "24.361804962158203       [22.3]\n",
      "24.361806869506836       [33.]\n",
      "17.52644920349121       [6.3]\n",
      "17.52644920349121       [23.1]\n",
      "17.52644920349121       [10.4]\n",
      "23.9239501953125       [22.3]\n",
      "24.361806869506836       [22.1]\n",
      "17.52644920349121       [21.2]\n",
      "24.361806869506836       [20.3]\n",
      "24.361806869506836       [28.5]\n",
      "24.361806869506836       [24.8]\n",
      "17.52644920349121       [13.8]\n",
      "23.923553466796875       [23.8]\n",
      "23.92354393005371       [22.4]\n",
      "42.733489990234375       [50.]\n"
     ]
    }
   ],
   "source": [
    "# show predictions and actual values\n",
    "print('\\nPrediction scaled   vs  [Expected]\\n') # '\\u0332'.join to underline text\n",
    "table = '\\n'.join('{}       {}'.format(x, y) for x, y in zip(pred2_1D, outTest2))\n",
    "print(table)"
   ]
  },
  {
   "cell_type": "code",
   "execution_count": 71,
   "metadata": {},
   "outputs": [
    {
     "name": "stdout",
     "output_type": "stream",
     "text": [
      "152/152 [==============================] - 0s 480us/step\n"
     ]
    },
    {
     "data": {
      "text/plain": [
       "[88.94196520353618, 0.00657894741743803]"
      ]
     },
     "execution_count": 71,
     "metadata": {},
     "output_type": "execute_result"
    }
   ],
   "source": [
    "# Evaluating the network again\n",
    "model.evaluate(inputs_test, outputs_test)"
   ]
  },
  {
   "cell_type": "markdown",
   "metadata": {},
   "source": [
    "---\n",
    "And now I will **whiten** the dataset"
   ]
  },
  {
   "cell_type": "code",
   "execution_count": 73,
   "metadata": {
    "scrolled": true
   },
   "outputs": [
    {
     "data": {
      "text/html": [
       "<div>\n",
       "<style scoped>\n",
       "    .dataframe tbody tr th:only-of-type {\n",
       "        vertical-align: middle;\n",
       "    }\n",
       "\n",
       "    .dataframe tbody tr th {\n",
       "        vertical-align: top;\n",
       "    }\n",
       "\n",
       "    .dataframe thead th {\n",
       "        text-align: right;\n",
       "    }\n",
       "</style>\n",
       "<table border=\"1\" class=\"dataframe\">\n",
       "  <thead>\n",
       "    <tr style=\"text-align: right;\">\n",
       "      <th></th>\n",
       "      <th>CRIM</th>\n",
       "      <th>INDUS</th>\n",
       "      <th>CHAS</th>\n",
       "      <th>NOX</th>\n",
       "      <th>RM</th>\n",
       "      <th>DIS</th>\n",
       "      <th>RAD</th>\n",
       "      <th>TAX</th>\n",
       "      <th>PTRATIO</th>\n",
       "    </tr>\n",
       "  </thead>\n",
       "  <tbody>\n",
       "    <tr>\n",
       "      <th>0</th>\n",
       "      <td>-0.488927</td>\n",
       "      <td>-0.107085</td>\n",
       "      <td>-0.664517</td>\n",
       "      <td>-0.123066</td>\n",
       "      <td>-0.822903</td>\n",
       "      <td>0.750773</td>\n",
       "      <td>-0.183822</td>\n",
       "      <td>-0.395883</td>\n",
       "      <td>-0.997378</td>\n",
       "    </tr>\n",
       "    <tr>\n",
       "      <th>1</th>\n",
       "      <td>-0.049793</td>\n",
       "      <td>-0.255991</td>\n",
       "      <td>1.785905</td>\n",
       "      <td>0.562122</td>\n",
       "      <td>-1.980792</td>\n",
       "      <td>-0.173755</td>\n",
       "      <td>-0.446560</td>\n",
       "      <td>-0.825441</td>\n",
       "      <td>3.177744</td>\n",
       "    </tr>\n",
       "    <tr>\n",
       "      <th>2</th>\n",
       "      <td>-0.618868</td>\n",
       "      <td>0.063297</td>\n",
       "      <td>0.041554</td>\n",
       "      <td>0.099768</td>\n",
       "      <td>1.670708</td>\n",
       "      <td>-0.399635</td>\n",
       "      <td>-0.550890</td>\n",
       "      <td>0.096609</td>\n",
       "      <td>0.852796</td>\n",
       "    </tr>\n",
       "    <tr>\n",
       "      <th>3</th>\n",
       "      <td>-0.618830</td>\n",
       "      <td>0.091788</td>\n",
       "      <td>0.044275</td>\n",
       "      <td>0.107612</td>\n",
       "      <td>1.646507</td>\n",
       "      <td>-0.442820</td>\n",
       "      <td>0.042775</td>\n",
       "      <td>0.037744</td>\n",
       "      <td>0.945794</td>\n",
       "    </tr>\n",
       "    <tr>\n",
       "      <th>4</th>\n",
       "      <td>-0.491269</td>\n",
       "      <td>-0.208496</td>\n",
       "      <td>-1.367096</td>\n",
       "      <td>1.671259</td>\n",
       "      <td>-2.116410</td>\n",
       "      <td>1.308733</td>\n",
       "      <td>0.079596</td>\n",
       "      <td>-0.368545</td>\n",
       "      <td>-0.561842</td>\n",
       "    </tr>\n",
       "    <tr>\n",
       "      <th>...</th>\n",
       "      <td>...</td>\n",
       "      <td>...</td>\n",
       "      <td>...</td>\n",
       "      <td>...</td>\n",
       "      <td>...</td>\n",
       "      <td>...</td>\n",
       "      <td>...</td>\n",
       "      <td>...</td>\n",
       "      <td>...</td>\n",
       "    </tr>\n",
       "    <tr>\n",
       "      <th>349</th>\n",
       "      <td>1.510253</td>\n",
       "      <td>0.649337</td>\n",
       "      <td>-0.190753</td>\n",
       "      <td>-0.437151</td>\n",
       "      <td>0.085084</td>\n",
       "      <td>0.654705</td>\n",
       "      <td>-0.174167</td>\n",
       "      <td>-0.259802</td>\n",
       "      <td>-1.266711</td>\n",
       "    </tr>\n",
       "    <tr>\n",
       "      <th>350</th>\n",
       "      <td>-0.049495</td>\n",
       "      <td>-0.038378</td>\n",
       "      <td>1.816129</td>\n",
       "      <td>0.645609</td>\n",
       "      <td>-1.934905</td>\n",
       "      <td>-0.153077</td>\n",
       "      <td>-1.523708</td>\n",
       "      <td>-0.697817</td>\n",
       "      <td>2.966877</td>\n",
       "    </tr>\n",
       "    <tr>\n",
       "      <th>351</th>\n",
       "      <td>-0.618309</td>\n",
       "      <td>0.088218</td>\n",
       "      <td>-0.509347</td>\n",
       "      <td>-0.798958</td>\n",
       "      <td>-0.549686</td>\n",
       "      <td>-1.088376</td>\n",
       "      <td>3.409336</td>\n",
       "      <td>-0.822628</td>\n",
       "      <td>-0.006964</td>\n",
       "    </tr>\n",
       "    <tr>\n",
       "      <th>352</th>\n",
       "      <td>-0.701913</td>\n",
       "      <td>0.036594</td>\n",
       "      <td>-0.683116</td>\n",
       "      <td>-0.238624</td>\n",
       "      <td>-0.371393</td>\n",
       "      <td>1.926137</td>\n",
       "      <td>-0.091053</td>\n",
       "      <td>-0.272212</td>\n",
       "      <td>-0.451520</td>\n",
       "    </tr>\n",
       "    <tr>\n",
       "      <th>353</th>\n",
       "      <td>-0.164030</td>\n",
       "      <td>-0.387822</td>\n",
       "      <td>-0.165699</td>\n",
       "      <td>0.710957</td>\n",
       "      <td>1.404021</td>\n",
       "      <td>-1.954347</td>\n",
       "      <td>-0.393973</td>\n",
       "      <td>0.047601</td>\n",
       "      <td>-0.476378</td>\n",
       "    </tr>\n",
       "  </tbody>\n",
       "</table>\n",
       "<p>354 rows × 9 columns</p>\n",
       "</div>"
      ],
      "text/plain": [
       "         CRIM     INDUS      CHAS       NOX        RM       DIS       RAD  \\\n",
       "0   -0.488927 -0.107085 -0.664517 -0.123066 -0.822903  0.750773 -0.183822   \n",
       "1   -0.049793 -0.255991  1.785905  0.562122 -1.980792 -0.173755 -0.446560   \n",
       "2   -0.618868  0.063297  0.041554  0.099768  1.670708 -0.399635 -0.550890   \n",
       "3   -0.618830  0.091788  0.044275  0.107612  1.646507 -0.442820  0.042775   \n",
       "4   -0.491269 -0.208496 -1.367096  1.671259 -2.116410  1.308733  0.079596   \n",
       "..        ...       ...       ...       ...       ...       ...       ...   \n",
       "349  1.510253  0.649337 -0.190753 -0.437151  0.085084  0.654705 -0.174167   \n",
       "350 -0.049495 -0.038378  1.816129  0.645609 -1.934905 -0.153077 -1.523708   \n",
       "351 -0.618309  0.088218 -0.509347 -0.798958 -0.549686 -1.088376  3.409336   \n",
       "352 -0.701913  0.036594 -0.683116 -0.238624 -0.371393  1.926137 -0.091053   \n",
       "353 -0.164030 -0.387822 -0.165699  0.710957  1.404021 -1.954347 -0.393973   \n",
       "\n",
       "          TAX   PTRATIO  \n",
       "0   -0.395883 -0.997378  \n",
       "1   -0.825441  3.177744  \n",
       "2    0.096609  0.852796  \n",
       "3    0.037744  0.945794  \n",
       "4   -0.368545 -0.561842  \n",
       "..        ...       ...  \n",
       "349 -0.259802 -1.266711  \n",
       "350 -0.697817  2.966877  \n",
       "351 -0.822628 -0.006964  \n",
       "352 -0.272212 -0.451520  \n",
       "353  0.047601 -0.476378  \n",
       "\n",
       "[354 rows x 9 columns]"
      ]
     },
     "execution_count": 73,
     "metadata": {},
     "output_type": "execute_result"
    }
   ],
   "source": [
    "pca = dec.PCA(n_components=9, whiten=True)\n",
    "pca.fit(inputs_train)\n",
    "inputs_train_white = pd.DataFrame(pca.transform(inputs_train), columns = inputs.columns)\n",
    "inputs_train_white"
   ]
  },
  {
   "cell_type": "code",
   "execution_count": 78,
   "metadata": {},
   "outputs": [],
   "source": [
    "# rebuid the neural network\n",
    "model = kr.models.Sequential()\n",
    "\n",
    "# Add a hidden layer with 10 neurons and an input layer with 12.\n",
    "model.add(kr.layers.Dense(units=50, activation='tanh', input_dim=9)) # input_dim=12, the twelve values from dataset.\n",
    "\n",
    "# Add another hidden layer \n",
    "model.add(kr.layers.Dense(units=10, activation='tanh')) \n",
    "          \n",
    "# Add a one neuron output layer.\n",
    "model.add(kr.layers.Dense(units=1, activation='linear'))\n",
    "\n",
    "# Build the graph.\n",
    "model.compile(loss='mean_squared_error', optimizer='sgd', metrics=['accuracy'])\n",
    "# loss='categorical_crossentropy' is a standard loss function for a categorical variable."
   ]
  },
  {
   "cell_type": "code",
   "execution_count": 79,
   "metadata": {
    "scrolled": true
   },
   "outputs": [
    {
     "name": "stdout",
     "output_type": "stream",
     "text": [
      "Epoch 1/80\n",
      "354/354 [==============================] - 0s 548us/step - loss: 104.2301 - accuracy: 0.0028\n",
      "Epoch 2/80\n",
      "354/354 [==============================] - 0s 274us/step - loss: 38.5871 - accuracy: 0.0028\n",
      "Epoch 3/80\n",
      "354/354 [==============================] - 0s 274us/step - loss: 39.6637 - accuracy: 0.0085\n",
      "Epoch 4/80\n",
      "354/354 [==============================] - 0s 319us/step - loss: 33.9009 - accuracy: 0.0028\n",
      "Epoch 5/80\n",
      "354/354 [==============================] - 0s 291us/step - loss: 33.7238 - accuracy: 0.0198\n",
      "Epoch 6/80\n",
      "354/354 [==============================] - 0s 274us/step - loss: 33.3687 - accuracy: 0.0085\n",
      "Epoch 7/80\n",
      "354/354 [==============================] - 0s 271us/step - loss: 29.9678 - accuracy: 0.0000e+00\n",
      "Epoch 8/80\n",
      "354/354 [==============================] - 0s 262us/step - loss: 32.8746 - accuracy: 0.0141\n",
      "Epoch 9/80\n",
      "354/354 [==============================] - 0s 350us/step - loss: 31.4751 - accuracy: 0.0113\n",
      "Epoch 10/80\n",
      "354/354 [==============================] - 0s 319us/step - loss: 28.0441 - accuracy: 0.0085\n",
      "Epoch 11/80\n",
      "354/354 [==============================] - 0s 285us/step - loss: 29.9887 - accuracy: 0.0113\n",
      "Epoch 12/80\n",
      "354/354 [==============================] - 0s 305us/step - loss: 27.6981 - accuracy: 0.0113\n",
      "Epoch 13/80\n",
      "354/354 [==============================] - 0s 303us/step - loss: 25.7808 - accuracy: 0.0113\n",
      "Epoch 14/80\n",
      "354/354 [==============================] - 0s 294us/step - loss: 23.0705 - accuracy: 0.0141\n",
      "Epoch 15/80\n",
      "354/354 [==============================] - 0s 308us/step - loss: 28.4776 - accuracy: 0.0141\n",
      "Epoch 16/80\n",
      "354/354 [==============================] - 0s 260us/step - loss: 25.0307 - accuracy: 0.0113\n",
      "Epoch 17/80\n",
      "354/354 [==============================] - 0s 270us/step - loss: 22.6311 - accuracy: 0.0141\n",
      "Epoch 18/80\n",
      "354/354 [==============================] - 0s 271us/step - loss: 19.7724 - accuracy: 0.0056\n",
      "Epoch 19/80\n",
      "354/354 [==============================] - 0s 260us/step - loss: 17.7742 - accuracy: 0.0085\n",
      "Epoch 20/80\n",
      "354/354 [==============================] - 0s 284us/step - loss: 17.7876 - accuracy: 0.0113\n",
      "Epoch 21/80\n",
      "354/354 [==============================] - 0s 285us/step - loss: 17.9556 - accuracy: 0.0085\n",
      "Epoch 22/80\n",
      "354/354 [==============================] - 0s 322us/step - loss: 17.7928 - accuracy: 0.0113\n",
      "Epoch 23/80\n",
      "354/354 [==============================] - 0s 473us/step - loss: 17.2425 - accuracy: 0.0141\n",
      "Epoch 24/80\n",
      "354/354 [==============================] - 0s 342us/step - loss: 18.4091 - accuracy: 0.0056\n",
      "Epoch 25/80\n",
      "354/354 [==============================] - 0s 350us/step - loss: 17.0417 - accuracy: 0.0113\n",
      "Epoch 26/80\n",
      "354/354 [==============================] - 0s 319us/step - loss: 19.7198 - accuracy: 0.0198ETA: 0s - loss: 18.8320 - accuracy: 0.0143  \n",
      "Epoch 27/80\n",
      "354/354 [==============================] - 0s 305us/step - loss: 21.7847 - accuracy: 0.0085\n",
      "Epoch 28/80\n",
      "354/354 [==============================] - 0s 282us/step - loss: 18.9642 - accuracy: 0.0085\n",
      "Epoch 29/80\n",
      "354/354 [==============================] - 0s 285us/step - loss: 17.0733 - accuracy: 0.0254\n",
      "Epoch 30/80\n",
      "354/354 [==============================] - 0s 319us/step - loss: 15.4539 - accuracy: 0.0085\n",
      "Epoch 31/80\n",
      "354/354 [==============================] - 0s 398us/step - loss: 14.8033 - accuracy: 0.0085\n",
      "Epoch 32/80\n",
      "354/354 [==============================] - 0s 282us/step - loss: 17.0970 - accuracy: 0.0141\n",
      "Epoch 33/80\n",
      "354/354 [==============================] - 0s 228us/step - loss: 16.6510 - accuracy: 0.0226\n",
      "Epoch 34/80\n",
      "354/354 [==============================] - 0s 274us/step - loss: 15.8141 - accuracy: 0.0085\n",
      "Epoch 35/80\n",
      "354/354 [==============================] - 0s 237us/step - loss: 13.2731 - accuracy: 0.0028\n",
      "Epoch 36/80\n",
      "354/354 [==============================] - 0s 308us/step - loss: 14.3943 - accuracy: 0.0141\n",
      "Epoch 37/80\n",
      "354/354 [==============================] - 0s 285us/step - loss: 12.8115 - accuracy: 0.0113\n",
      "Epoch 38/80\n",
      "354/354 [==============================] - 0s 226us/step - loss: 12.1287 - accuracy: 0.0085\n",
      "Epoch 39/80\n",
      "354/354 [==============================] - 0s 319us/step - loss: 12.5107 - accuracy: 0.0085\n",
      "Epoch 40/80\n",
      "354/354 [==============================] - 0s 294us/step - loss: 11.9394 - accuracy: 0.0169\n",
      "Epoch 41/80\n",
      "354/354 [==============================] - 0s 379us/step - loss: 11.7546 - accuracy: 0.0113\n",
      "Epoch 42/80\n",
      "354/354 [==============================] - 0s 347us/step - loss: 11.1813 - accuracy: 0.0113\n",
      "Epoch 43/80\n",
      "354/354 [==============================] - 0s 376us/step - loss: 10.7799 - accuracy: 0.0169\n",
      "Epoch 44/80\n",
      "354/354 [==============================] - 0s 379us/step - loss: 11.1777 - accuracy: 0.0198\n",
      "Epoch 45/80\n",
      "354/354 [==============================] - 0s 453us/step - loss: 11.2195 - accuracy: 0.0198\n",
      "Epoch 46/80\n",
      "354/354 [==============================] - 0s 322us/step - loss: 14.0066 - accuracy: 0.0085\n",
      "Epoch 47/80\n",
      "354/354 [==============================] - 0s 293us/step - loss: 11.5706 - accuracy: 0.0198\n",
      "Epoch 48/80\n",
      "354/354 [==============================] - 0s 263us/step - loss: 10.8594 - accuracy: 0.0113\n",
      "Epoch 49/80\n",
      "354/354 [==============================] - 0s 308us/step - loss: 10.7547 - accuracy: 0.0169\n",
      "Epoch 50/80\n",
      "354/354 [==============================] - 0s 282us/step - loss: 10.9447 - accuracy: 0.0169\n",
      "Epoch 51/80\n",
      "354/354 [==============================] - 0s 325us/step - loss: 11.1565 - accuracy: 0.0169\n",
      "Epoch 52/80\n",
      "354/354 [==============================] - 0s 347us/step - loss: 10.6941 - accuracy: 0.0198\n",
      "Epoch 53/80\n",
      "354/354 [==============================] - 0s 314us/step - loss: 10.2204 - accuracy: 0.0141\n",
      "Epoch 54/80\n",
      "354/354 [==============================] - 0s 285us/step - loss: 10.9463 - accuracy: 0.0254\n",
      "Epoch 55/80\n",
      "354/354 [==============================] - 0s 395us/step - loss: 10.8983 - accuracy: 0.0113\n",
      "Epoch 56/80\n",
      "354/354 [==============================] - 0s 339us/step - loss: 10.7484 - accuracy: 0.0169\n",
      "Epoch 57/80\n",
      "354/354 [==============================] - 0s 302us/step - loss: 10.9313 - accuracy: 0.0085\n",
      "Epoch 58/80\n",
      "354/354 [==============================] - 0s 305us/step - loss: 10.6854 - accuracy: 0.0085\n",
      "Epoch 59/80\n",
      "354/354 [==============================] - 0s 308us/step - loss: 10.0876 - accuracy: 0.0141\n",
      "Epoch 60/80\n",
      "354/354 [==============================] - 0s 353us/step - loss: 10.6583 - accuracy: 0.0282\n",
      "Epoch 61/80\n",
      "354/354 [==============================] - 0s 356us/step - loss: 10.0829 - accuracy: 0.0226\n",
      "Epoch 62/80\n",
      "354/354 [==============================] - 0s 263us/step - loss: 9.7944 - accuracy: 0.0198\n",
      "Epoch 63/80\n",
      "354/354 [==============================] - 0s 271us/step - loss: 9.7298 - accuracy: 0.0198\n",
      "Epoch 64/80\n",
      "354/354 [==============================] - 0s 362us/step - loss: 13.0746 - accuracy: 0.0169\n",
      "Epoch 65/80\n",
      "354/354 [==============================] - 0s 334us/step - loss: 18.0516 - accuracy: 0.0226\n",
      "Epoch 66/80\n",
      "354/354 [==============================] - 0s 305us/step - loss: 16.1617 - accuracy: 0.0169\n",
      "Epoch 67/80\n",
      "354/354 [==============================] - 0s 288us/step - loss: 14.6249 - accuracy: 0.0085\n",
      "Epoch 68/80\n",
      "354/354 [==============================] - 0s 260us/step - loss: 14.6622 - accuracy: 0.0141\n",
      "Epoch 69/80\n",
      "354/354 [==============================] - 0s 325us/step - loss: 12.8942 - accuracy: 0.0113\n",
      "Epoch 70/80\n",
      "354/354 [==============================] - 0s 336us/step - loss: 12.2739 - accuracy: 0.0226\n",
      "Epoch 71/80\n",
      "354/354 [==============================] - 0s 305us/step - loss: 12.7955 - accuracy: 0.0282\n",
      "Epoch 72/80\n",
      "354/354 [==============================] - 0s 322us/step - loss: 12.6885 - accuracy: 0.0169\n",
      "Epoch 73/80\n",
      "354/354 [==============================] - 0s 274us/step - loss: 12.6382 - accuracy: 0.0169\n",
      "Epoch 74/80\n",
      "354/354 [==============================] - 0s 251us/step - loss: 12.3420 - accuracy: 0.0198\n",
      "Epoch 75/80\n",
      "354/354 [==============================] - 0s 342us/step - loss: 11.6368 - accuracy: 0.0113\n",
      "Epoch 76/80\n",
      "354/354 [==============================] - 0s 333us/step - loss: 11.3271 - accuracy: 0.0226\n",
      "Epoch 77/80\n",
      "354/354 [==============================] - 0s 308us/step - loss: 11.6366 - accuracy: 0.0198\n",
      "Epoch 78/80\n",
      "354/354 [==============================] - 0s 280us/step - loss: 11.5895 - accuracy: 0.0198\n",
      "Epoch 79/80\n"
     ]
    },
    {
     "name": "stdout",
     "output_type": "stream",
     "text": [
      "354/354 [==============================] - 0s 296us/step - loss: 11.5049 - accuracy: 0.0198\n",
      "Epoch 80/80\n",
      "354/354 [==============================] - 0s 339us/step - loss: 11.5779 - accuracy: 0.0169\n"
     ]
    },
    {
     "data": {
      "text/plain": [
       "<keras.callbacks.callbacks.History at 0x1d9d3adf630>"
      ]
     },
     "execution_count": 79,
     "metadata": {},
     "output_type": "execute_result"
    }
   ],
   "source": [
    "# Train again the neural network.\n",
    "model.fit(inputs_train_white, outputs_train, epochs=80, batch_size=5)"
   ]
  },
  {
   "cell_type": "code",
   "execution_count": 80,
   "metadata": {},
   "outputs": [],
   "source": [
    "# Predictions \n",
    "pred3 = model.predict(inputs_train_white).T\n",
    "pred3_1D = pred3[0] # isolating the first element of the 2D array pred2 which contains the predictions so that it can be joined with the array which contains the outputs and can be displayed per pairs for comparison purposes"
   ]
  },
  {
   "cell_type": "code",
   "execution_count": 81,
   "metadata": {
    "scrolled": true
   },
   "outputs": [
    {
     "data": {
      "text/plain": [
       "array([23.367752 , 17.722973 , 18.028244 , 18.082905 , 31.182396 ,\n",
       "       21.613903 ,  9.45802  , 15.082355 , 23.362484 , 23.44616  ,\n",
       "       22.944157 , 19.813148 , 15.082846 , 30.08685  , 20.032959 ,\n",
       "       18.069672 , 30.139679 , 18.130947 , 12.847424 , 12.847054 ,\n",
       "       18.368809 , 12.510868 , 27.872559 , 21.84834  , 15.081737 ,\n",
       "       36.47162  , 22.099648 , 23.161404 , 22.874706 , 15.083677 ,\n",
       "       47.58578  , 18.819416 , 21.861649 , 21.517632 , 17.931541 ,\n",
       "       30.106728 , 17.45502  , 17.74282  , 26.36929  , 27.089436 ,\n",
       "       17.99274  , 47.60391  , 30.154278 , 15.00876  , 41.46332  ,\n",
       "       18.359188 , 15.075401 , 15.082823 , 15.068985 , 31.16867  ,\n",
       "       22.98722  , 18.544704 , 17.952599 , 23.21355  , 21.868973 ,\n",
       "       14.938217 , 23.421669 , 17.682316 , 22.964031 , 21.819836 ,\n",
       "       31.25777  , 23.363075 , 15.047407 , 18.49311  , 23.468937 ,\n",
       "        9.440228 , 47.601223 ,  5.019092 , 30.023808 , 36.153736 ,\n",
       "       15.087216 , 17.739887 , 22.656952 , 30.157833 , 22.986134 ,\n",
       "       35.79279  , 21.832901 , 19.88821  , 15.069578 , 36.332397 ,\n",
       "       30.15284  ,  8.084509 , 18.052662 , 47.599125 , 36.3403   ,\n",
       "       15.039057 , 34.788464 , 18.08102  , 47.593067 , 25.623173 ,\n",
       "       18.687176 , 23.362873 , 18.194042 , 21.815304 , 13.317438 ,\n",
       "       21.84843  , 23.265694 , 18.83023  , 47.6063   , 30.18526  ,\n",
       "       23.363514 , 15.078224 , 22.26458  , 23.188538 , 17.614841 ,\n",
       "       15.083654 , 17.924366 , 29.53548  ,  9.485495 , 23.268269 ,\n",
       "       23.28556  , 21.869267 , 15.9029   , 29.440693 , 23.984718 ,\n",
       "       18.347622 , 30.119862 , 23.361515 , 20.371525 , 18.83577  ,\n",
       "       20.784237 , 14.356895 , 29.528172 , 21.088741 , 20.088295 ,\n",
       "       23.355152 , 23.320438 , 20.771107 , 23.267735 , 47.594463 ,\n",
       "       23.276318 , 10.229727 , 20.302391 ,  9.414128 , 19.363201 ,\n",
       "       23.302986 , 25.127483 , 14.31959  , 21.183456 , 20.648851 ,\n",
       "       18.07713  , 30.159565 , 18.216328 , 15.037694 , 21.862762 ,\n",
       "       29.540089 , 30.10992  , 47.60596  , 21.51498  , 18.077206 ,\n",
       "       23.359745 , 47.604076 , 12.05391  , 18.294216 , 20.308208 ,\n",
       "       22.877476 , 23.38393  , 36.25068  , 36.279984 , 23.193188 ,\n",
       "       23.359928 , 19.711777 , 17.830616 , 15.532144 , 18.261536 ,\n",
       "       21.827694 ,  9.6476755, 47.605453 , 23.072437 , 15.101068 ,\n",
       "       36.423363 , 23.353443 , 27.926804 , 19.233578 , 36.31072  ,\n",
       "       23.41743  , 23.2686   , 18.196312 , 23.385235 , 36.324112 ,\n",
       "       47.605427 , 23.490688 , 12.5336   , 23.755024 , 18.458374 ,\n",
       "       13.243114 , 12.847101 , 15.082979 , 12.846426 , 17.739899 ,\n",
       "       17.840816 , 15.083188 , 47.605682 , 21.372269 , 21.860973 ,\n",
       "       15.063997 , 30.022907 , 21.858433 , 18.896702 , 15.082716 ,\n",
       "       23.347878 , 15.0820675, 22.476131 , 21.16298  , 23.336643 ,\n",
       "       21.860806 , 12.469439 , 23.36113  , 30.275917 , 23.340336 ,\n",
       "       21.843918 , 22.939644 , 22.752838 , 16.397022 , 21.455196 ,\n",
       "       24.727066 , 15.082115 , 13.541472 , 14.894025 , 14.541982 ,\n",
       "       19.89116  , 30.007263 , 18.028015 , 19.434692 , 17.345982 ,\n",
       "       30.0974   , 36.34457  , 36.287773 , 20.190472 , 18.150948 ,\n",
       "       30.913303 , 21.791355 , 17.749298 , 21.83168  , 15.078375 ,\n",
       "       36.595783 , 15.082798 , 27.918415 , 23.376785 , 15.04759  ,\n",
       "       47.59188  , 23.20095  , 11.621665 ,  9.522903 , 18.076126 ,\n",
       "       18.038872 , 23.360378 , 15.083609 , 17.732418 , 15.08242  ,\n",
       "       23.03936  , 19.393917 , 20.082561 ,  8.268087 , 18.015224 ,\n",
       "       34.760242 , 23.285534 , 28.483894 , 17.750572 , 20.498558 ,\n",
       "       18.472382 , 36.332027 , 30.087257 , 23.691593 , 36.156956 ,\n",
       "       21.867859 , 30.007614 , 22.125202 , 35.563686 , 30.30096  ,\n",
       "       23.362755 , 21.012928 , 17.749508 , 20.374153 ,  9.456295 ,\n",
       "       31.270397 , 28.736008 , 22.076862 , 23.363323 , 14.6699915,\n",
       "       29.460133 ,  8.168116 , 29.277336 , 20.380058 , 36.21384  ,\n",
       "       23.08083  , 30.608486 , 26.348797 , 23.452522 , 15.062706 ,\n",
       "       17.491695 , 15.0833645, 23.360458 ,  9.539873 , 21.824966 ,\n",
       "       20.9426   , 23.356915 , 18.461967 , 28.305626 , 10.751083 ,\n",
       "       29.664837 , 21.926182 , 19.103683 , 18.139812 , 21.622513 ,\n",
       "       18.645065 , 23.27177  , 29.834766 , 47.547455 , 21.587353 ,\n",
       "       47.60622  , 30.570759 , 23.339722 , 18.097244 , 24.720749 ,\n",
       "       18.070858 , 12.846239 , 17.746582 , 18.073517 , 22.881477 ,\n",
       "       23.359959 , 23.484825 , 18.073528 , 23.277359 ,  9.762129 ,\n",
       "       18.05571  , 18.087132 , 18.464672 , 18.062523 , 14.958515 ,\n",
       "       47.593414 , 23.254543 ,  9.8323765, 20.844273 , 36.19243  ,\n",
       "       27.989319 , 18.084908 , 15.115784 , 17.814575 , 21.828754 ,\n",
       "       13.155685 , 18.06398  ,  8.785982 , 35.82762  , 17.391994 ,\n",
       "       34.35074  , 18.085587 , 22.771107 , 47.255653 , 20.74186  ,\n",
       "       15.626008 , 47.60457  , 23.322708 , 20.341705 ], dtype=float32)"
      ]
     },
     "execution_count": 81,
     "metadata": {},
     "output_type": "execute_result"
    }
   ],
   "source": [
    "pred3_1D"
   ]
  },
  {
   "cell_type": "code",
   "execution_count": 82,
   "metadata": {
    "scrolled": true
   },
   "outputs": [
    {
     "name": "stderr",
     "output_type": "stream",
     "text": [
      "C:\\Users\\montec3\\AppData\\Local\\Continuum\\anaconda3\\lib\\site-packages\\ipykernel_launcher.py:1: FutureWarning: Method .as_matrix will be removed in a future version. Use .values instead.\n",
      "  \"\"\"Entry point for launching an IPython kernel.\n"
     ]
    }
   ],
   "source": [
    "outTest3 = outputs_test.as_matrix().astype(np.float32)"
   ]
  },
  {
   "cell_type": "code",
   "execution_count": 83,
   "metadata": {},
   "outputs": [
    {
     "name": "stdout",
     "output_type": "stream",
     "text": [
      "\n",
      "Prediction whitened vs [Expected]\n",
      "\n",
      "23.367752075195312       [18.7]\n",
      "17.722972869873047       [19.7]\n",
      "18.028244018554688       [15.]\n",
      "18.082904815673828       [31.1]\n",
      "31.182395935058594       [23.3]\n",
      "21.613903045654297       [27.5]\n",
      "9.458020210266113       [25.]\n",
      "15.082354545593262       [21.]\n",
      "23.362483978271484       [23.4]\n",
      "23.44615936279297       [8.4]\n",
      "22.944156646728516       [31.5]\n",
      "19.813148498535156       [33.2]\n",
      "15.082845687866211       [19.4]\n",
      "30.086849212646484       [33.8]\n",
      "20.032958984375       [28.7]\n",
      "18.069671630859375       [13.1]\n",
      "30.139678955078125       [14.1]\n",
      "18.13094711303711       [18.4]\n",
      "12.847423553466797       [20.1]\n",
      "12.847053527832031       [20.7]\n",
      "18.36880874633789       [8.3]\n",
      "12.510868072509766       [12.]\n",
      "27.87255859375       [22.5]\n",
      "21.848339080810547       [19.9]\n",
      "15.08173656463623       [20.5]\n",
      "36.47161865234375       [20.1]\n",
      "22.099647521972656       [23.2]\n",
      "23.16140365600586       [25.1]\n",
      "22.874706268310547       [30.1]\n",
      "15.083677291870117       [18.5]\n",
      "47.58578109741211       [8.4]\n",
      "18.819416046142578       [35.2]\n",
      "21.861648559570312       [15.1]\n",
      "21.51763153076172       [22.5]\n",
      "17.931541442871094       [24.5]\n",
      "30.106727600097656       [24.4]\n",
      "17.455020904541016       [9.6]\n",
      "17.742820739746094       [32.9]\n",
      "26.36928939819336       [7.5]\n",
      "27.089435577392578       [13.8]\n",
      "17.992740631103516       [27.1]\n",
      "47.60390853881836       [31.]\n",
      "30.154277801513672       [14.6]\n",
      "15.008760452270508       [15.2]\n",
      "41.463321685791016       [23.]\n",
      "18.359188079833984       [19.3]\n",
      "15.075401306152344       [17.8]\n",
      "15.082822799682617       [5.]\n",
      "15.068984985351562       [7.2]\n",
      "31.168670654296875       [21.2]\n",
      "22.987220764160156       [13.9]\n",
      "18.54470443725586       [13.8]\n",
      "17.952598571777344       [18.2]\n",
      "23.213550567626953       [14.1]\n",
      "21.868972778320312       [35.4]\n",
      "14.938217163085938       [44.8]\n",
      "23.421669006347656       [14.9]\n",
      "17.682315826416016       [13.4]\n",
      "22.964031219482422       [28.4]\n",
      "21.819835662841797       [20.8]\n",
      "31.257770538330078       [20.]\n",
      "23.363075256347656       [42.8]\n",
      "15.047407150268555       [38.7]\n",
      "18.49311065673828       [19.2]\n",
      "23.468936920166016       [18.4]\n",
      "9.440228462219238       [17.5]\n",
      "47.60122299194336       [18.9]\n",
      "5.019092082977295       [15.6]\n",
      "30.023807525634766       [23.4]\n",
      "36.15373611450195       [20.6]\n",
      "15.0872163772583       [15.6]\n",
      "17.739887237548828       [11.9]\n",
      "22.656951904296875       [33.4]\n",
      "30.157833099365234       [19.4]\n",
      "22.986133575439453       [23.7]\n",
      "35.792789459228516       [32.5]\n",
      "21.832901000976562       [28.2]\n",
      "19.88821029663086       [23.1]\n",
      "15.069578170776367       [23.3]\n",
      "36.3323974609375       [20.]\n",
      "30.15283966064453       [26.4]\n",
      "8.084508895874023       [23.9]\n",
      "18.052661895751953       [24.6]\n",
      "47.599124908447266       [50.]\n",
      "36.340301513671875       [20.4]\n",
      "15.039056777954102       [22.9]\n",
      "34.7884635925293       [23.5]\n",
      "18.08102035522461       [23.6]\n",
      "47.59306716918945       [21.4]\n",
      "25.623172760009766       [20.9]\n",
      "18.687175750732422       [10.2]\n",
      "23.362873077392578       [17.5]\n",
      "18.194042205810547       [16.4]\n",
      "21.815303802490234       [19.1]\n",
      "13.317438125610352       [19.6]\n",
      "21.848430633544922       [16.3]\n",
      "23.26569366455078       [30.1]\n",
      "18.830230712890625       [24.7]\n",
      "47.606300354003906       [8.7]\n",
      "30.185260772705078       [13.2]\n",
      "23.363513946533203       [22.8]\n",
      "15.078224182128906       [19.]\n",
      "22.26457977294922       [23.1]\n",
      "23.18853759765625       [24.8]\n",
      "17.61484146118164       [12.3]\n",
      "15.083654403686523       [21.4]\n",
      "17.924365997314453       [27.9]\n",
      "29.535480499267578       [33.1]\n",
      "9.485494613647461       [22.]\n",
      "23.268268585205078       [46.7]\n",
      "23.285560607910156       [11.]\n",
      "21.869266510009766       [18.3]\n",
      "15.902899742126465       [7.]\n",
      "29.440692901611328       [33.4]\n",
      "23.984718322753906       [50.]\n",
      "18.34762191772461       [15.]\n",
      "30.119861602783203       [13.1]\n",
      "23.361515045166016       [16.7]\n",
      "20.371524810791016       [25.]\n",
      "18.835769653320312       [14.1]\n",
      "20.784236907958984       [18.]\n",
      "14.356895446777344       [23.3]\n",
      "29.52817153930664       [23.7]\n",
      "21.088741302490234       [23.]\n",
      "20.088294982910156       [20.]\n",
      "23.355152130126953       [21.8]\n",
      "23.320438385009766       [17.2]\n",
      "20.771106719970703       [19.5]\n",
      "23.26773452758789       [26.6]\n",
      "47.59446334838867       [29.9]\n",
      "23.276317596435547       [21.7]\n",
      "10.229726791381836       [13.3]\n",
      "20.302391052246094       [17.8]\n",
      "9.414128303527832       [25.3]\n",
      "19.363201141357422       [23.1]\n",
      "23.30298614501953       [17.2]\n",
      "25.127483367919922       [24.2]\n",
      "14.319589614868164       [22.3]\n",
      "21.183456420898438       [33.]\n",
      "20.64885139465332       [6.3]\n",
      "18.077129364013672       [23.1]\n",
      "30.159564971923828       [10.4]\n",
      "18.216327667236328       [22.3]\n",
      "15.037693977355957       [22.1]\n",
      "21.862762451171875       [21.2]\n",
      "29.540088653564453       [20.3]\n",
      "30.109920501708984       [28.5]\n",
      "47.605960845947266       [24.8]\n",
      "21.51498031616211       [13.8]\n",
      "18.077205657958984       [23.8]\n",
      "23.359745025634766       [22.4]\n",
      "47.60407638549805       [50.]\n"
     ]
    }
   ],
   "source": [
    "# show predictions and actual values\n",
    "print('\\nPrediction whitened vs [Expected]\\n') # '\\u0332'.join to underline text\n",
    "table2 = '\\n'.join('{}       {}'.format(x, y) for x, y in zip(pred3_1D, outTest3))\n",
    "print(table2)"
   ]
  },
  {
   "cell_type": "code",
   "execution_count": 84,
   "metadata": {},
   "outputs": [
    {
     "name": "stdout",
     "output_type": "stream",
     "text": [
      "152/152 [==============================] - 0s 368us/step\n"
     ]
    },
    {
     "data": {
      "text/plain": [
       "[254.7539745130037, 0.0]"
      ]
     },
     "execution_count": 84,
     "metadata": {},
     "output_type": "execute_result"
    }
   ],
   "source": [
    "# Evaluating the network again\n",
    "model.evaluate(inputs_test, outputs_test)"
   ]
  },
  {
   "cell_type": "code",
   "execution_count": null,
   "metadata": {},
   "outputs": [],
   "source": []
  }
 ],
 "metadata": {
  "kernelspec": {
   "display_name": "Python 3",
   "language": "python",
   "name": "python3"
  },
  "language_info": {
   "codemirror_mode": {
    "name": "ipython",
    "version": 3
   },
   "file_extension": ".py",
   "mimetype": "text/x-python",
   "name": "python",
   "nbconvert_exporter": "python",
   "pygments_lexer": "ipython3",
   "version": "3.6.9"
  }
 },
 "nbformat": 4,
 "nbformat_minor": 2
}
