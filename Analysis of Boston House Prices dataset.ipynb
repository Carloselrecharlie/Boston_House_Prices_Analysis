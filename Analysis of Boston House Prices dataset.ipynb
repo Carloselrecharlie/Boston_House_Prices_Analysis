{
 "cells": [
  {
   "cell_type": "code",
   "execution_count": 1,
   "metadata": {},
   "outputs": [
    {
     "name": "stderr",
     "output_type": "stream",
     "text": [
      "Using TensorFlow backend.\n",
      "C:\\Users\\montec3\\AppData\\Local\\Continuum\\anaconda3\\lib\\site-packages\\tensorflow\\python\\framework\\dtypes.py:526: FutureWarning: Passing (type, 1) or '1type' as a synonym of type is deprecated; in a future version of numpy, it will be understood as (type, (1,)) / '(1,)type'.\n",
      "  _np_qint8 = np.dtype([(\"qint8\", np.int8, 1)])\n",
      "C:\\Users\\montec3\\AppData\\Local\\Continuum\\anaconda3\\lib\\site-packages\\tensorflow\\python\\framework\\dtypes.py:527: FutureWarning: Passing (type, 1) or '1type' as a synonym of type is deprecated; in a future version of numpy, it will be understood as (type, (1,)) / '(1,)type'.\n",
      "  _np_quint8 = np.dtype([(\"quint8\", np.uint8, 1)])\n",
      "C:\\Users\\montec3\\AppData\\Local\\Continuum\\anaconda3\\lib\\site-packages\\tensorflow\\python\\framework\\dtypes.py:528: FutureWarning: Passing (type, 1) or '1type' as a synonym of type is deprecated; in a future version of numpy, it will be understood as (type, (1,)) / '(1,)type'.\n",
      "  _np_qint16 = np.dtype([(\"qint16\", np.int16, 1)])\n",
      "C:\\Users\\montec3\\AppData\\Local\\Continuum\\anaconda3\\lib\\site-packages\\tensorflow\\python\\framework\\dtypes.py:529: FutureWarning: Passing (type, 1) or '1type' as a synonym of type is deprecated; in a future version of numpy, it will be understood as (type, (1,)) / '(1,)type'.\n",
      "  _np_quint16 = np.dtype([(\"quint16\", np.uint16, 1)])\n",
      "C:\\Users\\montec3\\AppData\\Local\\Continuum\\anaconda3\\lib\\site-packages\\tensorflow\\python\\framework\\dtypes.py:530: FutureWarning: Passing (type, 1) or '1type' as a synonym of type is deprecated; in a future version of numpy, it will be understood as (type, (1,)) / '(1,)type'.\n",
      "  _np_qint32 = np.dtype([(\"qint32\", np.int32, 1)])\n",
      "C:\\Users\\montec3\\AppData\\Local\\Continuum\\anaconda3\\lib\\site-packages\\tensorflow\\python\\framework\\dtypes.py:535: FutureWarning: Passing (type, 1) or '1type' as a synonym of type is deprecated; in a future version of numpy, it will be understood as (type, (1,)) / '(1,)type'.\n",
      "  np_resource = np.dtype([(\"resource\", np.ubyte, 1)])\n"
     ]
    }
   ],
   "source": [
    "import numpy as np\n",
    "import pandas as pd  \n",
    "import seaborn as sns\n",
    "# For importing the boston house dataset\n",
    "from sklearn.datasets import load_boston\n",
    "import matplotlib.pyplot as plt\n",
    "import scipy.stats as stats\n",
    "# For building neural networks.\n",
    "import keras as kr\n",
    "# For encoding categorical variables.\n",
    "import sklearn.preprocessing as pre\n",
    "# For splitting into training and test sets.\n",
    "import sklearn.model_selection as mod\n",
    "# For whitening the inputs\n",
    "import sklearn.decomposition as dec\n",
    "# Set default size of plots\n",
    "plt.rcParams['figure.figsize'] = (10.0, 5.0)"
   ]
  },
  {
   "cell_type": "markdown",
   "metadata": {},
   "source": [
    "# Description"
   ]
  },
  {
   "cell_type": "markdown",
   "metadata": {},
   "source": [
    "- I take the dataset from sklearn package and show its description:"
   ]
  },
  {
   "cell_type": "code",
   "execution_count": 2,
   "metadata": {},
   "outputs": [
    {
     "name": "stdout",
     "output_type": "stream",
     "text": [
      ".. _boston_dataset:\n",
      "\n",
      "Boston house prices dataset\n",
      "---------------------------\n",
      "\n",
      "**Data Set Characteristics:**  \n",
      "\n",
      "    :Number of Instances: 506 \n",
      "\n",
      "    :Number of Attributes: 13 numeric/categorical predictive. Median Value (attribute 14) is usually the target.\n",
      "\n",
      "    :Attribute Information (in order):\n",
      "        - CRIM     per capita crime rate by town\n",
      "        - ZN       proportion of residential land zoned for lots over 25,000 sq.ft.\n",
      "        - INDUS    proportion of non-retail business acres per town\n",
      "        - CHAS     Charles River dummy variable (= 1 if tract bounds river; 0 otherwise)\n",
      "        - NOX      nitric oxides concentration (parts per 10 million)\n",
      "        - RM       average number of rooms per dwelling\n",
      "        - AGE      proportion of owner-occupied units built prior to 1940\n",
      "        - DIS      weighted distances to five Boston employment centres\n",
      "        - RAD      index of accessibility to radial highways\n",
      "        - TAX      full-value property-tax rate per $10,000\n",
      "        - PTRATIO  pupil-teacher ratio by town\n",
      "        - B        1000(Bk - 0.63)^2 where Bk is the proportion of blacks by town\n",
      "        - LSTAT    % lower status of the population\n",
      "        - MEDV     Median value of owner-occupied homes in $1000's\n",
      "\n",
      "    :Missing Attribute Values: None\n",
      "\n",
      "    :Creator: Harrison, D. and Rubinfeld, D.L.\n",
      "\n",
      "This is a copy of UCI ML housing dataset.\n",
      "https://archive.ics.uci.edu/ml/machine-learning-databases/housing/\n",
      "\n",
      "\n",
      "This dataset was taken from the StatLib library which is maintained at Carnegie Mellon University.\n",
      "\n",
      "The Boston house-price data of Harrison, D. and Rubinfeld, D.L. 'Hedonic\n",
      "prices and the demand for clean air', J. Environ. Economics & Management,\n",
      "vol.5, 81-102, 1978.   Used in Belsley, Kuh & Welsch, 'Regression diagnostics\n",
      "...', Wiley, 1980.   N.B. Various transformations are used in the table on\n",
      "pages 244-261 of the latter.\n",
      "\n",
      "The Boston house-price data has been used in many machine learning papers that address regression\n",
      "problems.   \n",
      "     \n",
      ".. topic:: References\n",
      "\n",
      "   - Belsley, Kuh & Welsch, 'Regression diagnostics: Identifying Influential Data and Sources of Collinearity', Wiley, 1980. 244-261.\n",
      "   - Quinlan,R. (1993). Combining Instance-Based and Model-Based Learning. In Proceedings on the Tenth International Conference of Machine Learning, 236-243, University of Massachusetts, Amherst. Morgan Kaufmann.\n",
      "\n"
     ]
    }
   ],
   "source": [
    "# Stored the dataset in a variable, DS -dataset-\n",
    "DS = load_boston()\n",
    "# Dataset characteristics:\n",
    "print(DS.DESCR)"
   ]
  },
  {
   "cell_type": "markdown",
   "metadata": {},
   "source": [
    "---\n",
    "- Then there is 506 rows and 13 attributes other than the price median value (target). \n",
    "- This data was collected in 1978 and each of the 506 entries represents aggregate information about 14 features of homes from various suburbs located in Boston.\n",
    "- Now I create a pandas data frame to display the header of the table as a sample:"
   ]
  },
  {
   "cell_type": "code",
   "execution_count": 3,
   "metadata": {
    "scrolled": false
   },
   "outputs": [
    {
     "name": "stdout",
     "output_type": "stream",
     "text": [
      "(#rows, #columns): (506, 13)\n"
     ]
    },
    {
     "data": {
      "text/html": [
       "<div>\n",
       "<style scoped>\n",
       "    .dataframe tbody tr th:only-of-type {\n",
       "        vertical-align: middle;\n",
       "    }\n",
       "\n",
       "    .dataframe tbody tr th {\n",
       "        vertical-align: top;\n",
       "    }\n",
       "\n",
       "    .dataframe thead th {\n",
       "        text-align: right;\n",
       "    }\n",
       "</style>\n",
       "<table border=\"1\" class=\"dataframe\">\n",
       "  <thead>\n",
       "    <tr style=\"text-align: right;\">\n",
       "      <th></th>\n",
       "      <th>CRIM</th>\n",
       "      <th>ZN</th>\n",
       "      <th>INDUS</th>\n",
       "      <th>CHAS</th>\n",
       "      <th>NOX</th>\n",
       "      <th>RM</th>\n",
       "      <th>AGE</th>\n",
       "      <th>DIS</th>\n",
       "      <th>RAD</th>\n",
       "      <th>TAX</th>\n",
       "      <th>PTRATIO</th>\n",
       "      <th>B</th>\n",
       "      <th>LSTAT</th>\n",
       "      <th>MEDV</th>\n",
       "    </tr>\n",
       "  </thead>\n",
       "  <tbody>\n",
       "    <tr>\n",
       "      <th>1</th>\n",
       "      <td>0.00632</td>\n",
       "      <td>18.0</td>\n",
       "      <td>2.31</td>\n",
       "      <td>0.0</td>\n",
       "      <td>0.538</td>\n",
       "      <td>6.575</td>\n",
       "      <td>65.2</td>\n",
       "      <td>4.0900</td>\n",
       "      <td>1.0</td>\n",
       "      <td>296.0</td>\n",
       "      <td>15.3</td>\n",
       "      <td>396.90</td>\n",
       "      <td>4.98</td>\n",
       "      <td>24.0</td>\n",
       "    </tr>\n",
       "    <tr>\n",
       "      <th>2</th>\n",
       "      <td>0.02731</td>\n",
       "      <td>0.0</td>\n",
       "      <td>7.07</td>\n",
       "      <td>0.0</td>\n",
       "      <td>0.469</td>\n",
       "      <td>6.421</td>\n",
       "      <td>78.9</td>\n",
       "      <td>4.9671</td>\n",
       "      <td>2.0</td>\n",
       "      <td>242.0</td>\n",
       "      <td>17.8</td>\n",
       "      <td>396.90</td>\n",
       "      <td>9.14</td>\n",
       "      <td>21.6</td>\n",
       "    </tr>\n",
       "    <tr>\n",
       "      <th>3</th>\n",
       "      <td>0.02729</td>\n",
       "      <td>0.0</td>\n",
       "      <td>7.07</td>\n",
       "      <td>0.0</td>\n",
       "      <td>0.469</td>\n",
       "      <td>7.185</td>\n",
       "      <td>61.1</td>\n",
       "      <td>4.9671</td>\n",
       "      <td>2.0</td>\n",
       "      <td>242.0</td>\n",
       "      <td>17.8</td>\n",
       "      <td>392.83</td>\n",
       "      <td>4.03</td>\n",
       "      <td>34.7</td>\n",
       "    </tr>\n",
       "    <tr>\n",
       "      <th>4</th>\n",
       "      <td>0.03237</td>\n",
       "      <td>0.0</td>\n",
       "      <td>2.18</td>\n",
       "      <td>0.0</td>\n",
       "      <td>0.458</td>\n",
       "      <td>6.998</td>\n",
       "      <td>45.8</td>\n",
       "      <td>6.0622</td>\n",
       "      <td>3.0</td>\n",
       "      <td>222.0</td>\n",
       "      <td>18.7</td>\n",
       "      <td>394.63</td>\n",
       "      <td>2.94</td>\n",
       "      <td>33.4</td>\n",
       "    </tr>\n",
       "    <tr>\n",
       "      <th>5</th>\n",
       "      <td>0.06905</td>\n",
       "      <td>0.0</td>\n",
       "      <td>2.18</td>\n",
       "      <td>0.0</td>\n",
       "      <td>0.458</td>\n",
       "      <td>7.147</td>\n",
       "      <td>54.2</td>\n",
       "      <td>6.0622</td>\n",
       "      <td>3.0</td>\n",
       "      <td>222.0</td>\n",
       "      <td>18.7</td>\n",
       "      <td>396.90</td>\n",
       "      <td>5.33</td>\n",
       "      <td>36.2</td>\n",
       "    </tr>\n",
       "  </tbody>\n",
       "</table>\n",
       "</div>"
      ],
      "text/plain": [
       "      CRIM    ZN  INDUS  CHAS    NOX     RM   AGE     DIS  RAD    TAX  \\\n",
       "1  0.00632  18.0   2.31   0.0  0.538  6.575  65.2  4.0900  1.0  296.0   \n",
       "2  0.02731   0.0   7.07   0.0  0.469  6.421  78.9  4.9671  2.0  242.0   \n",
       "3  0.02729   0.0   7.07   0.0  0.469  7.185  61.1  4.9671  2.0  242.0   \n",
       "4  0.03237   0.0   2.18   0.0  0.458  6.998  45.8  6.0622  3.0  222.0   \n",
       "5  0.06905   0.0   2.18   0.0  0.458  7.147  54.2  6.0622  3.0  222.0   \n",
       "\n",
       "   PTRATIO       B  LSTAT  MEDV  \n",
       "1     15.3  396.90   4.98  24.0  \n",
       "2     17.8  396.90   9.14  21.6  \n",
       "3     17.8  392.83   4.03  34.7  \n",
       "4     18.7  394.63   2.94  33.4  \n",
       "5     18.7  396.90   5.33  36.2  "
      ]
     },
     "execution_count": 3,
     "metadata": {},
     "output_type": "execute_result"
    }
   ],
   "source": [
    "print('(#rows, #columns):', DS.data.shape) #shows count of rows and columns\n",
    "bhp = pd.DataFrame(DS.data, columns=DS.feature_names) # bhp stands for Boston house prices\n",
    "bhp.index += 1 #starting the index from 1 instead of 0 (first row is still indexed as 0)\n",
    "bhp['MEDV'] = DS.target # Adding prices -MEDV- to the table\n",
    "bhp.head() # .head() shows just the first five rows"
   ]
  },
  {
   "cell_type": "markdown",
   "metadata": {},
   "source": [
    "For a first glance there is an option to describe all the attributes of the dataset individually and visualize their distribution by twos. That is what the code from the cell below shows, it is commented because it takes a lot of space and much information returned is not revealing. Following, I will summarise the main features of the dataset but if you are curious enough you may want to uncomment the block and rerun the cell. "
   ]
  },
  {
   "cell_type": "code",
   "execution_count": 4,
   "metadata": {
    "scrolled": false
   },
   "outputs": [],
   "source": [
    "# # The pairplot function of seaborn draws scatterplots for joint relationships and histograms for univariate distributions\n",
    "# sns.pairplot(bhp)\n",
    "# plt.show()\n",
    "# # shows count, mean, std, min, 25%, 50%, 75% and max of all attributes \n",
    "# bhp.describe().T # .describe() shows count, mean, std, min, 25%, 50%, 75% and max.T switches position of headers and first column just for a better fit of the table on the page"
   ]
  },
  {
   "cell_type": "markdown",
   "metadata": {},
   "source": [
    "- Making sure that all the values are floats and check if any of them are missing:"
   ]
  },
  {
   "cell_type": "code",
   "execution_count": 5,
   "metadata": {},
   "outputs": [
    {
     "data": {
      "text/plain": [
       "CRIM       float64\n",
       "ZN         float64\n",
       "INDUS      float64\n",
       "CHAS       float64\n",
       "NOX        float64\n",
       "RM         float64\n",
       "AGE        float64\n",
       "DIS        float64\n",
       "RAD        float64\n",
       "TAX        float64\n",
       "PTRATIO    float64\n",
       "B          float64\n",
       "LSTAT      float64\n",
       "MEDV       float64\n",
       "dtype: object"
      ]
     },
     "execution_count": 5,
     "metadata": {},
     "output_type": "execute_result"
    }
   ],
   "source": [
    "bhp.dtypes"
   ]
  },
  {
   "cell_type": "code",
   "execution_count": 6,
   "metadata": {
    "scrolled": false
   },
   "outputs": [
    {
     "data": {
      "text/plain": [
       "CRIM       0\n",
       "ZN         0\n",
       "INDUS      0\n",
       "CHAS       0\n",
       "NOX        0\n",
       "RM         0\n",
       "AGE        0\n",
       "DIS        0\n",
       "RAD        0\n",
       "TAX        0\n",
       "PTRATIO    0\n",
       "B          0\n",
       "LSTAT      0\n",
       "MEDV       0\n",
       "dtype: int64"
      ]
     },
     "execution_count": 6,
     "metadata": {},
     "output_type": "execute_result"
    }
   ],
   "source": [
    "bhp.isnull().sum()"
   ]
  },
  {
   "cell_type": "markdown",
   "metadata": {},
   "source": [
    "- All are floats and there is no missing values.\n",
    "- The main atribute, which this notebook focuses on, is the price of the houses (__MEDV__, median value of the price in $1000's)\n"
   ]
  },
  {
   "cell_type": "code",
   "execution_count": 7,
   "metadata": {
    "scrolled": true
   },
   "outputs": [
    {
     "data": {
      "image/png": "[encoded data removed]",
      "text/plain": [
       "<Figure size 432x288 with 1 Axes>"
      ]
     },
     "metadata": {
      "needs_background": "light"
     },
     "output_type": "display_data"
    }
   ],
   "source": [
    "# Histogram of the price attribute\n",
    "sns.distplot(bhp['MEDV']) # Passing the MEDV -price- column to the distplot() function of seaborn\n",
    "plt.show()"
   ]
  },
  {
   "cell_type": "markdown",
   "metadata": {},
   "source": [
    "- It shows a normal distribution where there is more data concentrated on the smaller value side (left) with an outstanding rise on the highest price side (right). This is no surprise since in general most population can not afford the most pricey houses.The figures show the same, 75% of the values are up to 25.00, which is near the mean (22.53)"
   ]
  },
  {
   "cell_type": "code",
   "execution_count": 8,
   "metadata": {},
   "outputs": [
    {
     "data": {
      "text/plain": [
       "count    506.000000\n",
       "mean      22.532806\n",
       "std        9.197104\n",
       "min        5.000000\n",
       "25%       17.025000\n",
       "50%       21.200000\n",
       "75%       25.000000\n",
       "max       50.000000\n",
       "Name: MEDV, dtype: float64"
      ]
     },
     "execution_count": 8,
     "metadata": {},
     "output_type": "execute_result"
    }
   ],
   "source": [
    "# Data exploration\n",
    "bhp['MEDV'].describe() # Description of the price -MEDV- column"
   ]
  },
  {
   "cell_type": "markdown",
   "metadata": {},
   "source": [
    "- There is a <u>moderate to strong correlation</u> between price (__MEDV__) and number of rooms (__RM__). Note that this figure is displayed as 0.70 whereas the actual value is 0.695359947071539 since it was rounded when formatting floats to show only two decimal points (this affects the whole table with correlations above). This fact is meaningless in terms of interpretation."
   ]
  },
  {
   "cell_type": "code",
   "execution_count": 9,
   "metadata": {},
   "outputs": [
    {
     "data": {
      "text/plain": [
       "0.695359947071539"
      ]
     },
     "execution_count": 9,
     "metadata": {},
     "output_type": "execute_result"
    }
   ],
   "source": [
    "bhp['RM'].corr(bhp['MEDV'])"
   ]
  },
  {
   "cell_type": "markdown",
   "metadata": {},
   "source": [
    "Now I will plot it along with its regression line in red:"
   ]
  },
  {
   "cell_type": "code",
   "execution_count": 10,
   "metadata": {
    "scrolled": false
   },
   "outputs": [
    {
     "name": "stdout",
     "output_type": "stream",
     "text": [
      "m = 9.1021; c = -34.6706\n"
     ]
    },
    {
     "data": {
      "image/png": "[encoded data removed]",
      "text/plain": [
       "<Figure size 432x288 with 1 Axes>"
      ]
     },
     "metadata": {
      "needs_background": "light"
     },
     "output_type": "display_data"
    }
   ],
   "source": [
    "# plotting both variables with small black dots \n",
    "plt.plot(bhp['RM'],bhp['MEDV'], 'k,')\n",
    "# getting the parameters from the regression line that best fit these pair of coordinates\n",
    "m, c = np.polyfit(bhp['RM'], bhp['MEDV'], 1)\n",
    "print('m = %.4f; c = %.4f' %(m,c)) # %.4f to show just 4 decimal points\n",
    "# drawing the regression line in red\n",
    "plt.plot(bhp['RM'], m * bhp['RM'] + c, 'r', linewidth=0.5)\n",
    "# setting axes labels\n",
    "plt.xlabel('RM', fontsize=18)\n",
    "plt.ylabel('MEDV', fontsize=18)\n",
    "plt.show()"
   ]
  },
  {
   "cell_type": "markdown",
   "metadata": {},
   "source": [
    "Then the function that defines this linear correlation is:\n",
    "\n",
    "$$ MEDV = 9.1\\times LSTAT - 34.67 $$\n"
   ]
  },
  {
   "cell_type": "markdown",
   "metadata": {},
   "source": [
    "- And this correlation between price and number of rooms tends to be the rule in practice.\n",
    "- Also there is a <u>moderate to strong negative linear correlation</u> with a coefficient of -0.74 between price (__MEDV__) and the proportion of population with limited resources (__LSTAT__). This is, the greater proportion of this population, the lower the price is.\n",
    "- However when plotting this two ocurrences I do not see a linear relation, but a quadratic or even an asymptotic-like one:"
   ]
  },
  {
   "cell_type": "code",
   "execution_count": 11,
   "metadata": {
    "scrolled": false
   },
   "outputs": [
    {
     "name": "stdout",
     "output_type": "stream",
     "text": [
      "m = 0.0435; n = -2.3328; c = 42.8620\n"
     ]
    },
    {
     "data": {
      "image/png": "[encoded data removed]",
      "text/plain": [
       "<Figure size 432x288 with 1 Axes>"
      ]
     },
     "metadata": {
      "needs_background": "light"
     },
     "output_type": "display_data"
    }
   ],
   "source": [
    "# plotting both variables with small blue dots \n",
    "plt.plot(bhp['LSTAT'],bhp['MEDV'], 'b,')\n",
    "# getting the parameters from the regression line that best fit these pair of coordinates\n",
    "m, n, c = np.polyfit(bhp['LSTAT'], bhp['MEDV'], 2)\n",
    "# drawing the regression line in red\n",
    "plt.plot(bhp['LSTAT'], m*bhp['LSTAT']**2 + n * bhp['LSTAT'] + c, 'r-', linewidth=0.02)\n",
    "# setting axes labels\n",
    "plt.xlabel('LSTAT', fontsize=18)\n",
    "plt.ylabel('MEDV', fontsize=18)\n",
    "print('m = %.4f; n = %.4f; c = %.4f' %(m,n,c)) # %.4f to show just 4 decimal points"
   ]
  },
  {
   "cell_type": "markdown",
   "metadata": {},
   "source": [
    "And the function that defines this quadratic correlation is:\n",
    "\n",
    "$$ MEDV = 0.04\\times LSTAT^2 - 2.33\\times LSTAT + 42.86$$"
   ]
  },
  {
   "cell_type": "markdown",
   "metadata": {},
   "source": [
    "And this fact leads me to check the distribution of the population:"
   ]
  },
  {
   "cell_type": "code",
   "execution_count": 12,
   "metadata": {
    "scrolled": true
   },
   "outputs": [
    {
     "data": {
      "image/png": "[encoded data removed]",
      "text/plain": [
       "<Figure size 432x288 with 1 Axes>"
      ]
     },
     "metadata": {
      "needs_background": "light"
     },
     "output_type": "display_data"
    }
   ],
   "source": [
    "sns.distplot(bhp[\"LSTAT\"]) # Passing the LSTAT column to the distplot() function of seaborn\n",
    "plt.show()"
   ]
  },
  {
   "cell_type": "markdown",
   "metadata": {},
   "source": [
    "Most of the occurences gather on the left side, where there is lower percentage of population with lower status. Now let's see the figures:"
   ]
  },
  {
   "cell_type": "code",
   "execution_count": 13,
   "metadata": {},
   "outputs": [
    {
     "data": {
      "text/plain": [
       "count    506.000000\n",
       "mean      12.653063\n",
       "std        7.141062\n",
       "min        1.730000\n",
       "25%        6.950000\n",
       "50%       11.360000\n",
       "75%       16.955000\n",
       "max       37.970000\n",
       "Name: LSTAT, dtype: float64"
      ]
     },
     "execution_count": 13,
     "metadata": {},
     "output_type": "execute_result"
    }
   ],
   "source": [
    "bhp['LSTAT'].describe()"
   ]
  },
  {
   "cell_type": "markdown",
   "metadata": {},
   "source": [
    "The 75% of the areas studied have up to a 17% -roughly- of population with lower status"
   ]
  },
  {
   "cell_type": "markdown",
   "metadata": {
    "scrolled": true
   },
   "source": [
    "sns.distplot(bhp[\"CRIM\"])\n",
    "plt.show()\n",
    "# per capita crime rate by town"
   ]
  },
  {
   "cell_type": "markdown",
   "metadata": {
    "scrolled": true
   },
   "source": [
    "sns.distplot(bhp[\"ZN\"])\n",
    "plt.show()\n",
    "# NO. Proportion of residential land zoned for lots over 25,000 sq.ft."
   ]
  },
  {
   "cell_type": "markdown",
   "metadata": {},
   "source": [
    "sns.distplot(bhp[\"INDUS\"])\n",
    "plt.show()\n",
    "# propocion terreno industrial. Distro normal con dos cabezas, tendencia a baja proporcion, ~6%"
   ]
  },
  {
   "cell_type": "markdown",
   "metadata": {},
   "source": [
    "sns.distplot(bhp[\"CHAS\"])\n",
    "# Charles River dummy variable (= 1 if tract bounds river; 0 otherwise)\n",
    "plt.show()\n",
    "bhp['CHAS'].sum()\n",
    "# hay 35 barrios en la orilla del rio (hay 35 unos)"
   ]
  },
  {
   "cell_type": "markdown",
   "metadata": {},
   "source": [
    "sns.distplot(bhp[\"NOX\"])\n",
    "plt.show()\n",
    "# nitric oxides concentration (parts per 10 million)"
   ]
  },
  {
   "cell_type": "markdown",
   "metadata": {
    "scrolled": true
   },
   "source": [
    "sns.distplot(bhp[\"AGE\"])\n",
    "plt.show()\n",
    "# proportion of owner-occupied units built prior to 1940"
   ]
  },
  {
   "cell_type": "markdown",
   "metadata": {},
   "source": [
    "sns.distplot(bhp[\"DIS\"])\n",
    "plt.show()\n",
    "#weighted distances to five Boston employment centres"
   ]
  },
  {
   "cell_type": "markdown",
   "metadata": {},
   "source": [
    "sns.distplot(bhp[\"RAD\"])\n",
    "plt.show()\n",
    "# index of accessibility to radial highways"
   ]
  },
  {
   "cell_type": "markdown",
   "metadata": {},
   "source": [
    "sns.distplot(bhp[\"TAX\"])\n",
    "plt.show()\n",
    "# full-value property-tax rate per $10,000"
   ]
  },
  {
   "cell_type": "markdown",
   "metadata": {},
   "source": [
    "sns.distplot(bhp[\"PTRATIO\"])\n",
    "plt.show()\n",
    "# pupil-teacher ratio by town"
   ]
  },
  {
   "cell_type": "markdown",
   "metadata": {},
   "source": [
    "sns.distplot(bhp[\"B\"])\n",
    "plt.show()\n",
    "# 1000(Bk - 0.63)^2 where Bk is the proportion of blacks by town"
   ]
  },
  {
   "cell_type": "markdown",
   "metadata": {},
   "source": [
    "It has a bell-like shape typical from the normal distribution. The shape of the left side is smoother but the right one is steeper. And regarding the extremes, the very left side with smaller observations is flat whereas the very right side has an outstanding outsider peak."
   ]
  },
  {
   "cell_type": "code",
   "execution_count": 14,
   "metadata": {
    "scrolled": true
   },
   "outputs": [
    {
     "data": {
      "text/html": [
       "<div>\n",
       "<style scoped>\n",
       "    .dataframe tbody tr th:only-of-type {\n",
       "        vertical-align: middle;\n",
       "    }\n",
       "\n",
       "    .dataframe tbody tr th {\n",
       "        vertical-align: top;\n",
       "    }\n",
       "\n",
       "    .dataframe thead th {\n",
       "        text-align: right;\n",
       "    }\n",
       "</style>\n",
       "<table border=\"1\" class=\"dataframe\">\n",
       "  <thead>\n",
       "    <tr style=\"text-align: right;\">\n",
       "      <th></th>\n",
       "      <th>count</th>\n",
       "      <th>mean</th>\n",
       "      <th>std</th>\n",
       "      <th>min</th>\n",
       "      <th>25%</th>\n",
       "      <th>50%</th>\n",
       "      <th>75%</th>\n",
       "      <th>max</th>\n",
       "    </tr>\n",
       "  </thead>\n",
       "  <tbody>\n",
       "    <tr>\n",
       "      <th>CRIM</th>\n",
       "      <td>506.0</td>\n",
       "      <td>3.613524</td>\n",
       "      <td>8.601545</td>\n",
       "      <td>0.00632</td>\n",
       "      <td>0.082045</td>\n",
       "      <td>0.25651</td>\n",
       "      <td>3.677083</td>\n",
       "      <td>88.9762</td>\n",
       "    </tr>\n",
       "    <tr>\n",
       "      <th>ZN</th>\n",
       "      <td>506.0</td>\n",
       "      <td>11.363636</td>\n",
       "      <td>23.322453</td>\n",
       "      <td>0.00000</td>\n",
       "      <td>0.000000</td>\n",
       "      <td>0.00000</td>\n",
       "      <td>12.500000</td>\n",
       "      <td>100.0000</td>\n",
       "    </tr>\n",
       "    <tr>\n",
       "      <th>INDUS</th>\n",
       "      <td>506.0</td>\n",
       "      <td>11.136779</td>\n",
       "      <td>6.860353</td>\n",
       "      <td>0.46000</td>\n",
       "      <td>5.190000</td>\n",
       "      <td>9.69000</td>\n",
       "      <td>18.100000</td>\n",
       "      <td>27.7400</td>\n",
       "    </tr>\n",
       "    <tr>\n",
       "      <th>CHAS</th>\n",
       "      <td>506.0</td>\n",
       "      <td>0.069170</td>\n",
       "      <td>0.253994</td>\n",
       "      <td>0.00000</td>\n",
       "      <td>0.000000</td>\n",
       "      <td>0.00000</td>\n",
       "      <td>0.000000</td>\n",
       "      <td>1.0000</td>\n",
       "    </tr>\n",
       "    <tr>\n",
       "      <th>NOX</th>\n",
       "      <td>506.0</td>\n",
       "      <td>0.554695</td>\n",
       "      <td>0.115878</td>\n",
       "      <td>0.38500</td>\n",
       "      <td>0.449000</td>\n",
       "      <td>0.53800</td>\n",
       "      <td>0.624000</td>\n",
       "      <td>0.8710</td>\n",
       "    </tr>\n",
       "    <tr>\n",
       "      <th>RM</th>\n",
       "      <td>506.0</td>\n",
       "      <td>6.284634</td>\n",
       "      <td>0.702617</td>\n",
       "      <td>3.56100</td>\n",
       "      <td>5.885500</td>\n",
       "      <td>6.20850</td>\n",
       "      <td>6.623500</td>\n",
       "      <td>8.7800</td>\n",
       "    </tr>\n",
       "    <tr>\n",
       "      <th>AGE</th>\n",
       "      <td>506.0</td>\n",
       "      <td>68.574901</td>\n",
       "      <td>28.148861</td>\n",
       "      <td>2.90000</td>\n",
       "      <td>45.025000</td>\n",
       "      <td>77.50000</td>\n",
       "      <td>94.075000</td>\n",
       "      <td>100.0000</td>\n",
       "    </tr>\n",
       "    <tr>\n",
       "      <th>DIS</th>\n",
       "      <td>506.0</td>\n",
       "      <td>3.795043</td>\n",
       "      <td>2.105710</td>\n",
       "      <td>1.12960</td>\n",
       "      <td>2.100175</td>\n",
       "      <td>3.20745</td>\n",
       "      <td>5.188425</td>\n",
       "      <td>12.1265</td>\n",
       "    </tr>\n",
       "    <tr>\n",
       "      <th>RAD</th>\n",
       "      <td>506.0</td>\n",
       "      <td>9.549407</td>\n",
       "      <td>8.707259</td>\n",
       "      <td>1.00000</td>\n",
       "      <td>4.000000</td>\n",
       "      <td>5.00000</td>\n",
       "      <td>24.000000</td>\n",
       "      <td>24.0000</td>\n",
       "    </tr>\n",
       "    <tr>\n",
       "      <th>TAX</th>\n",
       "      <td>506.0</td>\n",
       "      <td>408.237154</td>\n",
       "      <td>168.537116</td>\n",
       "      <td>187.00000</td>\n",
       "      <td>279.000000</td>\n",
       "      <td>330.00000</td>\n",
       "      <td>666.000000</td>\n",
       "      <td>711.0000</td>\n",
       "    </tr>\n",
       "    <tr>\n",
       "      <th>PTRATIO</th>\n",
       "      <td>506.0</td>\n",
       "      <td>18.455534</td>\n",
       "      <td>2.164946</td>\n",
       "      <td>12.60000</td>\n",
       "      <td>17.400000</td>\n",
       "      <td>19.05000</td>\n",
       "      <td>20.200000</td>\n",
       "      <td>22.0000</td>\n",
       "    </tr>\n",
       "    <tr>\n",
       "      <th>B</th>\n",
       "      <td>506.0</td>\n",
       "      <td>356.674032</td>\n",
       "      <td>91.294864</td>\n",
       "      <td>0.32000</td>\n",
       "      <td>375.377500</td>\n",
       "      <td>391.44000</td>\n",
       "      <td>396.225000</td>\n",
       "      <td>396.9000</td>\n",
       "    </tr>\n",
       "    <tr>\n",
       "      <th>LSTAT</th>\n",
       "      <td>506.0</td>\n",
       "      <td>12.653063</td>\n",
       "      <td>7.141062</td>\n",
       "      <td>1.73000</td>\n",
       "      <td>6.950000</td>\n",
       "      <td>11.36000</td>\n",
       "      <td>16.955000</td>\n",
       "      <td>37.9700</td>\n",
       "    </tr>\n",
       "    <tr>\n",
       "      <th>MEDV</th>\n",
       "      <td>506.0</td>\n",
       "      <td>22.532806</td>\n",
       "      <td>9.197104</td>\n",
       "      <td>5.00000</td>\n",
       "      <td>17.025000</td>\n",
       "      <td>21.20000</td>\n",
       "      <td>25.000000</td>\n",
       "      <td>50.0000</td>\n",
       "    </tr>\n",
       "  </tbody>\n",
       "</table>\n",
       "</div>"
      ],
      "text/plain": [
       "         count        mean         std        min         25%        50%  \\\n",
       "CRIM     506.0    3.613524    8.601545    0.00632    0.082045    0.25651   \n",
       "ZN       506.0   11.363636   23.322453    0.00000    0.000000    0.00000   \n",
       "INDUS    506.0   11.136779    6.860353    0.46000    5.190000    9.69000   \n",
       "CHAS     506.0    0.069170    0.253994    0.00000    0.000000    0.00000   \n",
       "NOX      506.0    0.554695    0.115878    0.38500    0.449000    0.53800   \n",
       "RM       506.0    6.284634    0.702617    3.56100    5.885500    6.20850   \n",
       "AGE      506.0   68.574901   28.148861    2.90000   45.025000   77.50000   \n",
       "DIS      506.0    3.795043    2.105710    1.12960    2.100175    3.20745   \n",
       "RAD      506.0    9.549407    8.707259    1.00000    4.000000    5.00000   \n",
       "TAX      506.0  408.237154  168.537116  187.00000  279.000000  330.00000   \n",
       "PTRATIO  506.0   18.455534    2.164946   12.60000   17.400000   19.05000   \n",
       "B        506.0  356.674032   91.294864    0.32000  375.377500  391.44000   \n",
       "LSTAT    506.0   12.653063    7.141062    1.73000    6.950000   11.36000   \n",
       "MEDV     506.0   22.532806    9.197104    5.00000   17.025000   21.20000   \n",
       "\n",
       "                75%       max  \n",
       "CRIM       3.677083   88.9762  \n",
       "ZN        12.500000  100.0000  \n",
       "INDUS     18.100000   27.7400  \n",
       "CHAS       0.000000    1.0000  \n",
       "NOX        0.624000    0.8710  \n",
       "RM         6.623500    8.7800  \n",
       "AGE       94.075000  100.0000  \n",
       "DIS        5.188425   12.1265  \n",
       "RAD       24.000000   24.0000  \n",
       "TAX      666.000000  711.0000  \n",
       "PTRATIO   20.200000   22.0000  \n",
       "B        396.225000  396.9000  \n",
       "LSTAT     16.955000   37.9700  \n",
       "MEDV      25.000000   50.0000  "
      ]
     },
     "execution_count": 14,
     "metadata": {},
     "output_type": "execute_result"
    }
   ],
   "source": [
    "# Data exploration\n",
    "bhp.describe().T"
   ]
  },
  {
   "cell_type": "markdown",
   "metadata": {},
   "source": [
    "sns.pairplot(bhp, \n",
    "                 x_vars=[\"MEDV\"],\n",
    "                 y_vars=[\"CRIM\",\"ZN\",\"INDUS\",\"CHAS\",\"NOX\",\"RM\",\"AGE\",\"DIS\",\"RAD\",\"TAX\",\"PTRATIO\",\"B\",\"LSTAT\"], aspect=11.7/8.27)\n",
    "plt.show()"
   ]
  },
  {
   "cell_type": "markdown",
   "metadata": {},
   "source": [
    "In turn, __LSTAT__ is also moderately correlated to __INDUS__, __NOX__, __AGE__, __TAX__ and also __RM__ as I explained above. So by checking the correlation coefficient I have chosen the main attributes to consider: the two which are more related to the price (__RM__ and __LSTAT__), which is the target, and the main influencers over these two (__INDUS__, __NOX__, __AGE__, __TAX__), six of them in total."
   ]
  },
  {
   "cell_type": "markdown",
   "metadata": {},
   "source": [
    "# Inference"
   ]
  },
  {
   "cell_type": "markdown",
   "metadata": {},
   "source": [
    "Here I will try to show if there is a significant difference in median house prices between houses that are along the Charles river and those that aren’t. For this analysis I am going to create two arrays which hold the values of the price from houses located on the river bank (where column CHAS is 1) and a different array that contains the price of the properties away from it (where column CHAS is 0)"
   ]
  },
  {
   "cell_type": "code",
   "execution_count": 15,
   "metadata": {},
   "outputs": [
    {
     "name": "stdout",
     "output_type": "stream",
     "text": [
      "35  - mean =  28.439999999999998  - NotBank length =  471  - mean =  22.093842887473464\n",
      "Ttest_indResult(statistic=3.996437466090509, pvalue=7.390623170519905e-05)\n"
     ]
    }
   ],
   "source": [
    "# Creating two arrays which contain the MEDV values from properties on the river bank and away from it:\n",
    "Bank = []\n",
    "NotBank = []\n",
    "\n",
    "# for loop to iterate row after row along the data frame:\n",
    "for index, row in bhp.iterrows():\n",
    "    if (row['CHAS'] == 0):\n",
    "        NotBank.append(row['MEDV'])\n",
    "    else:\n",
    "        # CHAS values are either 0 or 1 so this else statement only considers the ones.\n",
    "        Bank.append(row['MEDV'])\n",
    "        \n",
    "ttest = stats.ttest_ind(Bank, NotBank)\n",
    "\n",
    "print(len(Bank), ' - mean = ', np.mean(Bank), ' - NotBank length = ', len(NotBank), ' - mean = ', np.mean(NotBank))\n",
    "\n",
    "print(ttest)"
   ]
  },
  {
   "cell_type": "markdown",
   "metadata": {},
   "source": [
    "Then pvalue is 7.4 x 10<sup>-5</sup>, with such low probability I can reject the null hypothesis and consider the medians of the price differ significantly."
   ]
  },
  {
   "cell_type": "code",
   "execution_count": 16,
   "metadata": {
    "scrolled": false
   },
   "outputs": [
    {
     "data": {
      "image/png": "[encoded data removed]",
      "text/plain": [
       "<Figure size 432x288 with 1 Axes>"
      ]
     },
     "metadata": {
      "needs_background": "light"
     },
     "output_type": "display_data"
    }
   ],
   "source": [
    "#sns.distplot(Bank)\n",
    "#sns.distplot(NotBank)\n",
    "\n",
    "# Plot histograms of the two samples.\n",
    "plt.hist(Bank, density=True, color='g', alpha=0.25, label=\"Sample A\")\n",
    "plt.hist(NotBank, density=True, color='b', alpha=0.25, label=\"Sample B\")\n",
    "\n",
    "\n",
    "plt.show()"
   ]
  },
  {
   "cell_type": "code",
   "execution_count": 17,
   "metadata": {
    "scrolled": true
   },
   "outputs": [
    {
     "name": "stdout",
     "output_type": "stream",
     "text": [
      "135.64354285714285\n"
     ]
    },
    {
     "data": {
      "text/plain": [
       "77.8273718564197"
      ]
     },
     "execution_count": 17,
     "metadata": {},
     "output_type": "execute_result"
    }
   ],
   "source": [
    "print(np.var(Bank))\n",
    "np.var(NotBank)"
   ]
  },
  {
   "cell_type": "code",
   "execution_count": 18,
   "metadata": {
    "scrolled": true
   },
   "outputs": [
    {
     "data": {
      "image/png": "[encoded data removed]",
      "text/plain": [
       "<Figure size 432x288 with 1 Axes>"
      ]
     },
     "metadata": {
      "needs_background": "light"
     },
     "output_type": "display_data"
    }
   ],
   "source": [
    "sns.distplot(bhp['MEDV']) \n",
    "\n",
    "plt.show()"
   ]
  },
  {
   "cell_type": "code",
   "execution_count": 19,
   "metadata": {},
   "outputs": [
    {
     "name": "stdout",
     "output_type": "stream",
     "text": [
      "On the river bank 6 values out of 35 are 50, whereas away from it, just 10 out of 471\n"
     ]
    }
   ],
   "source": [
    "print('On the river bank',Bank.count(50), 'values out of',len(Bank), 'are 50,', 'whereas away from it, just', NotBank.count(50), 'out of',len(NotBank))"
   ]
  },
  {
   "cell_type": "code",
   "execution_count": 20,
   "metadata": {},
   "outputs": [
    {
     "data": {
      "text/plain": [
       "10"
      ]
     },
     "execution_count": 20,
     "metadata": {},
     "output_type": "execute_result"
    }
   ],
   "source": [
    "NotBank.count(50)"
   ]
  },
  {
   "cell_type": "code",
   "execution_count": 21,
   "metadata": {},
   "outputs": [
    {
     "data": {
      "text/plain": [
       "F_onewayResult(statistic=15.971512420371962, pvalue=7.390623170520815e-05)"
      ]
     },
     "execution_count": 21,
     "metadata": {},
     "output_type": "execute_result"
    }
   ],
   "source": [
    "stats.f_oneway(Bank,NotBank)"
   ]
  },
  {
   "cell_type": "code",
   "execution_count": 22,
   "metadata": {
    "scrolled": true
   },
   "outputs": [],
   "source": [
    "# sns.distplot(bhp[\"RM\"])\n",
    "# plt.show()\n",
    "# # average number of rooms per dwelling"
   ]
  },
  {
   "cell_type": "markdown",
   "metadata": {},
   "source": [
    "# Prediction\n",
    "\n",
    "In order to predict the price of a house according to some attributes input I will configure a neural network with keras. \n",
    "VARIATIONS: \n",
    "- attributes chosen\n",
    "- test_size=0.3\n",
    "- number of neuron layers\n",
    "- number of neuron layers\n",
    "- activation functions: tanh, relu, \n",
    "- loss='mean_squared_error', not many variations possible\n",
    "- optimizer='sgd'or 'adam'"
   ]
  },
  {
   "cell_type": "code",
   "execution_count": 23,
   "metadata": {},
   "outputs": [
    {
     "data": {
      "text/html": [
       "<div>\n",
       "<style scoped>\n",
       "    .dataframe tbody tr th:only-of-type {\n",
       "        vertical-align: middle;\n",
       "    }\n",
       "\n",
       "    .dataframe tbody tr th {\n",
       "        vertical-align: top;\n",
       "    }\n",
       "\n",
       "    .dataframe thead th {\n",
       "        text-align: right;\n",
       "    }\n",
       "</style>\n",
       "<table border=\"1\" class=\"dataframe\">\n",
       "  <thead>\n",
       "    <tr style=\"text-align: right;\">\n",
       "      <th></th>\n",
       "      <th>CRIM</th>\n",
       "      <th>ZN</th>\n",
       "      <th>INDUS</th>\n",
       "      <th>CHAS</th>\n",
       "      <th>NOX</th>\n",
       "      <th>RM</th>\n",
       "      <th>AGE</th>\n",
       "      <th>DIS</th>\n",
       "      <th>RAD</th>\n",
       "      <th>TAX</th>\n",
       "      <th>PTRATIO</th>\n",
       "      <th>B</th>\n",
       "    </tr>\n",
       "  </thead>\n",
       "  <tbody>\n",
       "    <tr>\n",
       "      <th>1</th>\n",
       "      <td>0.00632</td>\n",
       "      <td>18.0</td>\n",
       "      <td>2.31</td>\n",
       "      <td>0.0</td>\n",
       "      <td>0.538</td>\n",
       "      <td>6.575</td>\n",
       "      <td>65.2</td>\n",
       "      <td>4.0900</td>\n",
       "      <td>1.0</td>\n",
       "      <td>296.0</td>\n",
       "      <td>15.3</td>\n",
       "      <td>396.90</td>\n",
       "    </tr>\n",
       "    <tr>\n",
       "      <th>2</th>\n",
       "      <td>0.02731</td>\n",
       "      <td>0.0</td>\n",
       "      <td>7.07</td>\n",
       "      <td>0.0</td>\n",
       "      <td>0.469</td>\n",
       "      <td>6.421</td>\n",
       "      <td>78.9</td>\n",
       "      <td>4.9671</td>\n",
       "      <td>2.0</td>\n",
       "      <td>242.0</td>\n",
       "      <td>17.8</td>\n",
       "      <td>396.90</td>\n",
       "    </tr>\n",
       "    <tr>\n",
       "      <th>3</th>\n",
       "      <td>0.02729</td>\n",
       "      <td>0.0</td>\n",
       "      <td>7.07</td>\n",
       "      <td>0.0</td>\n",
       "      <td>0.469</td>\n",
       "      <td>7.185</td>\n",
       "      <td>61.1</td>\n",
       "      <td>4.9671</td>\n",
       "      <td>2.0</td>\n",
       "      <td>242.0</td>\n",
       "      <td>17.8</td>\n",
       "      <td>392.83</td>\n",
       "    </tr>\n",
       "    <tr>\n",
       "      <th>4</th>\n",
       "      <td>0.03237</td>\n",
       "      <td>0.0</td>\n",
       "      <td>2.18</td>\n",
       "      <td>0.0</td>\n",
       "      <td>0.458</td>\n",
       "      <td>6.998</td>\n",
       "      <td>45.8</td>\n",
       "      <td>6.0622</td>\n",
       "      <td>3.0</td>\n",
       "      <td>222.0</td>\n",
       "      <td>18.7</td>\n",
       "      <td>394.63</td>\n",
       "    </tr>\n",
       "    <tr>\n",
       "      <th>5</th>\n",
       "      <td>0.06905</td>\n",
       "      <td>0.0</td>\n",
       "      <td>2.18</td>\n",
       "      <td>0.0</td>\n",
       "      <td>0.458</td>\n",
       "      <td>7.147</td>\n",
       "      <td>54.2</td>\n",
       "      <td>6.0622</td>\n",
       "      <td>3.0</td>\n",
       "      <td>222.0</td>\n",
       "      <td>18.7</td>\n",
       "      <td>396.90</td>\n",
       "    </tr>\n",
       "    <tr>\n",
       "      <th>...</th>\n",
       "      <td>...</td>\n",
       "      <td>...</td>\n",
       "      <td>...</td>\n",
       "      <td>...</td>\n",
       "      <td>...</td>\n",
       "      <td>...</td>\n",
       "      <td>...</td>\n",
       "      <td>...</td>\n",
       "      <td>...</td>\n",
       "      <td>...</td>\n",
       "      <td>...</td>\n",
       "      <td>...</td>\n",
       "    </tr>\n",
       "    <tr>\n",
       "      <th>502</th>\n",
       "      <td>0.06263</td>\n",
       "      <td>0.0</td>\n",
       "      <td>11.93</td>\n",
       "      <td>0.0</td>\n",
       "      <td>0.573</td>\n",
       "      <td>6.593</td>\n",
       "      <td>69.1</td>\n",
       "      <td>2.4786</td>\n",
       "      <td>1.0</td>\n",
       "      <td>273.0</td>\n",
       "      <td>21.0</td>\n",
       "      <td>391.99</td>\n",
       "    </tr>\n",
       "    <tr>\n",
       "      <th>503</th>\n",
       "      <td>0.04527</td>\n",
       "      <td>0.0</td>\n",
       "      <td>11.93</td>\n",
       "      <td>0.0</td>\n",
       "      <td>0.573</td>\n",
       "      <td>6.120</td>\n",
       "      <td>76.7</td>\n",
       "      <td>2.2875</td>\n",
       "      <td>1.0</td>\n",
       "      <td>273.0</td>\n",
       "      <td>21.0</td>\n",
       "      <td>396.90</td>\n",
       "    </tr>\n",
       "    <tr>\n",
       "      <th>504</th>\n",
       "      <td>0.06076</td>\n",
       "      <td>0.0</td>\n",
       "      <td>11.93</td>\n",
       "      <td>0.0</td>\n",
       "      <td>0.573</td>\n",
       "      <td>6.976</td>\n",
       "      <td>91.0</td>\n",
       "      <td>2.1675</td>\n",
       "      <td>1.0</td>\n",
       "      <td>273.0</td>\n",
       "      <td>21.0</td>\n",
       "      <td>396.90</td>\n",
       "    </tr>\n",
       "    <tr>\n",
       "      <th>505</th>\n",
       "      <td>0.10959</td>\n",
       "      <td>0.0</td>\n",
       "      <td>11.93</td>\n",
       "      <td>0.0</td>\n",
       "      <td>0.573</td>\n",
       "      <td>6.794</td>\n",
       "      <td>89.3</td>\n",
       "      <td>2.3889</td>\n",
       "      <td>1.0</td>\n",
       "      <td>273.0</td>\n",
       "      <td>21.0</td>\n",
       "      <td>393.45</td>\n",
       "    </tr>\n",
       "    <tr>\n",
       "      <th>506</th>\n",
       "      <td>0.04741</td>\n",
       "      <td>0.0</td>\n",
       "      <td>11.93</td>\n",
       "      <td>0.0</td>\n",
       "      <td>0.573</td>\n",
       "      <td>6.030</td>\n",
       "      <td>80.8</td>\n",
       "      <td>2.5050</td>\n",
       "      <td>1.0</td>\n",
       "      <td>273.0</td>\n",
       "      <td>21.0</td>\n",
       "      <td>396.90</td>\n",
       "    </tr>\n",
       "  </tbody>\n",
       "</table>\n",
       "<p>506 rows × 12 columns</p>\n",
       "</div>"
      ],
      "text/plain": [
       "        CRIM    ZN  INDUS  CHAS    NOX     RM   AGE     DIS  RAD    TAX  \\\n",
       "1    0.00632  18.0   2.31   0.0  0.538  6.575  65.2  4.0900  1.0  296.0   \n",
       "2    0.02731   0.0   7.07   0.0  0.469  6.421  78.9  4.9671  2.0  242.0   \n",
       "3    0.02729   0.0   7.07   0.0  0.469  7.185  61.1  4.9671  2.0  242.0   \n",
       "4    0.03237   0.0   2.18   0.0  0.458  6.998  45.8  6.0622  3.0  222.0   \n",
       "5    0.06905   0.0   2.18   0.0  0.458  7.147  54.2  6.0622  3.0  222.0   \n",
       "..       ...   ...    ...   ...    ...    ...   ...     ...  ...    ...   \n",
       "502  0.06263   0.0  11.93   0.0  0.573  6.593  69.1  2.4786  1.0  273.0   \n",
       "503  0.04527   0.0  11.93   0.0  0.573  6.120  76.7  2.2875  1.0  273.0   \n",
       "504  0.06076   0.0  11.93   0.0  0.573  6.976  91.0  2.1675  1.0  273.0   \n",
       "505  0.10959   0.0  11.93   0.0  0.573  6.794  89.3  2.3889  1.0  273.0   \n",
       "506  0.04741   0.0  11.93   0.0  0.573  6.030  80.8  2.5050  1.0  273.0   \n",
       "\n",
       "     PTRATIO       B  \n",
       "1       15.3  396.90  \n",
       "2       17.8  396.90  \n",
       "3       17.8  392.83  \n",
       "4       18.7  394.63  \n",
       "5       18.7  396.90  \n",
       "..       ...     ...  \n",
       "502     21.0  391.99  \n",
       "503     21.0  396.90  \n",
       "504     21.0  396.90  \n",
       "505     21.0  393.45  \n",
       "506     21.0  396.90  \n",
       "\n",
       "[506 rows x 12 columns]"
      ]
     },
     "execution_count": 23,
     "metadata": {},
     "output_type": "execute_result"
    }
   ],
   "source": [
    "# Separate the inputs from the rest of the variables.\n",
    "inputs = bhp[['CRIM','ZN','INDUS','CHAS','NOX','RM','AGE','DIS','RAD','TAX','PTRATIO','B']]\n",
    "outputs = bhp[['MEDV']]\n",
    "inputs"
   ]
  },
  {
   "cell_type": "code",
   "execution_count": 24,
   "metadata": {},
   "outputs": [],
   "source": [
    "# Split the inputs and outputs into training and test sets. Standard way of training neural network tests. Training network on 70% of the data set and the 30% for testing -test_size=0.3-. Eventually train it on the whole dataset\n",
    "inputs_train, inputs_test, outputs_train, outputs_test = mod.train_test_split(inputs, outputs, test_size=0.3)\n",
    "# test_size=0.5, takes half of the data set to train beforehand"
   ]
  },
  {
   "cell_type": "code",
   "execution_count": 69,
   "metadata": {},
   "outputs": [],
   "source": [
    "# Starting a neural network, sequential for building it by layers.\n",
    "model = kr.models.Sequential()\n",
    "\n",
    "# Add a hidden layer with 10 neurons and an input layer with 12.\n",
    "model.add(kr.layers.Dense(units=150, activation='tanh', input_dim=12)) # input_dim=12, the twelve values from dataset.\n",
    "\n",
    "# Add another hidden layer \n",
    "model.add(kr.layers.Dense(units=50, activation='relu')) \n",
    "          \n",
    "# Add a one neuron output layer.\n",
    "model.add(kr.layers.Dense(units=1, activation='linear')) # Price is the only output I expect\n",
    "\n",
    "# Build the graph.\n",
    "model.compile(loss='mean_squared_error', optimizer='sgd', metrics=['accuracy'])\n",
    "# loss='categorical_crossentropy' is a standard loss function for a categorical variable."
   ]
  },
  {
   "cell_type": "code",
   "execution_count": 70,
   "metadata": {
    "scrolled": true
   },
   "outputs": [
    {
     "name": "stdout",
     "output_type": "stream",
     "text": [
      "Epoch 1/100\n",
      "354/354 [==============================] - 0s 1ms/step - loss: 639.8176 - accuracy: 0.0000e+00\n",
      "Epoch 2/100\n",
      "354/354 [==============================] - 0s 796us/step - loss: 73.1769 - accuracy: 0.0056\n",
      "Epoch 3/100\n",
      "354/354 [==============================] - 0s 590us/step - loss: 73.4703 - accuracy: 0.0141\n",
      "Epoch 4/100\n",
      "354/354 [==============================] - 0s 718us/step - loss: 73.2614 - accuracy: 0.0169\n",
      "Epoch 5/100\n",
      "354/354 [==============================] - 0s 902us/step - loss: 73.4291 - accuracy: 0.0113\n",
      "Epoch 6/100\n",
      "354/354 [==============================] - 0s 684us/step - loss: 73.4000 - accuracy: 0.0113\n",
      "Epoch 7/100\n",
      "354/354 [==============================] - 0s 975us/step - loss: 73.3853 - accuracy: 0.0113\n",
      "Epoch 8/100\n",
      "354/354 [==============================] - 0s 1ms/step - loss: 73.2763 - accuracy: 0.0085\n",
      "Epoch 9/100\n",
      "354/354 [==============================] - 0s 847us/step - loss: 73.4249 - accuracy: 0.0113\n",
      "Epoch 10/100\n",
      "354/354 [==============================] - 0s 766us/step - loss: 73.3786 - accuracy: 0.0169\n",
      "Epoch 11/100\n",
      "354/354 [==============================] - 0s 669us/step - loss: 73.3285 - accuracy: 0.0113\n",
      "Epoch 12/100\n",
      "354/354 [==============================] - 0s 689us/step - loss: 73.1695 - accuracy: 0.0113\n",
      "Epoch 13/100\n",
      "354/354 [==============================] - 0s 669us/step - loss: 73.1593 - accuracy: 0.0169\n",
      "Epoch 14/100\n",
      "354/354 [==============================] - 0s 737us/step - loss: 72.8364 - accuracy: 0.0141\n",
      "Epoch 15/100\n",
      "354/354 [==============================] - 0s 1ms/step - loss: 73.5569 - accuracy: 0.0113\n",
      "Epoch 16/100\n",
      "354/354 [==============================] - 0s 763us/step - loss: 73.4022 - accuracy: 0.0113\n",
      "Epoch 17/100\n",
      "354/354 [==============================] - 0s 692us/step - loss: 73.3703 - accuracy: 0.0113\n",
      "Epoch 18/100\n",
      "354/354 [==============================] - 0s 718us/step - loss: 73.4167 - accuracy: 0.0085\n",
      "Epoch 19/100\n",
      "354/354 [==============================] - 0s 630us/step - loss: 73.3736 - accuracy: 0.0113\n",
      "Epoch 20/100\n",
      "354/354 [==============================] - 0s 703us/step - loss: 73.3287 - accuracy: 0.0085\n",
      "Epoch 21/100\n",
      "354/354 [==============================] - 0s 808us/step - loss: 73.1680 - accuracy: 0.0056\n",
      "Epoch 22/100\n",
      "354/354 [==============================] - 0s 941us/step - loss: 73.2340 - accuracy: 0.0028\n",
      "Epoch 23/100\n",
      "354/354 [==============================] - 0s 904us/step - loss: 73.1504 - accuracy: 0.0113\n",
      "Epoch 24/100\n",
      "354/354 [==============================] - 0s 991us/step - loss: 73.3665 - accuracy: 0.0141\n",
      "Epoch 25/100\n",
      "354/354 [==============================] - 0s 895us/step - loss: 73.4387 - accuracy: 0.0169\n",
      "Epoch 26/100\n",
      "354/354 [==============================] - 0s 935us/step - loss: 72.7012 - accuracy: 0.0085\n",
      "Epoch 27/100\n",
      "354/354 [==============================] - 0s 1ms/step - loss: 73.2374 - accuracy: 0.0085\n",
      "Epoch 28/100\n",
      "354/354 [==============================] - 0s 866us/step - loss: 72.6505 - accuracy: 0.0113\n",
      "Epoch 29/100\n",
      "354/354 [==============================] - 0s 686us/step - loss: 73.4756 - accuracy: 0.0085\n",
      "Epoch 30/100\n",
      "354/354 [==============================] - 0s 904us/step - loss: 73.2833 - accuracy: 0.0141\n",
      "Epoch 31/100\n",
      "354/354 [==============================] - 0s 927us/step - loss: 73.2540 - accuracy: 0.0028\n",
      "Epoch 32/100\n",
      "354/354 [==============================] - 0s 836us/step - loss: 73.3942 - accuracy: 0.0113\n",
      "Epoch 33/100\n",
      "354/354 [==============================] - 0s 631us/step - loss: 73.1839 - accuracy: 0.0141\n",
      "Epoch 34/100\n",
      "354/354 [==============================] - 0s 873us/step - loss: 73.2721 - accuracy: 0.0198\n",
      "Epoch 35/100\n",
      "354/354 [==============================] - 0s 986us/step - loss: 73.3133 - accuracy: 0.0085\n",
      "Epoch 36/100\n",
      "354/354 [==============================] - 0s 1ms/step - loss: 73.3982 - accuracy: 0.0141\n",
      "Epoch 37/100\n",
      "354/354 [==============================] - 0s 856us/step - loss: 73.0534 - accuracy: 0.0056\n",
      "Epoch 38/100\n",
      "354/354 [==============================] - 0s 980us/step - loss: 73.1872 - accuracy: 0.0169\n",
      "Epoch 39/100\n",
      "354/354 [==============================] - 0s 819us/step - loss: 73.4462 - accuracy: 0.0113\n",
      "Epoch 40/100\n",
      "354/354 [==============================] - 0s 904us/step - loss: 73.3279 - accuracy: 0.0141\n",
      "Epoch 41/100\n",
      "354/354 [==============================] - 0s 811us/step - loss: 73.0547 - accuracy: 0.0085\n",
      "Epoch 42/100\n",
      "354/354 [==============================] - 0s 822us/step - loss: 73.3571 - accuracy: 0.0085\n",
      "Epoch 43/100\n",
      "354/354 [==============================] - 0s 1ms/step - loss: 73.4103 - accuracy: 0.0113\n",
      "Epoch 44/100\n",
      "354/354 [==============================] - 0s 791us/step - loss: 73.1461 - accuracy: 0.0141\n",
      "Epoch 45/100\n",
      "354/354 [==============================] - 0s 777us/step - loss: 73.4395 - accuracy: 0.0113\n",
      "Epoch 46/100\n",
      "354/354 [==============================] - 0s 836us/step - loss: 73.1425 - accuracy: 0.0056\n",
      "Epoch 47/100\n",
      "354/354 [==============================] - 0s 873us/step - loss: 73.1813 - accuracy: 0.0085\n",
      "Epoch 48/100\n",
      "354/354 [==============================] - 0s 862us/step - loss: 73.2332 - accuracy: 0.0113\n",
      "Epoch 49/100\n",
      "354/354 [==============================] - 0s 650us/step - loss: 73.0060 - accuracy: 0.0169\n",
      "Epoch 50/100\n",
      "354/354 [==============================] - 0s 862us/step - loss: 72.9457 - accuracy: 0.0113\n",
      "Epoch 51/100\n",
      "354/354 [==============================] - 0s 927us/step - loss: 73.4413 - accuracy: 0.0113\n",
      "Epoch 52/100\n",
      "354/354 [==============================] - 0s 910us/step - loss: 73.3469 - accuracy: 0.0113\n",
      "Epoch 53/100\n",
      "354/354 [==============================] - 0s 732us/step - loss: 73.2744 - accuracy: 0.0113\n",
      "Epoch 54/100\n",
      "354/354 [==============================] - 0s 612us/step - loss: 72.8289 - accuracy: 0.0056\n",
      "Epoch 55/100\n",
      "354/354 [==============================] - 0s 755us/step - loss: 73.3826 - accuracy: 0.0056\n",
      "Epoch 56/100\n",
      "354/354 [==============================] - 0s 927us/step - loss: 73.3767 - accuracy: 0.0085\n",
      "Epoch 57/100\n",
      "354/354 [==============================] - 0s 837us/step - loss: 73.2583 - accuracy: 0.0141\n",
      "Epoch 58/100\n",
      "354/354 [==============================] - 0s 890us/step - loss: 73.4020 - accuracy: 0.0113\n",
      "Epoch 59/100\n",
      "354/354 [==============================] - 0s 825us/step - loss: 73.2958 - accuracy: 0.0113\n",
      "Epoch 60/100\n",
      "354/354 [==============================] - 0s 929us/step - loss: 73.3362 - accuracy: 0.0113\n",
      "Epoch 61/100\n",
      "354/354 [==============================] - 0s 862us/step - loss: 73.3749 - accuracy: 0.0169\n",
      "Epoch 62/100\n",
      "354/354 [==============================] - 0s 895us/step - loss: 73.1601 - accuracy: 0.0113\n",
      "Epoch 63/100\n",
      "354/354 [==============================] - 0s 918us/step - loss: 73.3040 - accuracy: 0.0085\n",
      "Epoch 64/100\n",
      "354/354 [==============================] - 0s 787us/step - loss: 73.1880 - accuracy: 0.0113\n",
      "Epoch 65/100\n",
      "354/354 [==============================] - 0s 755us/step - loss: 73.2813 - accuracy: 0.0113\n",
      "Epoch 66/100\n",
      "354/354 [==============================] - 0s 802us/step - loss: 73.0111 - accuracy: 0.0169\n",
      "Epoch 67/100\n",
      "354/354 [==============================] - 0s 879us/step - loss: 72.8732 - accuracy: 0.0113\n",
      "Epoch 68/100\n",
      "354/354 [==============================] - 0s 924us/step - loss: 73.2703 - accuracy: 0.0028\n",
      "Epoch 69/100\n",
      "354/354 [==============================] - 0s 746us/step - loss: 73.2579 - accuracy: 0.0113\n",
      "Epoch 70/100\n",
      "354/354 [==============================] - 0s 750us/step - loss: 73.1308 - accuracy: 0.0056\n",
      "Epoch 71/100\n",
      "354/354 [==============================] - 0s 1ms/step - loss: 73.3417 - accuracy: 0.0113\n",
      "Epoch 72/100\n",
      "354/354 [==============================] - 0s 709us/step - loss: 73.1739 - accuracy: 0.0141\n",
      "Epoch 73/100\n",
      "354/354 [==============================] - 0s 835us/step - loss: 73.3488 - accuracy: 0.0113\n",
      "Epoch 74/100\n",
      "354/354 [==============================] - 0s 892us/step - loss: 73.2767 - accuracy: 0.0085\n",
      "Epoch 75/100\n",
      "354/354 [==============================] - 0s 895us/step - loss: 73.2108 - accuracy: 0.0169\n",
      "Epoch 76/100\n",
      "354/354 [==============================] - 0s 910us/step - loss: 73.0546 - accuracy: 0.0169\n",
      "Epoch 77/100\n",
      "354/354 [==============================] - 0s 718us/step - loss: 73.2597 - accuracy: 0.0113\n",
      "Epoch 78/100\n",
      "354/354 [==============================] - 0s 1ms/step - loss: 73.0210 - accuracy: 0.0085\n",
      "Epoch 79/100\n"
     ]
    },
    {
     "name": "stdout",
     "output_type": "stream",
     "text": [
      "354/354 [==============================] - 0s 777us/step - loss: 73.2902 - accuracy: 0.0141\n",
      "Epoch 80/100\n",
      "354/354 [==============================] - 0s 777us/step - loss: 73.3648 - accuracy: 0.0113\n",
      "Epoch 81/100\n",
      "354/354 [==============================] - 0s 847us/step - loss: 73.3801 - accuracy: 0.0085\n",
      "Epoch 82/100\n",
      "354/354 [==============================] - 0s 992us/step - loss: 73.4509 - accuracy: 0.0085\n",
      "Epoch 83/100\n",
      "354/354 [==============================] - 0s 958us/step - loss: 73.2796 - accuracy: 0.0141\n",
      "Epoch 84/100\n",
      "354/354 [==============================] - 0s 996us/step - loss: 73.3281 - accuracy: 0.0113\n",
      "Epoch 85/100\n",
      "354/354 [==============================] - 0s 997us/step - loss: 72.9989 - accuracy: 0.0113\n",
      "Epoch 86/100\n",
      "354/354 [==============================] - 0s 930us/step - loss: 73.4765 - accuracy: 0.0113\n",
      "Epoch 87/100\n",
      "354/354 [==============================] - 0s 1ms/step - loss: 73.3075 - accuracy: 0.0113\n",
      "Epoch 88/100\n",
      "354/354 [==============================] - 0s 980us/step - loss: 73.2735 - accuracy: 0.0113\n",
      "Epoch 89/100\n",
      "354/354 [==============================] - 0s 1ms/step - loss: 73.2044 - accuracy: 0.0113\n",
      "Epoch 90/100\n",
      "354/354 [==============================] - 0s 1ms/step - loss: 73.1529 - accuracy: 0.0085\n",
      "Epoch 91/100\n",
      "354/354 [==============================] - 0s 854us/step - loss: 73.3094 - accuracy: 0.0085\n",
      "Epoch 92/100\n",
      "354/354 [==============================] - 0s 754us/step - loss: 73.2807 - accuracy: 0.0141\n",
      "Epoch 93/100\n",
      "354/354 [==============================] - 0s 963us/step - loss: 73.5053 - accuracy: 0.0141\n",
      "Epoch 94/100\n",
      "354/354 [==============================] - 0s 1ms/step - loss: 73.3584 - accuracy: 0.0113\n",
      "Epoch 95/100\n",
      "354/354 [==============================] - 0s 881us/step - loss: 72.9244 - accuracy: 0.0000e+00\n",
      "Epoch 96/100\n",
      "354/354 [==============================] - 0s 870us/step - loss: 73.4025 - accuracy: 0.0085\n",
      "Epoch 97/100\n",
      "354/354 [==============================] - 0s 602us/step - loss: 73.2723 - accuracy: 0.0113\n",
      "Epoch 98/100\n",
      "354/354 [==============================] - 0s 751us/step - loss: 73.3568 - accuracy: 0.0141\n",
      "Epoch 99/100\n",
      "354/354 [==============================] - 0s 972us/step - loss: 73.4238 - accuracy: 0.0085\n",
      "Epoch 100/100\n",
      "354/354 [==============================] - 0s 914us/step - loss: 72.9056 - accuracy: 0.0113\n"
     ]
    },
    {
     "data": {
      "text/plain": [
       "<keras.callbacks.callbacks.History at 0x1c2667fb7f0>"
      ]
     },
     "execution_count": 70,
     "metadata": {},
     "output_type": "execute_result"
    }
   ],
   "source": [
    "# Train the neural network.\n",
    "model.fit(inputs_train, outputs_train, epochs=100, batch_size=2)"
   ]
  },
  {
   "cell_type": "code",
   "execution_count": 71,
   "metadata": {
    "scrolled": true
   },
   "outputs": [],
   "source": [
    "# predictions on the test set\n",
    "pred1 = model.predict(inputs_test)"
   ]
  },
  {
   "cell_type": "code",
   "execution_count": 72,
   "metadata": {
    "scrolled": true
   },
   "outputs": [
    {
     "name": "stderr",
     "output_type": "stream",
     "text": [
      "C:\\Users\\montec3\\AppData\\Local\\Continuum\\anaconda3\\lib\\site-packages\\ipykernel_launcher.py:2: FutureWarning: Method .as_matrix will be removed in a future version. Use .values instead.\n",
      "  \n"
     ]
    }
   ],
   "source": [
    "# values from the test set\n",
    "outTest1 = outputs_test.as_matrix().astype(np.float32)"
   ]
  },
  {
   "cell_type": "code",
   "execution_count": 73,
   "metadata": {},
   "outputs": [
    {
     "data": {
      "text/plain": [
       "array([[22.818924],\n",
       "       [22.818924],\n",
       "       [22.818924],\n",
       "       [22.818924],\n",
       "       [22.818924],\n",
       "       [22.818924],\n",
       "       [22.818924],\n",
       "       [22.818924],\n",
       "       [22.818924],\n",
       "       [22.818924],\n",
       "       [22.818924],\n",
       "       [22.818924],\n",
       "       [22.818924],\n",
       "       [22.818924],\n",
       "       [22.818924],\n",
       "       [22.818924],\n",
       "       [22.818924],\n",
       "       [22.818924],\n",
       "       [22.818924],\n",
       "       [22.818924],\n",
       "       [22.818924],\n",
       "       [22.818924],\n",
       "       [22.818924],\n",
       "       [22.818924],\n",
       "       [22.818924],\n",
       "       [22.818924],\n",
       "       [22.818924],\n",
       "       [22.818924],\n",
       "       [22.818924],\n",
       "       [22.818924],\n",
       "       [22.818924],\n",
       "       [22.818924],\n",
       "       [22.818924],\n",
       "       [22.818924],\n",
       "       [22.818924],\n",
       "       [22.818924],\n",
       "       [22.818924],\n",
       "       [22.818924],\n",
       "       [22.818924],\n",
       "       [22.818924],\n",
       "       [22.818924],\n",
       "       [22.818924],\n",
       "       [22.818924],\n",
       "       [22.818924],\n",
       "       [22.818924],\n",
       "       [22.818924],\n",
       "       [22.818924],\n",
       "       [22.818924],\n",
       "       [22.818924],\n",
       "       [22.818924],\n",
       "       [22.818924],\n",
       "       [22.818924],\n",
       "       [22.818924],\n",
       "       [22.818924],\n",
       "       [22.818924],\n",
       "       [22.818924],\n",
       "       [22.818924],\n",
       "       [22.818924],\n",
       "       [22.818924],\n",
       "       [22.818924],\n",
       "       [22.818924],\n",
       "       [22.818924],\n",
       "       [22.818924],\n",
       "       [22.818924],\n",
       "       [22.818924],\n",
       "       [22.818924],\n",
       "       [22.818924],\n",
       "       [22.818924],\n",
       "       [22.818924],\n",
       "       [22.818924],\n",
       "       [22.818924],\n",
       "       [22.818924],\n",
       "       [22.818924],\n",
       "       [22.818924],\n",
       "       [22.818924],\n",
       "       [22.818924],\n",
       "       [22.818924],\n",
       "       [22.818924],\n",
       "       [22.818924],\n",
       "       [22.818924],\n",
       "       [22.818924],\n",
       "       [22.818924],\n",
       "       [22.818924],\n",
       "       [22.818924],\n",
       "       [22.818924],\n",
       "       [22.818924],\n",
       "       [22.818924],\n",
       "       [22.818924],\n",
       "       [22.818924],\n",
       "       [22.818924],\n",
       "       [22.818924],\n",
       "       [22.818924],\n",
       "       [22.818924],\n",
       "       [22.818924],\n",
       "       [22.818924],\n",
       "       [22.818924],\n",
       "       [22.818924],\n",
       "       [22.818924],\n",
       "       [22.818924],\n",
       "       [22.818924],\n",
       "       [22.818924],\n",
       "       [22.818924],\n",
       "       [22.818924],\n",
       "       [22.818924],\n",
       "       [22.818924],\n",
       "       [22.818924],\n",
       "       [22.818924],\n",
       "       [22.818924],\n",
       "       [22.818924],\n",
       "       [22.818924],\n",
       "       [22.818924],\n",
       "       [22.818924],\n",
       "       [22.818924],\n",
       "       [22.818924],\n",
       "       [22.818924],\n",
       "       [22.818924],\n",
       "       [22.818924],\n",
       "       [22.818924],\n",
       "       [22.818924],\n",
       "       [22.818924],\n",
       "       [22.818924],\n",
       "       [22.818924],\n",
       "       [22.818924],\n",
       "       [22.818924],\n",
       "       [22.818924],\n",
       "       [22.818924],\n",
       "       [22.818924],\n",
       "       [22.818924],\n",
       "       [22.818924],\n",
       "       [22.818924],\n",
       "       [22.818924],\n",
       "       [22.818924],\n",
       "       [22.818924],\n",
       "       [22.818924],\n",
       "       [22.818924],\n",
       "       [22.818924],\n",
       "       [22.818924],\n",
       "       [22.818924],\n",
       "       [22.818924],\n",
       "       [22.818924],\n",
       "       [22.818924],\n",
       "       [22.818924],\n",
       "       [22.818924],\n",
       "       [22.818924],\n",
       "       [22.818924],\n",
       "       [22.818924],\n",
       "       [22.818924],\n",
       "       [22.818924],\n",
       "       [22.818924],\n",
       "       [22.818924],\n",
       "       [22.818924],\n",
       "       [22.818924]], dtype=float32)"
      ]
     },
     "execution_count": 73,
     "metadata": {},
     "output_type": "execute_result"
    }
   ],
   "source": [
    "pred1 # all the values are repeated. After several tries only scaling the dataset solved it"
   ]
  },
  {
   "cell_type": "code",
   "execution_count": 74,
   "metadata": {},
   "outputs": [
    {
     "name": "stdout",
     "output_type": "stream",
     "text": [
      "152/152 [==============================] - 0s 316us/step\n"
     ]
    },
    {
     "data": {
      "text/plain": [
       "[110.53140339098479, 0.0]"
      ]
     },
     "execution_count": 74,
     "metadata": {},
     "output_type": "execute_result"
    }
   ],
   "source": [
    "# Calculate the loss function, mean squared error in this case. The higher the value output the worse\n",
    "model.evaluate(inputs_test, outputs_test)"
   ]
  },
  {
   "cell_type": "markdown",
   "metadata": {},
   "source": [
    "----\n",
    "The predictions are not valid since they are all reapeated. In order to improve the efficiency of the neural network I will **scale** it\n"
   ]
  },
  {
   "cell_type": "code",
   "execution_count": 75,
   "metadata": {},
   "outputs": [],
   "source": [
    "# Standard scaler from the preprocessing library \n",
    "scaler = pre.StandardScaler()\n",
    "scaler.fit(inputs_train)\n",
    "inputs_train_scaled = scaler.transform(inputs_train)"
   ]
  },
  {
   "cell_type": "code",
   "execution_count": 76,
   "metadata": {},
   "outputs": [],
   "source": [
    "# rebuid the neural network\n",
    "model = kr.models.Sequential()\n",
    "\n",
    "# Add a hidden layer with 10 neurons and an input layer with 12.\n",
    "model.add(kr.layers.Dense(units=50, activation='tanh', input_dim=12)) # input_dim=12, the twelve values from dataset.\n",
    "\n",
    "# Add another hidden layer \n",
    "model.add(kr.layers.Dense(units=10, activation='relu')) \n",
    "          \n",
    "# Add a one neuron output layer.\n",
    "model.add(kr.layers.Dense(units=1, activation='linear'))\n",
    "\n",
    "# Build the graph.\n",
    "model.compile(loss='mean_squared_error', optimizer='sgd', metrics=['accuracy'])\n",
    "# loss='categorical_crossentropy' is a standard loss function for a categorical variable."
   ]
  },
  {
   "cell_type": "code",
   "execution_count": 82,
   "metadata": {
    "scrolled": true
   },
   "outputs": [
    {
     "name": "stdout",
     "output_type": "stream",
     "text": [
      "Epoch 1/15\n",
      "354/354 [==============================] - 0s 242us/step - loss: 18.3957 - accuracy: 0.0254\n",
      "Epoch 2/15\n",
      "354/354 [==============================] - 0s 178us/step - loss: 26.2084 - accuracy: 0.0141\n",
      "Epoch 3/15\n",
      "354/354 [==============================] - 0s 175us/step - loss: 23.7503 - accuracy: 0.0169\n",
      "Epoch 4/15\n",
      "354/354 [==============================] - 0s 165us/step - loss: 19.3091 - accuracy: 0.0169\n",
      "Epoch 5/15\n",
      "354/354 [==============================] - 0s 146us/step - loss: 20.6267 - accuracy: 0.0141\n",
      "Epoch 6/15\n",
      "354/354 [==============================] - 0s 147us/step - loss: 20.2957 - accuracy: 0.0056\n",
      "Epoch 7/15\n",
      "354/354 [==============================] - 0s 133us/step - loss: 18.0286 - accuracy: 0.0198\n",
      "Epoch 8/15\n",
      "354/354 [==============================] - 0s 167us/step - loss: 18.5814 - accuracy: 0.0169\n",
      "Epoch 9/15\n",
      "354/354 [==============================] - 0s 164us/step - loss: 16.4403 - accuracy: 0.0198\n",
      "Epoch 10/15\n",
      "354/354 [==============================] - 0s 139us/step - loss: 15.0008 - accuracy: 0.0169\n",
      "Epoch 11/15\n",
      "354/354 [==============================] - 0s 157us/step - loss: 20.0184 - accuracy: 0.0226\n",
      "Epoch 12/15\n",
      "354/354 [==============================] - 0s 150us/step - loss: 17.4275 - accuracy: 0.0085\n",
      "Epoch 13/15\n",
      "354/354 [==============================] - 0s 177us/step - loss: 11.9530 - accuracy: 0.0169\n",
      "Epoch 14/15\n",
      "354/354 [==============================] - 0s 203us/step - loss: 12.8054 - accuracy: 0.0141\n",
      "Epoch 15/15\n",
      "354/354 [==============================] - 0s 167us/step - loss: 12.8107 - accuracy: 0.0141\n"
     ]
    },
    {
     "data": {
      "text/plain": [
       "<keras.callbacks.callbacks.History at 0x1c267d00860>"
      ]
     },
     "execution_count": 82,
     "metadata": {},
     "output_type": "execute_result"
    }
   ],
   "source": [
    "# Train again the neural network.\n",
    "model.fit(inputs_train_scaled, outputs_train, epochs=15, batch_size=10)"
   ]
  },
  {
   "cell_type": "code",
   "execution_count": 83,
   "metadata": {},
   "outputs": [],
   "source": [
    "# Predictions \n",
    "pred2 = model.predict(inputs_test).round().T\n",
    "pred2_1D = pred2[0] # isolating the first element of the 2D array pred2 which contains the predictions so that it can be joined with the array which contains the outputs and can be displayed per pairs for comparison purposes"
   ]
  },
  {
   "cell_type": "code",
   "execution_count": 84,
   "metadata": {
    "scrolled": true
   },
   "outputs": [
    {
     "name": "stderr",
     "output_type": "stream",
     "text": [
      "C:\\Users\\montec3\\AppData\\Local\\Continuum\\anaconda3\\lib\\site-packages\\ipykernel_launcher.py:1: FutureWarning: Method .as_matrix will be removed in a future version. Use .values instead.\n",
      "  \"\"\"Entry point for launching an IPython kernel.\n"
     ]
    }
   ],
   "source": [
    "outTest2 = outputs_test.as_matrix().astype(np.float32)"
   ]
  },
  {
   "cell_type": "code",
   "execution_count": 85,
   "metadata": {
    "scrolled": true
   },
   "outputs": [
    {
     "name": "stdout",
     "output_type": "stream",
     "text": [
      "\n",
      "̲P̲r̲e̲d̲.̲ ̲v̲s̲ ̲[̲E̲x̲p̲e̲c̲t̲e̲d̲]̲\n",
      "\n",
      "18.0       [11.8]\n",
      "18.0       [24.8]\n",
      "18.0       [24.6]\n",
      "18.0       [13.6]\n",
      "18.0       [16.1]\n",
      "18.0       [21.5]\n",
      "21.0       [24.7]\n",
      "18.0       [20.3]\n",
      "18.0       [36.2]\n",
      "18.0       [23.3]\n",
      "12.0       [9.5]\n",
      "18.0       [43.5]\n",
      "9.0       [13.4]\n",
      "18.0       [14.3]\n",
      "16.0       [13.]\n",
      "18.0       [16.6]\n",
      "21.0       [22.6]\n",
      "16.0       [50.]\n",
      "18.0       [24.]\n",
      "18.0       [50.]\n",
      "18.0       [17.8]\n",
      "16.0       [17.4]\n",
      "21.0       [20.]\n",
      "18.0       [36.5]\n",
      "18.0       [41.7]\n",
      "18.0       [45.4]\n",
      "17.0       [28.5]\n",
      "16.0       [50.]\n",
      "18.0       [31.5]\n",
      "21.0       [26.6]\n",
      "18.0       [50.]\n",
      "18.0       [15.6]\n",
      "18.0       [19.5]\n",
      "18.0       [48.8]\n",
      "9.0       [17.9]\n",
      "18.0       [50.]\n",
      "18.0       [18.2]\n",
      "18.0       [21.6]\n",
      "21.0       [20.7]\n",
      "18.0       [22.9]\n",
      "16.0       [10.2]\n",
      "18.0       [46.]\n",
      "18.0       [16.]\n",
      "18.0       [19.4]\n",
      "16.0       [25.]\n",
      "18.0       [29.4]\n",
      "18.0       [37.9]\n",
      "18.0       [20.3]\n",
      "18.0       [50.]\n",
      "18.0       [19.6]\n",
      "11.0       [11.8]\n",
      "17.0       [20.6]\n",
      "16.0       [23.2]\n",
      "18.0       [32.7]\n",
      "16.0       [20.4]\n",
      "16.0       [18.3]\n",
      "18.0       [16.8]\n",
      "18.0       [31.6]\n",
      "11.0       [13.5]\n",
      "16.0       [10.2]\n",
      "18.0       [18.8]\n",
      "18.0       [18.2]\n",
      "18.0       [14.8]\n",
      "16.0       [20.6]\n",
      "18.0       [24.4]\n",
      "16.0       [19.9]\n",
      "13.0       [27.5]\n",
      "11.0       [14.3]\n",
      "18.0       [19.5]\n",
      "16.0       [27.9]\n",
      "18.0       [24.3]\n",
      "18.0       [22.2]\n",
      "12.0       [14.1]\n",
      "18.0       [22.8]\n",
      "15.0       [30.5]\n",
      "16.0       [23.8]\n",
      "16.0       [29.8]\n",
      "18.0       [22.]\n",
      "18.0       [19.3]\n",
      "18.0       [14.6]\n",
      "18.0       [14.5]\n",
      "18.0       [22.]\n",
      "18.0       [22.9]\n",
      "16.0       [18.9]\n",
      "18.0       [21.4]\n",
      "18.0       [21.]\n",
      "18.0       [16.6]\n",
      "16.0       [7.2]\n",
      "16.0       [50.]\n",
      "11.0       [15.6]\n",
      "18.0       [22.9]\n",
      "18.0       [19.2]\n",
      "18.0       [22.2]\n",
      "18.0       [22.]\n",
      "18.0       [30.7]\n",
      "18.0       [14.4]\n",
      "15.0       [18.6]\n",
      "11.0       [13.1]\n",
      "18.0       [26.2]\n",
      "18.0       [24.5]\n",
      "17.0       [19.6]\n",
      "16.0       [10.5]\n",
      "18.0       [29.]\n",
      "16.0       [13.1]\n",
      "18.0       [24.3]\n",
      "16.0       [20.2]\n",
      "10.0       [9.6]\n",
      "16.0       [17.2]\n",
      "19.0       [48.5]\n",
      "19.0       [37.2]\n",
      "9.0       [8.7]\n",
      "18.0       [24.4]\n",
      "16.0       [20.]\n",
      "16.0       [15.2]\n",
      "16.0       [17.1]\n",
      "18.0       [23.9]\n",
      "18.0       [16.2]\n",
      "18.0       [18.8]\n",
      "18.0       [18.5]\n",
      "16.0       [15.2]\n",
      "18.0       [20.5]\n",
      "18.0       [15.7]\n",
      "16.0       [19.6]\n",
      "18.0       [36.]\n",
      "16.0       [11.9]\n",
      "18.0       [19.4]\n",
      "15.0       [36.4]\n",
      "18.0       [22.8]\n",
      "18.0       [22.1]\n",
      "16.0       [17.7]\n",
      "18.0       [46.7]\n",
      "16.0       [20.1]\n",
      "18.0       [50.]\n",
      "16.0       [19.8]\n",
      "18.0       [21.7]\n",
      "15.0       [7.]\n",
      "21.0       [19.3]\n",
      "16.0       [16.7]\n",
      "20.0       [30.8]\n",
      "15.0       [37.]\n",
      "18.0       [25.]\n",
      "17.0       [17.5]\n",
      "16.0       [23.7]\n",
      "18.0       [32.4]\n",
      "16.0       [19.4]\n",
      "15.0       [20.8]\n",
      "18.0       [43.1]\n",
      "15.0       [5.]\n",
      "18.0       [17.5]\n",
      "18.0       [26.7]\n",
      "15.0       [34.9]\n",
      "18.0       [28.1]\n"
     ]
    }
   ],
   "source": [
    "# show predictions and actual values\n",
    "print('\\u0332'.join('\\nPred. vs [Expected]\\n')) # '\\u0332'.join to underline text\n",
    "table = '\\n'.join('{}       {}'.format(x, y) for x, y in zip(pred2_1D, outTest2))\n",
    "print(table)"
   ]
  },
  {
   "cell_type": "code",
   "execution_count": 86,
   "metadata": {},
   "outputs": [
    {
     "name": "stdout",
     "output_type": "stream",
     "text": [
      "152/152 [==============================] - 0s 85us/step\n"
     ]
    },
    {
     "data": {
      "text/plain": [
       "[143.59766829641242, 0.0]"
      ]
     },
     "execution_count": 86,
     "metadata": {},
     "output_type": "execute_result"
    }
   ],
   "source": [
    "# Evaluating the network again\n",
    "model.evaluate(inputs_test, outputs_test)"
   ]
  },
  {
   "cell_type": "code",
   "execution_count": null,
   "metadata": {},
   "outputs": [],
   "source": []
  }
 ],
 "metadata": {
  "kernelspec": {
   "display_name": "Python 3",
   "language": "python",
   "name": "python3"
  },
  "language_info": {
   "codemirror_mode": {
    "name": "ipython",
    "version": 3
   },
   "file_extension": ".py",
   "mimetype": "text/x-python",
   "name": "python",
   "nbconvert_exporter": "python",
   "pygments_lexer": "ipython3",
   "version": "3.6.9"
  }
 },
 "nbformat": 4,
 "nbformat_minor": 2
}
