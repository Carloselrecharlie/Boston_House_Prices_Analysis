{
 "cells": [
  {
   "cell_type": "code",
   "execution_count": 1,
   "metadata": {},
   "outputs": [
    {
     "name": "stderr",
     "output_type": "stream",
     "text": [
      "Using TensorFlow backend.\n",
      "C:\\Users\\montec3\\AppData\\Local\\Continuum\\anaconda3\\lib\\site-packages\\tensorflow\\python\\framework\\dtypes.py:526: FutureWarning: Passing (type, 1) or '1type' as a synonym of type is deprecated; in a future version of numpy, it will be understood as (type, (1,)) / '(1,)type'.\n",
      "  _np_qint8 = np.dtype([(\"qint8\", np.int8, 1)])\n",
      "C:\\Users\\montec3\\AppData\\Local\\Continuum\\anaconda3\\lib\\site-packages\\tensorflow\\python\\framework\\dtypes.py:527: FutureWarning: Passing (type, 1) or '1type' as a synonym of type is deprecated; in a future version of numpy, it will be understood as (type, (1,)) / '(1,)type'.\n",
      "  _np_quint8 = np.dtype([(\"quint8\", np.uint8, 1)])\n",
      "C:\\Users\\montec3\\AppData\\Local\\Continuum\\anaconda3\\lib\\site-packages\\tensorflow\\python\\framework\\dtypes.py:528: FutureWarning: Passing (type, 1) or '1type' as a synonym of type is deprecated; in a future version of numpy, it will be understood as (type, (1,)) / '(1,)type'.\n",
      "  _np_qint16 = np.dtype([(\"qint16\", np.int16, 1)])\n",
      "C:\\Users\\montec3\\AppData\\Local\\Continuum\\anaconda3\\lib\\site-packages\\tensorflow\\python\\framework\\dtypes.py:529: FutureWarning: Passing (type, 1) or '1type' as a synonym of type is deprecated; in a future version of numpy, it will be understood as (type, (1,)) / '(1,)type'.\n",
      "  _np_quint16 = np.dtype([(\"quint16\", np.uint16, 1)])\n",
      "C:\\Users\\montec3\\AppData\\Local\\Continuum\\anaconda3\\lib\\site-packages\\tensorflow\\python\\framework\\dtypes.py:530: FutureWarning: Passing (type, 1) or '1type' as a synonym of type is deprecated; in a future version of numpy, it will be understood as (type, (1,)) / '(1,)type'.\n",
      "  _np_qint32 = np.dtype([(\"qint32\", np.int32, 1)])\n",
      "C:\\Users\\montec3\\AppData\\Local\\Continuum\\anaconda3\\lib\\site-packages\\tensorflow\\python\\framework\\dtypes.py:535: FutureWarning: Passing (type, 1) or '1type' as a synonym of type is deprecated; in a future version of numpy, it will be understood as (type, (1,)) / '(1,)type'.\n",
      "  np_resource = np.dtype([(\"resource\", np.ubyte, 1)])\n"
     ]
    }
   ],
   "source": [
    "import numpy as np\n",
    "import pandas as pd  \n",
    "import seaborn as sns\n",
    "# For importing the boston house dataset\n",
    "from sklearn.datasets import load_boston\n",
    "import matplotlib.pyplot as plt\n",
    "import scipy.stats as stats\n",
    "# For building neural networks.\n",
    "import keras as kr\n",
    "# For encoding categorical variables.\n",
    "import sklearn.preprocessing as pre\n",
    "# For splitting into training and test sets.\n",
    "import sklearn.model_selection as mod\n",
    "# For whitening the inputs\n",
    "import sklearn.decomposition as dec\n",
    "\n",
    "# Set default size of plots\n",
    "#plt.rcParams['figure.figsize'] = (10.0, 5.0)\n",
    "# To make sure the plots are displayed\n",
    "%matplotlib inline"
   ]
  },
  {
   "cell_type": "markdown",
   "metadata": {},
   "source": [
    "# Description"
   ]
  },
  {
   "cell_type": "markdown",
   "metadata": {},
   "source": [
    "- I take the dataset from sklearn package and show its description:"
   ]
  },
  {
   "cell_type": "code",
   "execution_count": 2,
   "metadata": {},
   "outputs": [
    {
     "name": "stdout",
     "output_type": "stream",
     "text": [
      ".. _boston_dataset:\n",
      "\n",
      "Boston house prices dataset\n",
      "---------------------------\n",
      "\n",
      "**Data Set Characteristics:**  \n",
      "\n",
      "    :Number of Instances: 506 \n",
      "\n",
      "    :Number of Attributes: 13 numeric/categorical predictive. Median Value (attribute 14) is usually the target.\n",
      "\n",
      "    :Attribute Information (in order):\n",
      "        - CRIM     per capita crime rate by town\n",
      "        - ZN       proportion of residential land zoned for lots over 25,000 sq.ft.\n",
      "        - INDUS    proportion of non-retail business acres per town\n",
      "        - CHAS     Charles River dummy variable (= 1 if tract bounds river; 0 otherwise)\n",
      "        - NOX      nitric oxides concentration (parts per 10 million)\n",
      "        - RM       average number of rooms per dwelling\n",
      "        - AGE      proportion of owner-occupied units built prior to 1940\n",
      "        - DIS      weighted distances to five Boston employment centres\n",
      "        - RAD      index of accessibility to radial highways\n",
      "        - TAX      full-value property-tax rate per $10,000\n",
      "        - PTRATIO  pupil-teacher ratio by town\n",
      "        - B        1000(Bk - 0.63)^2 where Bk is the proportion of blacks by town\n",
      "        - LSTAT    % lower status of the population\n",
      "        - MEDV     Median value of owner-occupied homes in $1000's\n",
      "\n",
      "    :Missing Attribute Values: None\n",
      "\n",
      "    :Creator: Harrison, D. and Rubinfeld, D.L.\n",
      "\n",
      "This is a copy of UCI ML housing dataset.\n",
      "https://archive.ics.uci.edu/ml/machine-learning-databases/housing/\n",
      "\n",
      "\n",
      "This dataset was taken from the StatLib library which is maintained at Carnegie Mellon University.\n",
      "\n",
      "The Boston house-price data of Harrison, D. and Rubinfeld, D.L. 'Hedonic\n",
      "prices and the demand for clean air', J. Environ. Economics & Management,\n",
      "vol.5, 81-102, 1978.   Used in Belsley, Kuh & Welsch, 'Regression diagnostics\n",
      "...', Wiley, 1980.   N.B. Various transformations are used in the table on\n",
      "pages 244-261 of the latter.\n",
      "\n",
      "The Boston house-price data has been used in many machine learning papers that address regression\n",
      "problems.   \n",
      "     \n",
      ".. topic:: References\n",
      "\n",
      "   - Belsley, Kuh & Welsch, 'Regression diagnostics: Identifying Influential Data and Sources of Collinearity', Wiley, 1980. 244-261.\n",
      "   - Quinlan,R. (1993). Combining Instance-Based and Model-Based Learning. In Proceedings on the Tenth International Conference of Machine Learning, 236-243, University of Massachusetts, Amherst. Morgan Kaufmann.\n",
      "\n"
     ]
    }
   ],
   "source": [
    "# Stored the dataset in a variable, DS -dataset-\n",
    "DS = load_boston()\n",
    "# Dataset characteristics:\n",
    "print(DS.DESCR)"
   ]
  },
  {
   "cell_type": "markdown",
   "metadata": {},
   "source": [
    "---\n",
    "- Then there is 506 rows and 13 attributes other than the price median value (target). \n",
    "- This data was collected in 1978 and each of the 506 entries represents aggregate information about 14 features of homes from various suburbs located in Boston.\n",
    "- Now I create a pandas data frame to display the header of the table as a sample:"
   ]
  },
  {
   "cell_type": "code",
   "execution_count": 3,
   "metadata": {
    "scrolled": false
   },
   "outputs": [
    {
     "name": "stdout",
     "output_type": "stream",
     "text": [
      "(#rows, #columns): (506, 13)\n"
     ]
    },
    {
     "data": {
      "text/html": [
       "<div>\n",
       "<style scoped>\n",
       "    .dataframe tbody tr th:only-of-type {\n",
       "        vertical-align: middle;\n",
       "    }\n",
       "\n",
       "    .dataframe tbody tr th {\n",
       "        vertical-align: top;\n",
       "    }\n",
       "\n",
       "    .dataframe thead th {\n",
       "        text-align: right;\n",
       "    }\n",
       "</style>\n",
       "<table border=\"1\" class=\"dataframe\">\n",
       "  <thead>\n",
       "    <tr style=\"text-align: right;\">\n",
       "      <th></th>\n",
       "      <th>CRIM</th>\n",
       "      <th>ZN</th>\n",
       "      <th>INDUS</th>\n",
       "      <th>CHAS</th>\n",
       "      <th>NOX</th>\n",
       "      <th>RM</th>\n",
       "      <th>AGE</th>\n",
       "      <th>DIS</th>\n",
       "      <th>RAD</th>\n",
       "      <th>TAX</th>\n",
       "      <th>PTRATIO</th>\n",
       "      <th>B</th>\n",
       "      <th>LSTAT</th>\n",
       "      <th>MEDV</th>\n",
       "    </tr>\n",
       "  </thead>\n",
       "  <tbody>\n",
       "    <tr>\n",
       "      <th>1</th>\n",
       "      <td>0.00632</td>\n",
       "      <td>18.0</td>\n",
       "      <td>2.31</td>\n",
       "      <td>0.0</td>\n",
       "      <td>0.538</td>\n",
       "      <td>6.575</td>\n",
       "      <td>65.2</td>\n",
       "      <td>4.0900</td>\n",
       "      <td>1.0</td>\n",
       "      <td>296.0</td>\n",
       "      <td>15.3</td>\n",
       "      <td>396.90</td>\n",
       "      <td>4.98</td>\n",
       "      <td>24.0</td>\n",
       "    </tr>\n",
       "    <tr>\n",
       "      <th>2</th>\n",
       "      <td>0.02731</td>\n",
       "      <td>0.0</td>\n",
       "      <td>7.07</td>\n",
       "      <td>0.0</td>\n",
       "      <td>0.469</td>\n",
       "      <td>6.421</td>\n",
       "      <td>78.9</td>\n",
       "      <td>4.9671</td>\n",
       "      <td>2.0</td>\n",
       "      <td>242.0</td>\n",
       "      <td>17.8</td>\n",
       "      <td>396.90</td>\n",
       "      <td>9.14</td>\n",
       "      <td>21.6</td>\n",
       "    </tr>\n",
       "    <tr>\n",
       "      <th>3</th>\n",
       "      <td>0.02729</td>\n",
       "      <td>0.0</td>\n",
       "      <td>7.07</td>\n",
       "      <td>0.0</td>\n",
       "      <td>0.469</td>\n",
       "      <td>7.185</td>\n",
       "      <td>61.1</td>\n",
       "      <td>4.9671</td>\n",
       "      <td>2.0</td>\n",
       "      <td>242.0</td>\n",
       "      <td>17.8</td>\n",
       "      <td>392.83</td>\n",
       "      <td>4.03</td>\n",
       "      <td>34.7</td>\n",
       "    </tr>\n",
       "    <tr>\n",
       "      <th>4</th>\n",
       "      <td>0.03237</td>\n",
       "      <td>0.0</td>\n",
       "      <td>2.18</td>\n",
       "      <td>0.0</td>\n",
       "      <td>0.458</td>\n",
       "      <td>6.998</td>\n",
       "      <td>45.8</td>\n",
       "      <td>6.0622</td>\n",
       "      <td>3.0</td>\n",
       "      <td>222.0</td>\n",
       "      <td>18.7</td>\n",
       "      <td>394.63</td>\n",
       "      <td>2.94</td>\n",
       "      <td>33.4</td>\n",
       "    </tr>\n",
       "    <tr>\n",
       "      <th>5</th>\n",
       "      <td>0.06905</td>\n",
       "      <td>0.0</td>\n",
       "      <td>2.18</td>\n",
       "      <td>0.0</td>\n",
       "      <td>0.458</td>\n",
       "      <td>7.147</td>\n",
       "      <td>54.2</td>\n",
       "      <td>6.0622</td>\n",
       "      <td>3.0</td>\n",
       "      <td>222.0</td>\n",
       "      <td>18.7</td>\n",
       "      <td>396.90</td>\n",
       "      <td>5.33</td>\n",
       "      <td>36.2</td>\n",
       "    </tr>\n",
       "  </tbody>\n",
       "</table>\n",
       "</div>"
      ],
      "text/plain": [
       "      CRIM    ZN  INDUS  CHAS    NOX     RM   AGE     DIS  RAD    TAX  \\\n",
       "1  0.00632  18.0   2.31   0.0  0.538  6.575  65.2  4.0900  1.0  296.0   \n",
       "2  0.02731   0.0   7.07   0.0  0.469  6.421  78.9  4.9671  2.0  242.0   \n",
       "3  0.02729   0.0   7.07   0.0  0.469  7.185  61.1  4.9671  2.0  242.0   \n",
       "4  0.03237   0.0   2.18   0.0  0.458  6.998  45.8  6.0622  3.0  222.0   \n",
       "5  0.06905   0.0   2.18   0.0  0.458  7.147  54.2  6.0622  3.0  222.0   \n",
       "\n",
       "   PTRATIO       B  LSTAT  MEDV  \n",
       "1     15.3  396.90   4.98  24.0  \n",
       "2     17.8  396.90   9.14  21.6  \n",
       "3     17.8  392.83   4.03  34.7  \n",
       "4     18.7  394.63   2.94  33.4  \n",
       "5     18.7  396.90   5.33  36.2  "
      ]
     },
     "execution_count": 3,
     "metadata": {},
     "output_type": "execute_result"
    }
   ],
   "source": [
    "print('(#rows, #columns):', DS.data.shape) #shows count of rows and columns\n",
    "bhp = pd.DataFrame(DS.data, columns=DS.feature_names) # bhp stands for Boston house prices\n",
    "bhp.index += 1 #starting the index from 1 instead of 0 (first row is still indexed as 0)\n",
    "bhp['MEDV'] = DS.target # Adding prices -MEDV- to the table\n",
    "bhp.head() # .head() shows just the first five rows"
   ]
  },
  {
   "cell_type": "markdown",
   "metadata": {},
   "source": [
    "For a first glance there is an option to describe all the attributes of the dataset individually and visualize their distribution by twos. That is what the code from the cell below shows, it is commented because it takes a lot of space and much information returned is not revealing. Following, I will summarise the main features of the dataset but if you are curious enough you may want to uncomment the block and rerun the cell. "
   ]
  },
  {
   "cell_type": "code",
   "execution_count": 4,
   "metadata": {
    "scrolled": false
   },
   "outputs": [],
   "source": [
    "# # The pairplot function of seaborn draws scatterplots for joint relationships and histograms for univariate distributions\n",
    "# sns.pairplot(bhp)\n",
    "# plt.show()\n",
    "# # shows count, mean, std, min, 25%, 50%, 75% and max of all attributes \n",
    "# bhp.describe().T # .describe() shows count, mean, std, min, 25%, 50%, 75% and max.T switches position of headers and first column just for a better fit of the table on the page"
   ]
  },
  {
   "cell_type": "markdown",
   "metadata": {},
   "source": [
    "- Making sure that all the values are floats and check if any of them are missing:"
   ]
  },
  {
   "cell_type": "code",
   "execution_count": 5,
   "metadata": {},
   "outputs": [
    {
     "data": {
      "text/plain": [
       "CRIM       float64\n",
       "ZN         float64\n",
       "INDUS      float64\n",
       "CHAS       float64\n",
       "NOX        float64\n",
       "RM         float64\n",
       "AGE        float64\n",
       "DIS        float64\n",
       "RAD        float64\n",
       "TAX        float64\n",
       "PTRATIO    float64\n",
       "B          float64\n",
       "LSTAT      float64\n",
       "MEDV       float64\n",
       "dtype: object"
      ]
     },
     "execution_count": 5,
     "metadata": {},
     "output_type": "execute_result"
    }
   ],
   "source": [
    "bhp.dtypes"
   ]
  },
  {
   "cell_type": "code",
   "execution_count": 6,
   "metadata": {
    "scrolled": false
   },
   "outputs": [
    {
     "data": {
      "text/plain": [
       "CRIM       0\n",
       "ZN         0\n",
       "INDUS      0\n",
       "CHAS       0\n",
       "NOX        0\n",
       "RM         0\n",
       "AGE        0\n",
       "DIS        0\n",
       "RAD        0\n",
       "TAX        0\n",
       "PTRATIO    0\n",
       "B          0\n",
       "LSTAT      0\n",
       "MEDV       0\n",
       "dtype: int64"
      ]
     },
     "execution_count": 6,
     "metadata": {},
     "output_type": "execute_result"
    }
   ],
   "source": [
    "bhp.isnull().sum()"
   ]
  },
  {
   "cell_type": "markdown",
   "metadata": {},
   "source": [
    "- All are floats and there is no missing values.\n",
    "- The main atribute, which this notebook focuses on, is the price of the houses (__MEDV__, median value of the price in $1000's)\n"
   ]
  },
  {
   "cell_type": "code",
   "execution_count": 7,
   "metadata": {
    "scrolled": true
   },
   "outputs": [
    {
     "data": {
      "image/png": "[encoded data removed]",
      "text/plain": [
       "<Figure size 432x288 with 1 Axes>"
      ]
     },
     "metadata": {
      "needs_background": "light"
     },
     "output_type": "display_data"
    }
   ],
   "source": [
    "# Histogram of the price attribute\n",
    "sns.distplot(bhp['MEDV']) # Passing the MEDV -price- column to the distplot() function of seaborn\n",
    "plt.show()"
   ]
  },
  {
   "cell_type": "markdown",
   "metadata": {},
   "source": [
    "- It shows the typical bell-like shape which charaterises the normal distribution. There is more observations concentrated on the smaller range side (left) with an outstanding rise on the highest price side (right). There seemed to be, back then, a paralell high-end market totally independent of the rest of the market. Perhaps this range of price was wider than the others.\n",
    "\n",
    "And the figures below represent the shape of the bell: 75% of the values are up to 25.00, which is near the mean (22.53) and the 25% remider until 50.00, reason why the shape of the right tale is smoother."
   ]
  },
  {
   "cell_type": "code",
   "execution_count": 8,
   "metadata": {},
   "outputs": [
    {
     "data": {
      "text/plain": [
       "count    506.000000\n",
       "mean      22.532806\n",
       "std        9.197104\n",
       "min        5.000000\n",
       "25%       17.025000\n",
       "50%       21.200000\n",
       "75%       25.000000\n",
       "max       50.000000\n",
       "Name: MEDV, dtype: float64"
      ]
     },
     "execution_count": 8,
     "metadata": {},
     "output_type": "execute_result"
    }
   ],
   "source": [
    "# Data exploration\n",
    "bhp['MEDV'].describe() # Description of the price -MEDV- column"
   ]
  },
  {
   "cell_type": "markdown",
   "metadata": {},
   "source": [
    "- There is a <u>moderate to strong linear correlation</u> between price (__MEDV__) and number of rooms (__RM__) with a correlation coefficient of 0.69. "
   ]
  },
  {
   "cell_type": "code",
   "execution_count": 9,
   "metadata": {},
   "outputs": [
    {
     "data": {
      "text/plain": [
       "0.695359947071539"
      ]
     },
     "execution_count": 9,
     "metadata": {},
     "output_type": "execute_result"
    }
   ],
   "source": [
    "bhp['RM'].corr(bhp['MEDV'])"
   ]
  },
  {
   "cell_type": "markdown",
   "metadata": {},
   "source": [
    "The plot suggests the existence of a linear correlation despite the presence of some outliers. Now I will plot it along with its regression line in red:"
   ]
  },
  {
   "cell_type": "code",
   "execution_count": 10,
   "metadata": {
    "scrolled": false
   },
   "outputs": [
    {
     "name": "stdout",
     "output_type": "stream",
     "text": [
      "m = 9.1021; c = -34.6706\n"
     ]
    },
    {
     "data": {
      "image/png": "[encoded data removed]",
      "text/plain": [
       "<Figure size 432x288 with 1 Axes>"
      ]
     },
     "metadata": {
      "needs_background": "light"
     },
     "output_type": "display_data"
    }
   ],
   "source": [
    "# plotting both variables with small black dots \n",
    "plt.plot(bhp['RM'],bhp['MEDV'], 'k,')\n",
    "# getting the parameters from the regression line that best fit these pair of coordinates\n",
    "m, c = np.polyfit(bhp['RM'], bhp['MEDV'], 1)\n",
    "print('m = %.4f; c = %.4f' %(m,c)) # %.4f to show just 4 decimal points\n",
    "# drawing the regression line in red\n",
    "plt.plot(bhp['RM'], m * bhp['RM'] + c, 'r', linewidth=0.5)\n",
    "# setting axes labels\n",
    "plt.xlabel('RM', fontsize=18)\n",
    "plt.ylabel('MEDV', fontsize=18)\n",
    "plt.show()"
   ]
  },
  {
   "cell_type": "markdown",
   "metadata": {},
   "source": [
    "Then the function that defines this linear correlation is:\n",
    "\n",
    "$$ MEDV = 9.1\\times LSTAT - 34.67 $$\n"
   ]
  },
  {
   "cell_type": "markdown",
   "metadata": {},
   "source": [
    "- And this correlation between price and number of rooms tends to be the rule in practice.\n",
    "- Also there is a <u>moderate to strong negative linear correlation</u> with a coefficient of -0.74 between price (__MEDV__) and the proportion of population with limited resources (__LSTAT__). This is, the greater proportion of this population, the lower the price is.\n",
    "- However when plotting this two ocurrences I do not see a linear relation, but a quadratic or even an asymptotic-like one:"
   ]
  },
  {
   "cell_type": "code",
   "execution_count": 11,
   "metadata": {
    "scrolled": false
   },
   "outputs": [
    {
     "name": "stdout",
     "output_type": "stream",
     "text": [
      "m = 0.0435; n = -2.3328; c = 42.8620\n"
     ]
    },
    {
     "data": {
      "image/png": "[encoded data removed]",
      "text/plain": [
       "<Figure size 432x288 with 1 Axes>"
      ]
     },
     "metadata": {
      "needs_background": "light"
     },
     "output_type": "display_data"
    }
   ],
   "source": [
    "# plotting both variables with small blue dots \n",
    "plt.plot(bhp['LSTAT'],bhp['MEDV'], 'b,')\n",
    "# getting the parameters from the regression line that best fit these pair of coordinates\n",
    "m, n, c = np.polyfit(bhp['LSTAT'], bhp['MEDV'], 2)\n",
    "# drawing the regression line in red\n",
    "plt.plot(bhp['LSTAT'], m*bhp['LSTAT']**2 + n * bhp['LSTAT'] + c, 'r-', linewidth=0.02)\n",
    "# setting axes labels\n",
    "plt.xlabel('LSTAT', fontsize=18)\n",
    "plt.ylabel('MEDV', fontsize=18)\n",
    "print('m = %.4f; n = %.4f; c = %.4f' %(m,n,c)) # %.4f to show just 4 decimal points"
   ]
  },
  {
   "cell_type": "markdown",
   "metadata": {},
   "source": [
    "And the function that defines this quadratic correlation is:\n",
    "\n",
    "$$ MEDV = 0.04\\times LSTAT^2 - 2.33\\times LSTAT + 42.86$$"
   ]
  },
  {
   "cell_type": "markdown",
   "metadata": {},
   "source": [
    "And this fact leads me to check the distribution of the population:"
   ]
  },
  {
   "cell_type": "code",
   "execution_count": 12,
   "metadata": {
    "scrolled": true
   },
   "outputs": [
    {
     "data": {
      "image/png": "[encoded data removed]",
      "text/plain": [
       "<Figure size 432x288 with 1 Axes>"
      ]
     },
     "metadata": {
      "needs_background": "light"
     },
     "output_type": "display_data"
    }
   ],
   "source": [
    "sns.distplot(bhp[\"LSTAT\"]) # Passing the LSTAT column to the distplot() function of seaborn\n",
    "plt.show()"
   ]
  },
  {
   "cell_type": "markdown",
   "metadata": {},
   "source": [
    "We see that LSTAT also has a normal distribution and is skweded right as most of the occurences gather on the left side, where there is lower percentage of population with lower status. For this reason the right tale is longer. \n",
    "\n",
    "Tipically, the mean is larger than the median. Let's see the figures:"
   ]
  },
  {
   "cell_type": "code",
   "execution_count": 13,
   "metadata": {},
   "outputs": [
    {
     "data": {
      "text/plain": [
       "11.36"
      ]
     },
     "execution_count": 13,
     "metadata": {},
     "output_type": "execute_result"
    }
   ],
   "source": [
    "np.median(bhp['LSTAT'])"
   ]
  },
  {
   "cell_type": "code",
   "execution_count": 14,
   "metadata": {},
   "outputs": [
    {
     "data": {
      "text/plain": [
       "count    506.000000\n",
       "mean      12.653063\n",
       "std        7.141062\n",
       "min        1.730000\n",
       "25%        6.950000\n",
       "50%       11.360000\n",
       "75%       16.955000\n",
       "max       37.970000\n",
       "Name: LSTAT, dtype: float64"
      ]
     },
     "execution_count": 14,
     "metadata": {},
     "output_type": "execute_result"
    }
   ],
   "source": [
    "bhp['LSTAT'].describe()"
   ]
  },
  {
   "cell_type": "markdown",
   "metadata": {},
   "source": [
    "And the mean is greater than the median indeed. Also in the same line, the 75% of the areas studied have up to a 17% -roughly- of population with lower status when the maximum value is nearly 40%, which is over double. This is, between the minimum and maximum values measured (1.7% and 37.9%), three quarters of them (75%) are gathered below the 17%. \n",
    "\n",
    "On a different note, just as price and number of rooms are realted on one hand, and price and proportion of population with lower status are realted on the other hand, so too the number of rooms and proportion of population with lower status are realted:"
   ]
  },
  {
   "cell_type": "code",
   "execution_count": 15,
   "metadata": {},
   "outputs": [
    {
     "data": {
      "image/png": "[encoded data removed]",
      "text/plain": [
       "<Figure size 432x288 with 1 Axes>"
      ]
     },
     "metadata": {
      "needs_background": "light"
     },
     "output_type": "display_data"
    }
   ],
   "source": [
    "plt.plot(bhp['RM'],bhp['LSTAT'], 'b.')\n",
    "plt.xlabel('RM', fontsize=18)\n",
    "plt.ylabel('LSTAT', fontsize=18)\n",
    "plt.show()"
   ]
  },
  {
   "cell_type": "markdown",
   "metadata": {},
   "source": [
    "Then the lower proportion of popultion with lower status the greater number of rooms is.\n",
    "\n",
    "-----\n",
    "\n",
    "On the other hand CRIM, DIS and NOX follow a normal distribution skewed right, and on the contrary AGE and PTRATIO are skewed left with their corresponding oposite features. In order to show an example I will plot PTRATIO:"
   ]
  },
  {
   "cell_type": "code",
   "execution_count": 16,
   "metadata": {
    "scrolled": true
   },
   "outputs": [
    {
     "data": {
      "image/png": "[encoded data removed]",
      "text/plain": [
       "<Figure size 432x288 with 1 Axes>"
      ]
     },
     "metadata": {
      "needs_background": "light"
     },
     "output_type": "display_data"
    }
   ],
   "source": [
    "sns.distplot(bhp[\"PTRATIO\"])\n",
    "plt.show()\n",
    "# pupil-teacher ratio by town"
   ]
  },
  {
   "cell_type": "markdown",
   "metadata": {},
   "source": [
    "And finally INDUS, RAD and TAX have a bimodal distribution with two peaks each. They have two data ranges that appear most often in the dataset giving it this particular shape, like two bells close to each other. As a sample I will plot INDUS where there is two clear tendencies, towns with around 5% of non-retail business acres, or else towns with around 17% of non-retail acres. It would be interesting to look into the observances of these two peaks, check their other attributes to, on a latter stage, compare them between themselvesand between the other segments of the distribution."
   ]
  },
  {
   "cell_type": "code",
   "execution_count": 17,
   "metadata": {
    "scrolled": true
   },
   "outputs": [
    {
     "data": {
      "image/png": "[encoded data removed]",
      "text/plain": [
       "<Figure size 432x288 with 1 Axes>"
      ]
     },
     "metadata": {
      "needs_background": "light"
     },
     "output_type": "display_data"
    }
   ],
   "source": [
    "sns.distplot(bhp[\"INDUS\"])\n",
    "plt.show()"
   ]
  },
  {
   "cell_type": "markdown",
   "metadata": {},
   "source": [
    "Same as before, feel free to uncomment the cell below if you would like to see the histograms of all the varialbes"
   ]
  },
  {
   "cell_type": "code",
   "execution_count": 18,
   "metadata": {},
   "outputs": [],
   "source": [
    "# for x in bhp.columns: # for loop to iterate through all of the columns -attributes- and plot their histogram\n",
    "#     sns.distplot(bhp[x])\n",
    "#     plt.show()"
   ]
  },
  {
   "cell_type": "markdown",
   "metadata": {},
   "source": [
    "- It is also worth mentioning that I left CHAR aside since it is a categorical variable, equivalent to True and False depending on whether or not the houses are along the river. This is encoded in the dataset as 1 and 0 respectively which is convenient for later on when this variable will be handled by a neural network."
   ]
  },
  {
   "cell_type": "code",
   "execution_count": 19,
   "metadata": {
    "scrolled": true
   },
   "outputs": [
    {
     "data": {
      "text/html": [
       "<div>\n",
       "<style scoped>\n",
       "    .dataframe tbody tr th:only-of-type {\n",
       "        vertical-align: middle;\n",
       "    }\n",
       "\n",
       "    .dataframe tbody tr th {\n",
       "        vertical-align: top;\n",
       "    }\n",
       "\n",
       "    .dataframe thead th {\n",
       "        text-align: right;\n",
       "    }\n",
       "</style>\n",
       "<table border=\"1\" class=\"dataframe\">\n",
       "  <thead>\n",
       "    <tr style=\"text-align: right;\">\n",
       "      <th></th>\n",
       "      <th>count</th>\n",
       "      <th>mean</th>\n",
       "      <th>std</th>\n",
       "      <th>min</th>\n",
       "      <th>25%</th>\n",
       "      <th>50%</th>\n",
       "      <th>75%</th>\n",
       "      <th>max</th>\n",
       "    </tr>\n",
       "  </thead>\n",
       "  <tbody>\n",
       "    <tr>\n",
       "      <th>CRIM</th>\n",
       "      <td>506.0</td>\n",
       "      <td>3.613524</td>\n",
       "      <td>8.601545</td>\n",
       "      <td>0.00632</td>\n",
       "      <td>0.082045</td>\n",
       "      <td>0.25651</td>\n",
       "      <td>3.677083</td>\n",
       "      <td>88.9762</td>\n",
       "    </tr>\n",
       "    <tr>\n",
       "      <th>ZN</th>\n",
       "      <td>506.0</td>\n",
       "      <td>11.363636</td>\n",
       "      <td>23.322453</td>\n",
       "      <td>0.00000</td>\n",
       "      <td>0.000000</td>\n",
       "      <td>0.00000</td>\n",
       "      <td>12.500000</td>\n",
       "      <td>100.0000</td>\n",
       "    </tr>\n",
       "    <tr>\n",
       "      <th>INDUS</th>\n",
       "      <td>506.0</td>\n",
       "      <td>11.136779</td>\n",
       "      <td>6.860353</td>\n",
       "      <td>0.46000</td>\n",
       "      <td>5.190000</td>\n",
       "      <td>9.69000</td>\n",
       "      <td>18.100000</td>\n",
       "      <td>27.7400</td>\n",
       "    </tr>\n",
       "    <tr>\n",
       "      <th>CHAS</th>\n",
       "      <td>506.0</td>\n",
       "      <td>0.069170</td>\n",
       "      <td>0.253994</td>\n",
       "      <td>0.00000</td>\n",
       "      <td>0.000000</td>\n",
       "      <td>0.00000</td>\n",
       "      <td>0.000000</td>\n",
       "      <td>1.0000</td>\n",
       "    </tr>\n",
       "    <tr>\n",
       "      <th>NOX</th>\n",
       "      <td>506.0</td>\n",
       "      <td>0.554695</td>\n",
       "      <td>0.115878</td>\n",
       "      <td>0.38500</td>\n",
       "      <td>0.449000</td>\n",
       "      <td>0.53800</td>\n",
       "      <td>0.624000</td>\n",
       "      <td>0.8710</td>\n",
       "    </tr>\n",
       "    <tr>\n",
       "      <th>RM</th>\n",
       "      <td>506.0</td>\n",
       "      <td>6.284634</td>\n",
       "      <td>0.702617</td>\n",
       "      <td>3.56100</td>\n",
       "      <td>5.885500</td>\n",
       "      <td>6.20850</td>\n",
       "      <td>6.623500</td>\n",
       "      <td>8.7800</td>\n",
       "    </tr>\n",
       "    <tr>\n",
       "      <th>AGE</th>\n",
       "      <td>506.0</td>\n",
       "      <td>68.574901</td>\n",
       "      <td>28.148861</td>\n",
       "      <td>2.90000</td>\n",
       "      <td>45.025000</td>\n",
       "      <td>77.50000</td>\n",
       "      <td>94.075000</td>\n",
       "      <td>100.0000</td>\n",
       "    </tr>\n",
       "    <tr>\n",
       "      <th>DIS</th>\n",
       "      <td>506.0</td>\n",
       "      <td>3.795043</td>\n",
       "      <td>2.105710</td>\n",
       "      <td>1.12960</td>\n",
       "      <td>2.100175</td>\n",
       "      <td>3.20745</td>\n",
       "      <td>5.188425</td>\n",
       "      <td>12.1265</td>\n",
       "    </tr>\n",
       "    <tr>\n",
       "      <th>RAD</th>\n",
       "      <td>506.0</td>\n",
       "      <td>9.549407</td>\n",
       "      <td>8.707259</td>\n",
       "      <td>1.00000</td>\n",
       "      <td>4.000000</td>\n",
       "      <td>5.00000</td>\n",
       "      <td>24.000000</td>\n",
       "      <td>24.0000</td>\n",
       "    </tr>\n",
       "    <tr>\n",
       "      <th>TAX</th>\n",
       "      <td>506.0</td>\n",
       "      <td>408.237154</td>\n",
       "      <td>168.537116</td>\n",
       "      <td>187.00000</td>\n",
       "      <td>279.000000</td>\n",
       "      <td>330.00000</td>\n",
       "      <td>666.000000</td>\n",
       "      <td>711.0000</td>\n",
       "    </tr>\n",
       "    <tr>\n",
       "      <th>PTRATIO</th>\n",
       "      <td>506.0</td>\n",
       "      <td>18.455534</td>\n",
       "      <td>2.164946</td>\n",
       "      <td>12.60000</td>\n",
       "      <td>17.400000</td>\n",
       "      <td>19.05000</td>\n",
       "      <td>20.200000</td>\n",
       "      <td>22.0000</td>\n",
       "    </tr>\n",
       "    <tr>\n",
       "      <th>B</th>\n",
       "      <td>506.0</td>\n",
       "      <td>356.674032</td>\n",
       "      <td>91.294864</td>\n",
       "      <td>0.32000</td>\n",
       "      <td>375.377500</td>\n",
       "      <td>391.44000</td>\n",
       "      <td>396.225000</td>\n",
       "      <td>396.9000</td>\n",
       "    </tr>\n",
       "    <tr>\n",
       "      <th>LSTAT</th>\n",
       "      <td>506.0</td>\n",
       "      <td>12.653063</td>\n",
       "      <td>7.141062</td>\n",
       "      <td>1.73000</td>\n",
       "      <td>6.950000</td>\n",
       "      <td>11.36000</td>\n",
       "      <td>16.955000</td>\n",
       "      <td>37.9700</td>\n",
       "    </tr>\n",
       "    <tr>\n",
       "      <th>MEDV</th>\n",
       "      <td>506.0</td>\n",
       "      <td>22.532806</td>\n",
       "      <td>9.197104</td>\n",
       "      <td>5.00000</td>\n",
       "      <td>17.025000</td>\n",
       "      <td>21.20000</td>\n",
       "      <td>25.000000</td>\n",
       "      <td>50.0000</td>\n",
       "    </tr>\n",
       "  </tbody>\n",
       "</table>\n",
       "</div>"
      ],
      "text/plain": [
       "         count        mean         std        min         25%        50%  \\\n",
       "CRIM     506.0    3.613524    8.601545    0.00632    0.082045    0.25651   \n",
       "ZN       506.0   11.363636   23.322453    0.00000    0.000000    0.00000   \n",
       "INDUS    506.0   11.136779    6.860353    0.46000    5.190000    9.69000   \n",
       "CHAS     506.0    0.069170    0.253994    0.00000    0.000000    0.00000   \n",
       "NOX      506.0    0.554695    0.115878    0.38500    0.449000    0.53800   \n",
       "RM       506.0    6.284634    0.702617    3.56100    5.885500    6.20850   \n",
       "AGE      506.0   68.574901   28.148861    2.90000   45.025000   77.50000   \n",
       "DIS      506.0    3.795043    2.105710    1.12960    2.100175    3.20745   \n",
       "RAD      506.0    9.549407    8.707259    1.00000    4.000000    5.00000   \n",
       "TAX      506.0  408.237154  168.537116  187.00000  279.000000  330.00000   \n",
       "PTRATIO  506.0   18.455534    2.164946   12.60000   17.400000   19.05000   \n",
       "B        506.0  356.674032   91.294864    0.32000  375.377500  391.44000   \n",
       "LSTAT    506.0   12.653063    7.141062    1.73000    6.950000   11.36000   \n",
       "MEDV     506.0   22.532806    9.197104    5.00000   17.025000   21.20000   \n",
       "\n",
       "                75%       max  \n",
       "CRIM       3.677083   88.9762  \n",
       "ZN        12.500000  100.0000  \n",
       "INDUS     18.100000   27.7400  \n",
       "CHAS       0.000000    1.0000  \n",
       "NOX        0.624000    0.8710  \n",
       "RM         6.623500    8.7800  \n",
       "AGE       94.075000  100.0000  \n",
       "DIS        5.188425   12.1265  \n",
       "RAD       24.000000   24.0000  \n",
       "TAX      666.000000  711.0000  \n",
       "PTRATIO   20.200000   22.0000  \n",
       "B        396.225000  396.9000  \n",
       "LSTAT     16.955000   37.9700  \n",
       "MEDV      25.000000   50.0000  "
      ]
     },
     "execution_count": 19,
     "metadata": {},
     "output_type": "execute_result"
    }
   ],
   "source": [
    "# Data exploration\n",
    "bhp.describe().T"
   ]
  },
  {
   "cell_type": "markdown",
   "metadata": {},
   "source": [
    "# Inference"
   ]
  },
  {
   "cell_type": "markdown",
   "metadata": {},
   "source": [
    "Here I will try to show if there is a significant difference in median house prices between houses that are along the Charles river and those that aren’t. For this analysis I am going to create two arrays which hold the values of the price from houses located along the river (where column CHAS is 1) and a different array that contains the price of the properties away from it (where column CHAS is 0)"
   ]
  },
  {
   "cell_type": "code",
   "execution_count": 20,
   "metadata": {},
   "outputs": [
    {
     "name": "stdout",
     "output_type": "stream",
     "text": [
      "\n",
      " Ttest_indResult(statistic=3.996437466090509, pvalue=7.390623170519905e-05)\n"
     ]
    }
   ],
   "source": [
    "# Creating two arrays which contain the MEDV values from properties along the river and away from it:\n",
    "Bank = []\n",
    "NotBank = []\n",
    "\n",
    "# for loop to iterate row after row along the data frame:\n",
    "for index, row in bhp.iterrows():\n",
    "    if (row['CHAS'] == 0):\n",
    "        NotBank.append(row['MEDV'])\n",
    "    else:\n",
    "        # CHAS values are either 0 or 1 so this else statement only considers the ones.\n",
    "        Bank.append(row['MEDV'])\n",
    "        \n",
    "ttest = stats.ttest_ind(Bank, NotBank)\n",
    "\n",
    "print('\\n',ttest)"
   ]
  },
  {
   "cell_type": "markdown",
   "metadata": {},
   "source": [
    "Then pvalue is 7.4 x 10<sup>-5</sup>, with such low probability I can reject the null hypothesis and consider the medians of the price differ significantly. Now I will overlap their frequency distribution:"
   ]
  },
  {
   "cell_type": "code",
   "execution_count": 21,
   "metadata": {
    "scrolled": false
   },
   "outputs": [
    {
     "data": {
      "image/png": "[encoded data removed]",
      "text/plain": [
       "<Figure size 432x288 with 1 Axes>"
      ]
     },
     "metadata": {
      "needs_background": "light"
     },
     "output_type": "display_data"
    }
   ],
   "source": [
    "# Plot histograms of the two samples.\n",
    "plt.hist(Bank, density=True, color='g', alpha=0.4, label='Along Charles river') # density=True so that the area under the histograms sums to 1\n",
    "plt.hist(NotBank, density=True, color='b', alpha=0.4, label='Away from the river') # alpha sets transparency\n",
    "plt.legend() # to show the legend specified as 'label' above\n",
    "plt.show()"
   ]
  },
  {
   "cell_type": "markdown",
   "metadata": {},
   "source": [
    "As we can see their distribution seem relatively similar with the peaks next to each other. Anyhow, the low probability the p value shows, means that the price medians are signifcantly different. Now I will check some parameters:"
   ]
  },
  {
   "cell_type": "code",
   "execution_count": 22,
   "metadata": {},
   "outputs": [
    {
     "name": "stdout",
     "output_type": "stream",
     "text": [
      " Occurrences along the river     =   35 ; median =  23.0 ; standard deviation =  12.0 \n",
      " Occurrences away from the river =  471 ; median =  21.0 ; standard deviation =   9.0\n"
     ]
    }
   ],
   "source": [
    "print(' Occurrences along the river     =  ', len(Bank), '; median = ', round(np.median(Bank)),'; standard deviation = ',round(np.std(Bank)),'\\n Occurrences away from the river = ', len(NotBank), '; median = ', round(np.median(NotBank)), '; standard deviation =  ',round(np.std(NotBank)))"
   ]
  },
  {
   "cell_type": "markdown",
   "metadata": {},
   "source": [
    "There are many more observations taken from houses located along the river, they have similar medians indeed but different standard deviation. The ones away from the river are gathered closer to their mean whereas the other ones are more spread out, specially on the right side.\n",
    "\n",
    "In fact there is a similarity between the frequency distribution of the prices along the river and all the prices together (MEDV): there is an outstanding bar on the very right:"
   ]
  },
  {
   "cell_type": "code",
   "execution_count": 23,
   "metadata": {
    "scrolled": true
   },
   "outputs": [
    {
     "data": {
      "image/png": "[encoded data removed]",
      "text/plain": [
       "<Figure size 432x288 with 1 Axes>"
      ]
     },
     "metadata": {
      "needs_background": "light"
     },
     "output_type": "display_data"
    }
   ],
   "source": [
    "sns.distplot(bhp['MEDV']) \n",
    "plt.show()"
   ]
  },
  {
   "cell_type": "markdown",
   "metadata": {},
   "source": [
    "They both have a high count on the highest maximum value for MEDV, which is 50. Perhaps the price is capped at 50 and this value becomes more of a range actually. I will show the figures:"
   ]
  },
  {
   "cell_type": "code",
   "execution_count": 24,
   "metadata": {},
   "outputs": [
    {
     "name": "stdout",
     "output_type": "stream",
     "text": [
      "Along the river 6 values out of 35 are 50, whereas away from it, just 10 out of 471\n"
     ]
    }
   ],
   "source": [
    "print('Along the river',Bank.count(50), 'values out of',len(Bank), 'are 50,', 'whereas away from it, just', NotBank.count(50), 'out of',len(NotBank))"
   ]
  },
  {
   "cell_type": "markdown",
   "metadata": {},
   "source": [
    "Then this fact definitely has an impact on the p value. There does seem to be more expensive houses along the river, although, in order to make a more solid judgement we would have needed a bigger size of the sample so that it is more representative."
   ]
  },
  {
   "cell_type": "markdown",
   "metadata": {},
   "source": [
    "# Prediction\n",
    "\n",
    "In order to predict the price of a house according to some attributes input I will configure a neural network with keras. The experimental phase led me to configure it the as shown below. I had a better MSE (mean squared error) loss by reducing the number of attributes, I selected the ones that seemed most relevant:"
   ]
  },
  {
   "cell_type": "code",
   "execution_count": 25,
   "metadata": {},
   "outputs": [
    {
     "data": {
      "text/html": [
       "<div>\n",
       "<style scoped>\n",
       "    .dataframe tbody tr th:only-of-type {\n",
       "        vertical-align: middle;\n",
       "    }\n",
       "\n",
       "    .dataframe tbody tr th {\n",
       "        vertical-align: top;\n",
       "    }\n",
       "\n",
       "    .dataframe thead th {\n",
       "        text-align: right;\n",
       "    }\n",
       "</style>\n",
       "<table border=\"1\" class=\"dataframe\">\n",
       "  <thead>\n",
       "    <tr style=\"text-align: right;\">\n",
       "      <th></th>\n",
       "      <th>CRIM</th>\n",
       "      <th>CHAS</th>\n",
       "      <th>RM</th>\n",
       "      <th>DIS</th>\n",
       "      <th>RAD</th>\n",
       "      <th>PTRATIO</th>\n",
       "      <th>LSTAT</th>\n",
       "    </tr>\n",
       "  </thead>\n",
       "  <tbody>\n",
       "    <tr>\n",
       "      <th>1</th>\n",
       "      <td>0.00632</td>\n",
       "      <td>0.0</td>\n",
       "      <td>6.575</td>\n",
       "      <td>4.0900</td>\n",
       "      <td>1.0</td>\n",
       "      <td>15.3</td>\n",
       "      <td>4.98</td>\n",
       "    </tr>\n",
       "    <tr>\n",
       "      <th>2</th>\n",
       "      <td>0.02731</td>\n",
       "      <td>0.0</td>\n",
       "      <td>6.421</td>\n",
       "      <td>4.9671</td>\n",
       "      <td>2.0</td>\n",
       "      <td>17.8</td>\n",
       "      <td>9.14</td>\n",
       "    </tr>\n",
       "    <tr>\n",
       "      <th>3</th>\n",
       "      <td>0.02729</td>\n",
       "      <td>0.0</td>\n",
       "      <td>7.185</td>\n",
       "      <td>4.9671</td>\n",
       "      <td>2.0</td>\n",
       "      <td>17.8</td>\n",
       "      <td>4.03</td>\n",
       "    </tr>\n",
       "    <tr>\n",
       "      <th>4</th>\n",
       "      <td>0.03237</td>\n",
       "      <td>0.0</td>\n",
       "      <td>6.998</td>\n",
       "      <td>6.0622</td>\n",
       "      <td>3.0</td>\n",
       "      <td>18.7</td>\n",
       "      <td>2.94</td>\n",
       "    </tr>\n",
       "    <tr>\n",
       "      <th>5</th>\n",
       "      <td>0.06905</td>\n",
       "      <td>0.0</td>\n",
       "      <td>7.147</td>\n",
       "      <td>6.0622</td>\n",
       "      <td>3.0</td>\n",
       "      <td>18.7</td>\n",
       "      <td>5.33</td>\n",
       "    </tr>\n",
       "    <tr>\n",
       "      <th>...</th>\n",
       "      <td>...</td>\n",
       "      <td>...</td>\n",
       "      <td>...</td>\n",
       "      <td>...</td>\n",
       "      <td>...</td>\n",
       "      <td>...</td>\n",
       "      <td>...</td>\n",
       "    </tr>\n",
       "    <tr>\n",
       "      <th>502</th>\n",
       "      <td>0.06263</td>\n",
       "      <td>0.0</td>\n",
       "      <td>6.593</td>\n",
       "      <td>2.4786</td>\n",
       "      <td>1.0</td>\n",
       "      <td>21.0</td>\n",
       "      <td>9.67</td>\n",
       "    </tr>\n",
       "    <tr>\n",
       "      <th>503</th>\n",
       "      <td>0.04527</td>\n",
       "      <td>0.0</td>\n",
       "      <td>6.120</td>\n",
       "      <td>2.2875</td>\n",
       "      <td>1.0</td>\n",
       "      <td>21.0</td>\n",
       "      <td>9.08</td>\n",
       "    </tr>\n",
       "    <tr>\n",
       "      <th>504</th>\n",
       "      <td>0.06076</td>\n",
       "      <td>0.0</td>\n",
       "      <td>6.976</td>\n",
       "      <td>2.1675</td>\n",
       "      <td>1.0</td>\n",
       "      <td>21.0</td>\n",
       "      <td>5.64</td>\n",
       "    </tr>\n",
       "    <tr>\n",
       "      <th>505</th>\n",
       "      <td>0.10959</td>\n",
       "      <td>0.0</td>\n",
       "      <td>6.794</td>\n",
       "      <td>2.3889</td>\n",
       "      <td>1.0</td>\n",
       "      <td>21.0</td>\n",
       "      <td>6.48</td>\n",
       "    </tr>\n",
       "    <tr>\n",
       "      <th>506</th>\n",
       "      <td>0.04741</td>\n",
       "      <td>0.0</td>\n",
       "      <td>6.030</td>\n",
       "      <td>2.5050</td>\n",
       "      <td>1.0</td>\n",
       "      <td>21.0</td>\n",
       "      <td>7.88</td>\n",
       "    </tr>\n",
       "  </tbody>\n",
       "</table>\n",
       "<p>506 rows × 7 columns</p>\n",
       "</div>"
      ],
      "text/plain": [
       "        CRIM  CHAS     RM     DIS  RAD  PTRATIO  LSTAT\n",
       "1    0.00632   0.0  6.575  4.0900  1.0     15.3   4.98\n",
       "2    0.02731   0.0  6.421  4.9671  2.0     17.8   9.14\n",
       "3    0.02729   0.0  7.185  4.9671  2.0     17.8   4.03\n",
       "4    0.03237   0.0  6.998  6.0622  3.0     18.7   2.94\n",
       "5    0.06905   0.0  7.147  6.0622  3.0     18.7   5.33\n",
       "..       ...   ...    ...     ...  ...      ...    ...\n",
       "502  0.06263   0.0  6.593  2.4786  1.0     21.0   9.67\n",
       "503  0.04527   0.0  6.120  2.2875  1.0     21.0   9.08\n",
       "504  0.06076   0.0  6.976  2.1675  1.0     21.0   5.64\n",
       "505  0.10959   0.0  6.794  2.3889  1.0     21.0   6.48\n",
       "506  0.04741   0.0  6.030  2.5050  1.0     21.0   7.88\n",
       "\n",
       "[506 rows x 7 columns]"
      ]
     },
     "execution_count": 25,
     "metadata": {},
     "output_type": "execute_result"
    }
   ],
   "source": [
    "# Separate the inputs from the rest of the variables.\n",
    "inputs = bhp[['CRIM','CHAS','RM','DIS','RAD','PTRATIO','LSTAT']]\n",
    "outputs = bhp[['MEDV']]\n",
    "inputs"
   ]
  },
  {
   "cell_type": "code",
   "execution_count": 26,
   "metadata": {},
   "outputs": [],
   "source": [
    "# Split the inputs and outputs into training and test sets. Standard way of training neural network tests. Training network on 70% of the data set and the 30% for testing -test_size=0.3-\n",
    "inputs_train, inputs_test, outputs_train, outputs_test = mod.train_test_split(inputs, outputs, test_size=0.3)\n",
    "# test_size=0.5, takes half of the data set to train beforehand"
   ]
  },
  {
   "cell_type": "code",
   "execution_count": 27,
   "metadata": {},
   "outputs": [
    {
     "name": "stdout",
     "output_type": "stream",
     "text": [
      "WARNING:tensorflow:From C:\\Users\\montec3\\AppData\\Local\\Continuum\\anaconda3\\lib\\site-packages\\tensorflow\\python\\ops\\resource_variable_ops.py:435: colocate_with (from tensorflow.python.framework.ops) is deprecated and will be removed in a future version.\n",
      "Instructions for updating:\n",
      "Colocations handled automatically by placer.\n"
     ]
    }
   ],
   "source": [
    "# Starting a neural network, sequential for building it by layers.\n",
    "model = kr.models.Sequential()\n",
    "\n",
    "# Add a hidden layer with 15 neurons and an input layer with the 7 attributes chosen\n",
    "model.add(kr.layers.Dense(units=15, activation='tanh', input_dim=7)) \n",
    "\n",
    "# Add another hidden layer \n",
    "model.add(kr.layers.Dense(units=30, activation='relu')) \n",
    "          \n",
    "# Add a one neuron output layer.\n",
    "model.add(kr.layers.Dense(units=1, activation='linear')) # Price is the only output I expect. Therefore linear\n",
    "\n",
    "# Build the graph.\n",
    "model.compile(loss='mean_squared_error', optimizer='sgd', metrics=['accuracy'])\n",
    "# loss='categorical_crossentropy' is a standard loss function for a categorical variable."
   ]
  },
  {
   "cell_type": "code",
   "execution_count": 28,
   "metadata": {
    "scrolled": true
   },
   "outputs": [
    {
     "name": "stdout",
     "output_type": "stream",
     "text": [
      "WARNING:tensorflow:From C:\\Users\\montec3\\AppData\\Local\\Continuum\\anaconda3\\lib\\site-packages\\tensorflow\\python\\ops\\math_ops.py:3066: to_int32 (from tensorflow.python.ops.math_ops) is deprecated and will be removed in a future version.\n",
      "Instructions for updating:\n",
      "Use tf.cast instead.\n",
      "Epoch 1/20\n",
      "354/354 [==============================] - 0s 347us/step - loss: 388.5743 - accuracy: 0.0000e+00\n",
      "Epoch 2/20\n",
      "354/354 [==============================] - 0s 113us/step - loss: 166.8834 - accuracy: 0.0028\n",
      "Epoch 3/20\n",
      "354/354 [==============================] - 0s 138us/step - loss: 111.7199 - accuracy: 0.0028\n",
      "Epoch 4/20\n",
      "354/354 [==============================] - 0s 139us/step - loss: 98.4068 - accuracy: 0.0028\n",
      "Epoch 5/20\n",
      "354/354 [==============================] - 0s 141us/step - loss: 95.3804 - accuracy: 0.0141\n",
      "Epoch 6/20\n",
      "354/354 [==============================] - 0s 138us/step - loss: 94.7844 - accuracy: 0.0113\n",
      "Epoch 7/20\n",
      "354/354 [==============================] - 0s 130us/step - loss: 94.3599 - accuracy: 0.0085\n",
      "Epoch 8/20\n",
      "354/354 [==============================] - 0s 133us/step - loss: 94.2610 - accuracy: 0.0113\n",
      "Epoch 9/20\n",
      "354/354 [==============================] - 0s 138us/step - loss: 94.2342 - accuracy: 0.0113\n",
      "Epoch 10/20\n",
      "354/354 [==============================] - 0s 201us/step - loss: 94.2083 - accuracy: 0.0113\n",
      "Epoch 11/20\n",
      "354/354 [==============================] - 0s 119us/step - loss: 94.2356 - accuracy: 0.0113\n",
      "Epoch 12/20\n",
      "354/354 [==============================] - 0s 119us/step - loss: 94.4546 - accuracy: 0.0113\n",
      "Epoch 13/20\n",
      "354/354 [==============================] - 0s 124us/step - loss: 94.2544 - accuracy: 0.0113\n",
      "Epoch 14/20\n",
      "354/354 [==============================] - 0s 138us/step - loss: 94.4284 - accuracy: 0.0085\n",
      "Epoch 15/20\n",
      "354/354 [==============================] - 0s 232us/step - loss: 94.1345 - accuracy: 0.0113\n",
      "Epoch 16/20\n",
      "354/354 [==============================] - 0s 121us/step - loss: 93.9693 - accuracy: 0.0113\n",
      "Epoch 17/20\n",
      "354/354 [==============================] - 0s 116us/step - loss: 93.8478 - accuracy: 0.0113\n",
      "Epoch 18/20\n",
      "354/354 [==============================] - 0s 119us/step - loss: 90.9786 - accuracy: 0.0056\n",
      "Epoch 19/20\n",
      "354/354 [==============================] - 0s 124us/step - loss: 94.0758 - accuracy: 0.0113\n",
      "Epoch 20/20\n",
      "354/354 [==============================] - 0s 147us/step - loss: 94.4304 - accuracy: 0.0113\n"
     ]
    },
    {
     "data": {
      "text/plain": [
       "<keras.callbacks.callbacks.History at 0x1b4bc44de80>"
      ]
     },
     "execution_count": 28,
     "metadata": {},
     "output_type": "execute_result"
    }
   ],
   "source": [
    "# Train the neural network.\n",
    "model.fit(inputs_train, outputs_train, epochs=20, batch_size=10) # 20 rounds with 10 batches each"
   ]
  },
  {
   "cell_type": "code",
   "execution_count": 29,
   "metadata": {
    "scrolled": true
   },
   "outputs": [],
   "source": [
    "# predictions on the test set\n",
    "pred1 = model.predict(inputs_test)"
   ]
  },
  {
   "cell_type": "code",
   "execution_count": 30,
   "metadata": {
    "scrolled": true
   },
   "outputs": [
    {
     "name": "stderr",
     "output_type": "stream",
     "text": [
      "C:\\Users\\montec3\\AppData\\Local\\Continuum\\anaconda3\\lib\\site-packages\\ipykernel_launcher.py:2: FutureWarning: Method .as_matrix will be removed in a future version. Use .values instead.\n",
      "  \n"
     ]
    }
   ],
   "source": [
    "# values from the test set\n",
    "outTest1 = outputs_test.as_matrix().astype(np.float32)"
   ]
  },
  {
   "cell_type": "code",
   "execution_count": 31,
   "metadata": {
    "scrolled": true
   },
   "outputs": [
    {
     "data": {
      "text/plain": [
       "array([[22.961716, 22.961716, 22.961716, 22.961716, 22.961716, 22.961716,\n",
       "        22.961716, 22.961716, 22.961716, 22.961716, 22.961716, 22.961716,\n",
       "        22.961716, 22.961716, 22.961716, 22.961716, 22.961716, 22.961716,\n",
       "        22.961716, 22.961716, 22.961716, 22.961716, 22.961716, 22.961716,\n",
       "        22.961716, 22.961716, 22.961716, 22.961716, 22.961716, 22.961716,\n",
       "        22.961716, 22.961716, 22.961716, 22.961716, 22.961716, 22.961716,\n",
       "        22.961716, 22.961716, 22.961716, 20.71815 , 22.961716, 22.961716,\n",
       "        22.961716, 22.961716, 22.961716, 22.961716, 22.961716, 22.961716,\n",
       "        22.961716, 22.961716, 22.961716, 22.961716, 22.961716, 22.961716,\n",
       "        22.961716, 22.961716, 22.961716, 22.961716, 22.961716, 22.961716,\n",
       "        22.961716, 22.961716, 22.961716, 22.961716, 22.961716, 22.961716,\n",
       "        22.961716, 22.961716, 22.961716, 22.961716, 22.961716, 22.961716,\n",
       "        22.961716, 22.961716, 22.961716, 22.961716, 22.961716, 22.961716,\n",
       "        22.961716, 22.961716, 22.961716, 22.961716, 22.961716, 22.961716,\n",
       "        22.961716, 22.961716, 22.961716, 22.961716, 22.961716, 22.961716,\n",
       "        22.961716, 22.961716, 22.961716, 22.961716, 22.961716, 22.961716,\n",
       "        22.961716, 22.961716, 22.961716, 22.961716, 22.961716, 22.961716,\n",
       "        22.961716, 22.961716, 22.961716, 22.961716, 22.961716, 22.961716,\n",
       "        22.961716, 22.961716, 22.961716, 22.961716, 22.961716, 22.961716,\n",
       "        22.961716, 22.961716, 22.961716, 22.961716, 22.961716, 22.961716,\n",
       "        22.961716, 22.961716, 22.961716, 22.961716, 22.961716, 22.961716,\n",
       "        22.961716, 22.961716, 22.961716, 22.961716, 22.961716, 22.961716,\n",
       "        22.961716, 22.961716, 22.961716, 22.961716, 22.961716, 22.961716,\n",
       "        22.961716, 22.961716, 22.961716, 22.961716, 22.961716, 22.961716,\n",
       "        22.961716, 22.961716, 22.961716, 22.961716, 22.961716, 22.961716,\n",
       "        22.961716, 22.961716]], dtype=float32)"
      ]
     },
     "execution_count": 31,
     "metadata": {},
     "output_type": "execute_result"
    }
   ],
   "source": [
    "pred1.T # all the values are repeated."
   ]
  },
  {
   "cell_type": "code",
   "execution_count": 32,
   "metadata": {},
   "outputs": [
    {
     "name": "stdout",
     "output_type": "stream",
     "text": [
      "152/152 [==============================] - 0s 310us/step\n"
     ]
    },
    {
     "data": {
      "text/plain": [
       "[61.80125868947882, 0.0]"
      ]
     },
     "execution_count": 32,
     "metadata": {},
     "output_type": "execute_result"
    }
   ],
   "source": [
    "# Calculate the loss function, mean squared error in this case. The higher the value output the worse\n",
    "model.evaluate(inputs_test, outputs_test)"
   ]
  },
  {
   "cell_type": "markdown",
   "metadata": {},
   "source": [
    "----\n",
    "The neural network as it is is not functional since all the predictions are just reapeated. In order to improve the efficiency of the neural network I will **scale** it\n"
   ]
  },
  {
   "cell_type": "code",
   "execution_count": 33,
   "metadata": {},
   "outputs": [],
   "source": [
    "# Standard scaler from the preprocessing library \n",
    "scaler = pre.StandardScaler()\n",
    "scaler.fit(inputs_train)\n",
    "inputs_train_scaled = scaler.transform(inputs_train)"
   ]
  },
  {
   "cell_type": "code",
   "execution_count": 34,
   "metadata": {},
   "outputs": [],
   "source": [
    "# rebuid the neural network\n",
    "model = kr.models.Sequential()\n",
    "\n",
    "# Add a hidden layer with 15 neurons and an input layer with the 7 attributes\n",
    "model.add(kr.layers.Dense(units=15, activation='tanh', input_dim=7))\n",
    "\n",
    "# Add another hidden layer \n",
    "model.add(kr.layers.Dense(units=30, activation='relu')) \n",
    "          \n",
    "# Add a one neuron output layer.\n",
    "model.add(kr.layers.Dense(units=1, activation='linear'))\n",
    "\n",
    "# Build the graph.\n",
    "model.compile(loss='mean_squared_error', optimizer='sgd', metrics=['accuracy'])\n",
    "# loss='categorical_crossentropy' is a standard loss function for a categorical variable."
   ]
  },
  {
   "cell_type": "code",
   "execution_count": 35,
   "metadata": {
    "scrolled": true
   },
   "outputs": [
    {
     "name": "stdout",
     "output_type": "stream",
     "text": [
      "Epoch 1/20\n",
      "354/354 [==============================] - 0s 328us/step - loss: 111.7520 - accuracy: 0.0085\n",
      "Epoch 2/20\n",
      "354/354 [==============================] - 0s 214us/step - loss: 60.0203 - accuracy: 0.0056\n",
      "Epoch 3/20\n",
      "354/354 [==============================] - 0s 218us/step - loss: 32.1860 - accuracy: 0.0056\n",
      "Epoch 4/20\n",
      "354/354 [==============================] - 0s 237us/step - loss: 25.7906 - accuracy: 0.0198\n",
      "Epoch 5/20\n",
      "354/354 [==============================] - 0s 208us/step - loss: 27.3256 - accuracy: 0.0113\n",
      "Epoch 6/20\n",
      "354/354 [==============================] - 0s 251us/step - loss: 26.7128 - accuracy: 0.0113\n",
      "Epoch 7/20\n",
      "354/354 [==============================] - 0s 277us/step - loss: 23.4783 - accuracy: 0.0198\n",
      "Epoch 8/20\n",
      "354/354 [==============================] - 0s 151us/step - loss: 19.6876 - accuracy: 0.0141\n",
      "Epoch 9/20\n",
      "354/354 [==============================] - 0s 169us/step - loss: 19.4273 - accuracy: 0.0226\n",
      "Epoch 10/20\n",
      "354/354 [==============================] - 0s 150us/step - loss: 18.2241 - accuracy: 0.0226\n",
      "Epoch 11/20\n",
      "354/354 [==============================] - 0s 155us/step - loss: 22.5155 - accuracy: 0.0226\n",
      "Epoch 12/20\n",
      "354/354 [==============================] - 0s 203us/step - loss: 16.0867 - accuracy: 0.0226\n",
      "Epoch 13/20\n",
      "354/354 [==============================] - 0s 203us/step - loss: 17.1746 - accuracy: 0.0198\n",
      "Epoch 14/20\n",
      "354/354 [==============================] - 0s 155us/step - loss: 18.9741 - accuracy: 0.0169\n",
      "Epoch 15/20\n",
      "354/354 [==============================] - 0s 126us/step - loss: 18.2140 - accuracy: 0.0254\n",
      "Epoch 16/20\n",
      "354/354 [==============================] - 0s 105us/step - loss: 12.7110 - accuracy: 0.0113\n",
      "Epoch 17/20\n",
      "354/354 [==============================] - 0s 204us/step - loss: 13.3556 - accuracy: 0.0198\n",
      "Epoch 18/20\n",
      "354/354 [==============================] - 0s 136us/step - loss: 18.2883 - accuracy: 0.0254\n",
      "Epoch 19/20\n",
      "354/354 [==============================] - 0s 209us/step - loss: 14.1806 - accuracy: 0.0226\n",
      "Epoch 20/20\n",
      "354/354 [==============================] - 0s 169us/step - loss: 12.7080 - accuracy: 0.0169\n"
     ]
    },
    {
     "data": {
      "text/plain": [
       "<keras.callbacks.callbacks.History at 0x1b4bc394160>"
      ]
     },
     "execution_count": 35,
     "metadata": {},
     "output_type": "execute_result"
    }
   ],
   "source": [
    "# Train again the neural network.\n",
    "model.fit(inputs_train_scaled, outputs_train, epochs=20, batch_size=10)"
   ]
  },
  {
   "cell_type": "code",
   "execution_count": 36,
   "metadata": {},
   "outputs": [],
   "source": [
    "# Predictions \n",
    "inputs_test_scaled = scaler.transform(inputs_test)\n",
    "pred2 = model.predict(inputs_test_scaled).T\n",
    "pred2_1D = pred2[0] # isolating the first element of the 2D array pred2 which contains the predictions so that it can be joined with the array which contains the outputs and can be displayed per pairs for comparison purposes"
   ]
  },
  {
   "cell_type": "code",
   "execution_count": 37,
   "metadata": {
    "scrolled": true
   },
   "outputs": [
    {
     "name": "stderr",
     "output_type": "stream",
     "text": [
      "C:\\Users\\montec3\\AppData\\Local\\Continuum\\anaconda3\\lib\\site-packages\\ipykernel_launcher.py:1: FutureWarning: Method .as_matrix will be removed in a future version. Use .values instead.\n",
      "  \"\"\"Entry point for launching an IPython kernel.\n"
     ]
    }
   ],
   "source": [
    "outTest2 = outputs_test.as_matrix().astype(np.float32)"
   ]
  },
  {
   "cell_type": "code",
   "execution_count": 38,
   "metadata": {
    "scrolled": true
   },
   "outputs": [
    {
     "name": "stdout",
     "output_type": "stream",
     "text": [
      "\n",
      "Prediction scaled   vs  [Expected]\n",
      "\n",
      "12.253995895385742       [13.4]\n",
      "20.435291290283203       [24.7]\n",
      "28.697914123535156       [35.4]\n",
      "19.954708099365234       [16.8]\n",
      "24.234163284301758       [24.4]\n",
      "16.858154296875       [17.6]\n",
      "18.437808990478516       [19.6]\n",
      "21.349414825439453       [23.7]\n",
      "20.22030258178711       [23.9]\n",
      "15.062538146972656       [15.7]\n",
      "21.92137908935547       [26.2]\n",
      "20.99598503112793       [23.4]\n",
      "20.91671371459961       [25.]\n",
      "13.650419235229492       [10.2]\n",
      "20.676551818847656       [24.8]\n",
      "10.161735534667969       [13.8]\n",
      "18.752744674682617       [18.5]\n",
      "40.62567138671875       [38.7]\n",
      "18.935739517211914       [24.3]\n",
      "26.857372283935547       [29.9]\n",
      "17.83014678955078       [22.5]\n",
      "15.878814697265625       [20.]\n",
      "8.542318344116211       [8.3]\n",
      "9.180204391479492       [8.5]\n",
      "35.40425109863281       [34.9]\n",
      "32.90277099609375       [33.2]\n",
      "20.64011001586914       [22.5]\n",
      "8.753864288330078       [17.9]\n",
      "17.129268646240234       [19.6]\n",
      "19.5933780670166       [21.]\n",
      "28.302186965942383       [36.2]\n",
      "18.07813262939453       [19.7]\n",
      "14.466840744018555       [13.1]\n",
      "14.645030975341797       [13.8]\n",
      "17.134843826293945       [20.6]\n",
      "25.608264923095703       [28.2]\n",
      "11.421783447265625       [12.8]\n",
      "18.793148040771484       [20.4]\n",
      "19.560848236083984       [21.2]\n",
      "8.46369743347168       [5.]\n",
      "17.04497528076172       [21.7]\n",
      "20.799545288085938       [20.4]\n",
      "21.631484985351562       [20.7]\n",
      "28.236906051635742       [32.4]\n",
      "15.929885864257812       [17.4]\n",
      "13.192262649536133       [13.4]\n",
      "16.876012802124023       [17.4]\n",
      "29.265432357788086       [33.2]\n",
      "25.246877670288086       [24.]\n",
      "20.733064651489258       [22.]\n",
      "11.264400482177734       [9.7]\n",
      "19.857765197753906       [19.8]\n",
      "8.896097183227539       [13.8]\n",
      "20.593246459960938       [17.5]\n",
      "17.342567443847656       [20.5]\n",
      "8.31694507598877       [10.4]\n",
      "18.998945236206055       [20.5]\n",
      "20.675174713134766       [21.]\n",
      "16.967153549194336       [21.4]\n",
      "32.0396728515625       [33.3]\n",
      "24.396251678466797       [25.]\n",
      "9.96265983581543       [8.8]\n",
      "15.361078262329102       [19.6]\n",
      "18.67736053466797       [18.2]\n",
      "25.61650848388672       [29.4]\n",
      "24.965524673461914       [26.6]\n",
      "21.540082931518555       [22.6]\n",
      "20.934633255004883       [23.9]\n",
      "37.09477996826172       [36.4]\n",
      "15.314006805419922       [7.]\n",
      "31.96775245666504       [35.4]\n",
      "19.5878963470459       [20.6]\n",
      "19.401514053344727       [20.5]\n",
      "18.88745880126953       [18.7]\n",
      "19.336917877197266       [20.]\n",
      "16.943485260009766       [18.7]\n",
      "14.978927612304688       [8.1]\n",
      "23.79645538330078       [24.1]\n",
      "15.998096466064453       [18.5]\n",
      "16.756818771362305       [18.4]\n",
      "19.233064651489258       [20.1]\n",
      "17.718334197998047       [20.3]\n",
      "15.80738639831543       [13.9]\n",
      "22.38814926147461       [11.9]\n",
      "21.020034790039062       [22.2]\n",
      "18.383790969848633       [19.5]\n",
      "24.209075927734375       [29.]\n",
      "18.108627319335938       [21.7]\n",
      "44.22587966918945       [48.5]\n",
      "29.098411560058594       [32.9]\n",
      "24.673999786376953       [22.8]\n",
      "13.280157089233398       [13.5]\n",
      "29.13701820373535       [30.1]\n",
      "20.034658432006836       [27.5]\n",
      "18.218463897705078       [20.1]\n",
      "17.196992874145508       [16.]\n",
      "19.05832290649414       [19.3]\n",
      "36.46003341674805       [31.7]\n",
      "25.6251163482666       [29.8]\n",
      "11.108484268188477       [14.1]\n",
      "14.088918685913086       [11.7]\n",
      "25.88566780090332       [28.7]\n",
      "15.408000946044922       [15.6]\n",
      "20.8320255279541       [24.5]\n",
      "19.185985565185547       [21.7]\n",
      "24.244943618774414       [22.1]\n",
      "15.418785095214844       [18.4]\n",
      "9.97508430480957       [19.1]\n",
      "22.952037811279297       [28.7]\n",
      "17.969226837158203       [29.8]\n",
      "14.174758911132812       [15.2]\n",
      "21.127653121948242       [22.7]\n",
      "22.52217674255371       [24.2]\n",
      "19.67445182800293       [20.1]\n",
      "22.166767120361328       [27.1]\n",
      "23.84744644165039       [24.6]\n",
      "14.092771530151367       [17.8]\n",
      "8.03571891784668       [7.2]\n",
      "22.15148162841797       [22.2]\n",
      "14.501640319824219       [17.5]\n",
      "20.835277557373047       [20.7]\n",
      "14.933740615844727       [14.1]\n",
      "26.882152557373047       [32.]\n",
      "24.41948127746582       [23.6]\n",
      "28.541481018066406       [23.6]\n",
      "24.13031578063965       [22.]\n",
      "17.038188934326172       [19.9]\n",
      "21.538877487182617       [23.5]\n",
      "25.909347534179688       [30.5]\n",
      "30.701616287231445       [33.1]\n",
      "36.45536422729492       [39.8]\n",
      "15.887392044067383       [17.8]\n",
      "19.906476974487305       [18.3]\n",
      "12.45761489868164       [12.6]\n",
      "34.03911590576172       [42.8]\n",
      "12.4281005859375       [13.3]\n",
      "18.189008712768555       [18.6]\n",
      "44.85011672973633       [50.]\n",
      "22.419706344604492       [18.5]\n",
      "15.34745979309082       [14.6]\n",
      "15.034311294555664       [17.3]\n",
      "19.845081329345703       [22.6]\n",
      "13.747076034545898       [14.5]\n",
      "21.576797485351562       [21.2]\n",
      "20.84575653076172       [20.6]\n",
      "19.273330688476562       [18.7]\n",
      "15.787811279296875       [12.7]\n",
      "22.0037784576416       [22.6]\n",
      "14.805593490600586       [15.1]\n",
      "28.77659797668457       [37.3]\n",
      "20.939966201782227       [20.2]\n",
      "20.693342208862305       [22.9]\n"
     ]
    }
   ],
   "source": [
    "# show predictions and actual values\n",
    "print('\\nPrediction scaled   vs  [Expected]\\n') # '\\u0332'.join to underline text\n",
    "table = '\\n'.join('{}       {}'.format(x, y) for x, y in zip(pred2_1D, outTest2))\n",
    "print(table)"
   ]
  },
  {
   "cell_type": "code",
   "execution_count": 39,
   "metadata": {
    "scrolled": true
   },
   "outputs": [
    {
     "name": "stdout",
     "output_type": "stream",
     "text": [
      "152/152 [==============================] - 0s 329us/step\n"
     ]
    },
    {
     "data": {
      "text/plain": [
       "[137.5757189298931, 0.0]"
      ]
     },
     "execution_count": 39,
     "metadata": {},
     "output_type": "execute_result"
    }
   ],
   "source": [
    "# Evaluating the network again\n",
    "model.evaluate(inputs_test, outputs_test)"
   ]
  },
  {
   "cell_type": "markdown",
   "metadata": {},
   "source": [
    "The MSE loss is big (137.6) so I will **whiten** the dataset to try and lower its value"
   ]
  },
  {
   "cell_type": "markdown",
   "metadata": {},
   "source": [
    "----"
   ]
  },
  {
   "cell_type": "code",
   "execution_count": 40,
   "metadata": {},
   "outputs": [
    {
     "data": {
      "text/html": [
       "<div>\n",
       "<style scoped>\n",
       "    .dataframe tbody tr th:only-of-type {\n",
       "        vertical-align: middle;\n",
       "    }\n",
       "\n",
       "    .dataframe tbody tr th {\n",
       "        vertical-align: top;\n",
       "    }\n",
       "\n",
       "    .dataframe thead th {\n",
       "        text-align: right;\n",
       "    }\n",
       "</style>\n",
       "<table border=\"1\" class=\"dataframe\">\n",
       "  <thead>\n",
       "    <tr style=\"text-align: right;\">\n",
       "      <th></th>\n",
       "      <th>CRIM</th>\n",
       "      <th>CHAS</th>\n",
       "      <th>RM</th>\n",
       "      <th>DIS</th>\n",
       "      <th>RAD</th>\n",
       "      <th>PTRATIO</th>\n",
       "      <th>LSTAT</th>\n",
       "    </tr>\n",
       "  </thead>\n",
       "  <tbody>\n",
       "    <tr>\n",
       "      <th>0</th>\n",
       "      <td>-0.699325</td>\n",
       "      <td>0.616638</td>\n",
       "      <td>-0.348310</td>\n",
       "      <td>1.638774</td>\n",
       "      <td>0.405145</td>\n",
       "      <td>0.222926</td>\n",
       "      <td>-0.028401</td>\n",
       "    </tr>\n",
       "    <tr>\n",
       "      <th>1</th>\n",
       "      <td>1.312876</td>\n",
       "      <td>0.488393</td>\n",
       "      <td>-1.040347</td>\n",
       "      <td>0.096107</td>\n",
       "      <td>-0.503291</td>\n",
       "      <td>4.391418</td>\n",
       "      <td>-0.226469</td>\n",
       "    </tr>\n",
       "    <tr>\n",
       "      <th>2</th>\n",
       "      <td>1.191754</td>\n",
       "      <td>0.475772</td>\n",
       "      <td>-1.292456</td>\n",
       "      <td>-0.020467</td>\n",
       "      <td>-0.704694</td>\n",
       "      <td>1.473553</td>\n",
       "      <td>-0.421721</td>\n",
       "    </tr>\n",
       "    <tr>\n",
       "      <th>3</th>\n",
       "      <td>-0.538979</td>\n",
       "      <td>-0.477018</td>\n",
       "      <td>0.970824</td>\n",
       "      <td>0.334084</td>\n",
       "      <td>-1.538787</td>\n",
       "      <td>0.147442</td>\n",
       "      <td>-0.308786</td>\n",
       "    </tr>\n",
       "    <tr>\n",
       "      <th>4</th>\n",
       "      <td>-0.659739</td>\n",
       "      <td>0.371094</td>\n",
       "      <td>0.034735</td>\n",
       "      <td>0.219579</td>\n",
       "      <td>-0.956377</td>\n",
       "      <td>0.480824</td>\n",
       "      <td>-0.389316</td>\n",
       "    </tr>\n",
       "    <tr>\n",
       "      <th>...</th>\n",
       "      <td>...</td>\n",
       "      <td>...</td>\n",
       "      <td>...</td>\n",
       "      <td>...</td>\n",
       "      <td>...</td>\n",
       "      <td>...</td>\n",
       "      <td>...</td>\n",
       "    </tr>\n",
       "    <tr>\n",
       "      <th>349</th>\n",
       "      <td>-0.320923</td>\n",
       "      <td>-0.652294</td>\n",
       "      <td>0.517254</td>\n",
       "      <td>-0.371842</td>\n",
       "      <td>-0.680166</td>\n",
       "      <td>0.532186</td>\n",
       "      <td>-0.360672</td>\n",
       "    </tr>\n",
       "    <tr>\n",
       "      <th>350</th>\n",
       "      <td>0.796176</td>\n",
       "      <td>-0.428235</td>\n",
       "      <td>-1.824599</td>\n",
       "      <td>0.100304</td>\n",
       "      <td>0.015124</td>\n",
       "      <td>0.448547</td>\n",
       "      <td>-0.406396</td>\n",
       "    </tr>\n",
       "    <tr>\n",
       "      <th>351</th>\n",
       "      <td>-0.931546</td>\n",
       "      <td>1.156671</td>\n",
       "      <td>-0.443176</td>\n",
       "      <td>0.636137</td>\n",
       "      <td>-0.173228</td>\n",
       "      <td>-0.328021</td>\n",
       "      <td>-0.346586</td>\n",
       "    </tr>\n",
       "    <tr>\n",
       "      <th>352</th>\n",
       "      <td>-0.817139</td>\n",
       "      <td>0.745591</td>\n",
       "      <td>-0.135473</td>\n",
       "      <td>-0.101544</td>\n",
       "      <td>-1.324018</td>\n",
       "      <td>-0.371720</td>\n",
       "      <td>-0.565896</td>\n",
       "    </tr>\n",
       "    <tr>\n",
       "      <th>353</th>\n",
       "      <td>0.823430</td>\n",
       "      <td>-0.668621</td>\n",
       "      <td>-1.706350</td>\n",
       "      <td>0.032544</td>\n",
       "      <td>-0.013415</td>\n",
       "      <td>0.050891</td>\n",
       "      <td>-0.415526</td>\n",
       "    </tr>\n",
       "  </tbody>\n",
       "</table>\n",
       "<p>354 rows × 7 columns</p>\n",
       "</div>"
      ],
      "text/plain": [
       "         CRIM      CHAS        RM       DIS       RAD   PTRATIO     LSTAT\n",
       "0   -0.699325  0.616638 -0.348310  1.638774  0.405145  0.222926 -0.028401\n",
       "1    1.312876  0.488393 -1.040347  0.096107 -0.503291  4.391418 -0.226469\n",
       "2    1.191754  0.475772 -1.292456 -0.020467 -0.704694  1.473553 -0.421721\n",
       "3   -0.538979 -0.477018  0.970824  0.334084 -1.538787  0.147442 -0.308786\n",
       "4   -0.659739  0.371094  0.034735  0.219579 -0.956377  0.480824 -0.389316\n",
       "..        ...       ...       ...       ...       ...       ...       ...\n",
       "349 -0.320923 -0.652294  0.517254 -0.371842 -0.680166  0.532186 -0.360672\n",
       "350  0.796176 -0.428235 -1.824599  0.100304  0.015124  0.448547 -0.406396\n",
       "351 -0.931546  1.156671 -0.443176  0.636137 -0.173228 -0.328021 -0.346586\n",
       "352 -0.817139  0.745591 -0.135473 -0.101544 -1.324018 -0.371720 -0.565896\n",
       "353  0.823430 -0.668621 -1.706350  0.032544 -0.013415  0.050891 -0.415526\n",
       "\n",
       "[354 rows x 7 columns]"
      ]
     },
     "execution_count": 40,
     "metadata": {},
     "output_type": "execute_result"
    }
   ],
   "source": [
    "pca = dec.PCA(n_components=7, whiten=True)\n",
    "pca.fit(inputs_train)\n",
    "inputs_train_white = pd.DataFrame(pca.transform(inputs_train), columns = inputs.columns)\n",
    "inputs_train_white"
   ]
  },
  {
   "cell_type": "code",
   "execution_count": 41,
   "metadata": {},
   "outputs": [],
   "source": [
    "# rebuid the neural network\n",
    "model = kr.models.Sequential()\n",
    "\n",
    "# Add a hidden layer with 15 neurons and an input layer with the 7 attributes\n",
    "model.add(kr.layers.Dense(units=15, activation='tanh', input_dim=7)) \n",
    "# Add another hidden layer \n",
    "model.add(kr.layers.Dense(units=30, activation='tanh')) \n",
    "          \n",
    "# Add a one neuron output layer.\n",
    "model.add(kr.layers.Dense(units=1, activation='linear'))\n",
    "\n",
    "# Build the graph.\n",
    "model.compile(loss='mean_squared_error', optimizer='sgd', metrics=['accuracy'])\n",
    "# loss='categorical_crossentropy' is a standard loss function for a categorical variable."
   ]
  },
  {
   "cell_type": "code",
   "execution_count": 42,
   "metadata": {
    "scrolled": true
   },
   "outputs": [
    {
     "name": "stdout",
     "output_type": "stream",
     "text": [
      "Epoch 1/20\n",
      "354/354 [==============================] - 0s 350us/step - loss: 117.6932 - accuracy: 0.0113\n",
      "Epoch 2/20\n",
      "354/354 [==============================] - 0s 147us/step - loss: 27.1780 - accuracy: 0.0169\n",
      "Epoch 3/20\n",
      "354/354 [==============================] - 0s 150us/step - loss: 24.8758 - accuracy: 0.0141\n",
      "Epoch 4/20\n",
      "354/354 [==============================] - 0s 209us/step - loss: 20.6476 - accuracy: 0.0226\n",
      "Epoch 5/20\n",
      "354/354 [==============================] - 0s 212us/step - loss: 16.6193 - accuracy: 0.0169\n",
      "Epoch 6/20\n",
      "354/354 [==============================] - 0s 195us/step - loss: 14.6514 - accuracy: 0.0113\n",
      "Epoch 7/20\n",
      "354/354 [==============================] - 0s 203us/step - loss: 13.0005 - accuracy: 0.0141\n",
      "Epoch 8/20\n",
      "354/354 [==============================] - 0s 186us/step - loss: 13.5608 - accuracy: 0.0085\n",
      "Epoch 9/20\n",
      "354/354 [==============================] - 0s 206us/step - loss: 12.7098 - accuracy: 0.0169\n",
      "Epoch 10/20\n",
      "354/354 [==============================] - 0s 184us/step - loss: 11.2111 - accuracy: 0.0169\n",
      "Epoch 11/20\n",
      "354/354 [==============================] - 0s 161us/step - loss: 14.7597 - accuracy: 0.0282\n",
      "Epoch 12/20\n",
      "354/354 [==============================] - 0s 145us/step - loss: 12.5954 - accuracy: 0.0226\n",
      "Epoch 13/20\n",
      "354/354 [==============================] - 0s 130us/step - loss: 14.0841 - accuracy: 0.0169\n",
      "Epoch 14/20\n",
      "354/354 [==============================] - 0s 130us/step - loss: 10.4953 - accuracy: 0.0282\n",
      "Epoch 15/20\n",
      "354/354 [==============================] - 0s 130us/step - loss: 9.8410 - accuracy: 0.0226\n",
      "Epoch 16/20\n",
      "354/354 [==============================] - 0s 214us/step - loss: 9.2545 - accuracy: 0.0169\n",
      "Epoch 17/20\n",
      "354/354 [==============================] - 0s 249us/step - loss: 9.0507 - accuracy: 0.0226\n",
      "Epoch 18/20\n",
      "354/354 [==============================] - ETA: 0s - loss: 12.9264 - accuracy: 0.0000e+0 - 0s 150us/step - loss: 8.2608 - accuracy: 0.0169\n",
      "Epoch 19/20\n",
      "354/354 [==============================] - 0s 122us/step - loss: 8.5019 - accuracy: 0.0339\n",
      "Epoch 20/20\n",
      "354/354 [==============================] - 0s 169us/step - loss: 8.1643 - accuracy: 0.0254\n"
     ]
    },
    {
     "data": {
      "text/plain": [
       "<keras.callbacks.callbacks.History at 0x1b4bc132d68>"
      ]
     },
     "execution_count": 42,
     "metadata": {},
     "output_type": "execute_result"
    }
   ],
   "source": [
    "# Train again the neural network.\n",
    "model.fit(inputs_train_white, outputs_train, epochs=20, batch_size=10)"
   ]
  },
  {
   "cell_type": "code",
   "execution_count": 43,
   "metadata": {},
   "outputs": [],
   "source": [
    "# Predictions \n",
    "pred3 = model.predict(inputs_train_white).T\n",
    "pred3_1D = pred3[0] # isolating the first element of the 2D array pred3 which contains the predictions so that it can be joined with the array which contains the outputs and can be displayed per pairs for comparison purposes"
   ]
  },
  {
   "cell_type": "code",
   "execution_count": 44,
   "metadata": {
    "scrolled": true
   },
   "outputs": [
    {
     "data": {
      "text/plain": [
       "array([22.850603 , 23.791246 , 34.37828  , 21.167986 , 25.733088 ,\n",
       "       17.1482   ,  7.80521  , 25.835909 , 28.458168 , 23.927643 ,\n",
       "       23.587786 , 16.64373  , 28.15557  , 25.535128 , 24.67222  ,\n",
       "       26.82002  , 15.688698 , 16.23718  , 11.148711 , 22.726286 ,\n",
       "       29.650055 , 48.764484 , 17.167784 , 21.879072 , 15.037137 ,\n",
       "       19.13162  , 20.266817 , 49.41752  , 17.388815 , 20.434963 ,\n",
       "       19.325233 , 29.47839  , 16.829592 , 15.617095 , 23.585732 ,\n",
       "       16.957134 , 20.192183 , 14.26504  , 21.575586 , 27.748247 ,\n",
       "       18.733747 , 24.510931 , 20.264048 , 50.62004  , 23.325003 ,\n",
       "       21.962248 , 14.0267725, 48.417164 , 16.03443  , 21.144978 ,\n",
       "       21.435421 , 14.299684 , 19.55561  , 28.053175 , 12.706973 ,\n",
       "       26.826422 , 22.988638 , 16.190468 ,  9.959426 , 47.167625 ,\n",
       "       38.460426 , 11.850705 , 18.95108  , 21.428307 , 22.856518 ,\n",
       "       26.23895  , 13.997176 , 22.653141 , 21.159075 , 16.647255 ,\n",
       "       23.647646 , 23.65411  , 22.266842 , 23.089777 , 41.744274 ,\n",
       "       33.729855 , 16.334036 , 46.11371  , 48.39373  , 34.554714 ,\n",
       "       21.10721  , 21.63459  , 21.257933 , 22.414011 , 33.41878  ,\n",
       "       19.722317 , 24.004416 , 20.840546 , 25.422401 , 21.30176  ,\n",
       "       29.679163 ,  8.973398 , 27.044863 , 48.112633 , 22.27737  ,\n",
       "       16.236998 , 10.556932 , 18.40092  , 25.636698 , 20.752981 ,\n",
       "       24.035873 , 21.892666 , 19.191803 , 22.773005 , 22.08818  ,\n",
       "       21.03055  , 23.501234 , 16.033964 , 49.122353 , 21.286928 ,\n",
       "       21.55612  , 22.856533 , 23.674837 , 20.404612 , 23.365877 ,\n",
       "       17.801153 , 20.488338 , 10.92641  , 34.118187 , 24.234768 ,\n",
       "       30.98705  , 10.214718 , 19.04929  , 20.38425  , 27.147943 ,\n",
       "       11.326184 , 36.949993 , 18.80508  , 26.99543  , 25.282461 ,\n",
       "       19.005718 , 19.600748 , 18.007353 , 10.641806 , 36.032955 ,\n",
       "       50.358097 , 36.17338  , 33.65404  , 18.346437 , 24.892159 ,\n",
       "       46.255516 , 22.00869  , 28.384378 ,  8.26     , 24.978153 ,\n",
       "       21.853039 , 40.25386  , 15.066022 , 47.957634 , 14.674132 ,\n",
       "       49.458412 , 12.370696 , 22.173927 , 11.796747 , 48.29358  ,\n",
       "       23.804543 , 23.072844 , 37.3549   , 29.319284 , 19.90045  ,\n",
       "       45.91694  , 21.287542 , 21.829824 , 12.796076 , 10.961423 ,\n",
       "       19.10133  , 23.256685 , 22.493736 , 37.661255 , 25.593164 ,\n",
       "       29.30973  , 50.015667 , 29.134108 , 14.548485 , 24.016954 ,\n",
       "       12.455037 , 10.758565 , 38.1731   , 16.717384 , 11.1562   ,\n",
       "       22.035864 , 15.178348 , 17.115269 , 31.176062 , 25.913462 ,\n",
       "       25.730436 , 21.359716 , 10.742247 , 16.302748 , 21.65962  ,\n",
       "        6.6415286, 19.250654 , 22.336977 , 22.687849 , 17.628853 ,\n",
       "       21.703688 , 32.153522 , 21.332905 , 42.57466  , 13.689331 ,\n",
       "       26.349869 , 29.54366  , 30.829386 , 11.657287 ,  6.799117 ,\n",
       "       28.94168  , 13.732393 , 25.10203  , 25.471907 ,  8.65666  ,\n",
       "       17.844213 , 22.184603 , 23.86408  , 31.966993 , 14.308069 ,\n",
       "       25.48066  , 24.585688 , 15.363549 , 36.653114 , 22.152151 ,\n",
       "       19.507105 , 16.71936  , 48.44855  , 24.961168 , 21.612413 ,\n",
       "        9.587982 , 13.285401 , 23.863283 , 33.823803 , 44.486813 ,\n",
       "       22.35292  , 17.483597 , 49.784092 , 21.367546 , 20.602655 ,\n",
       "       21.653648 , 21.711456 ,  9.149327 , 18.097582 ,  8.574824 ,\n",
       "       45.979855 , 22.681301 , 29.932201 , 20.176493 , 27.852798 ,\n",
       "       19.28476  , 14.484464 , 23.893589 , 18.727104 , 11.493152 ,\n",
       "       20.64581  , 20.788376 , 50.25409  , 17.929497 , 35.934326 ,\n",
       "       21.59346  , 17.206821 , 14.132642 , 19.74539  , 16.821573 ,\n",
       "       24.333017 , 34.826965 , 22.969978 , 45.400032 , 11.931298 ,\n",
       "        9.726262 , 41.93588  , 24.60562  , 29.35739  , 13.378751 ,\n",
       "       20.410408 , 27.591167 , 18.290722 , 23.289104 , 22.22231  ,\n",
       "       21.27608  , 15.736053 , 28.518688 , 10.804993 ,  9.327556 ,\n",
       "       24.22177  , 21.43949  , 21.440956 , 21.454489 , 19.55407  ,\n",
       "       18.280481 , 21.125914 , 31.13843  , 23.582628 , 29.56287  ,\n",
       "       27.548977 , 19.799726 , 21.409857 ,  9.806209 , 18.741499 ,\n",
       "       33.74737  , 21.758223 , 24.633204 , 21.551123 , 28.140406 ,\n",
       "       49.680172 , 19.026178 , 21.453165 , 15.731753 , 19.53731  ,\n",
       "       22.120636 ,  9.083928 , 44.220306 , 20.569065 , 24.872744 ,\n",
       "       22.495756 , 14.410972 ,  6.0300035, 22.117405 , 22.412827 ,\n",
       "       15.8463545, 15.436905 , 21.790476 , 18.278576 , 25.740896 ,\n",
       "       22.344181 , 20.177332 , 29.68582  , 19.334162 , 22.058474 ,\n",
       "       17.811573 , 11.468111 , 10.480181 , 17.734423 , 32.396927 ,\n",
       "       48.2807   , 25.432247 , 23.035685 , 22.468328 , 24.75821  ,\n",
       "       20.303225 , 13.725025 , 35.3663   , 23.701525 , 23.29329  ,\n",
       "       36.85695  , 34.812237 , 15.295089 , 15.654687 , 20.13982  ,\n",
       "        9.893059 , 20.484964 , 13.120882 , 19.921368 , 21.385746 ,\n",
       "       19.848728 , 33.140644 , 34.020992 , 19.08285  ], dtype=float32)"
      ]
     },
     "execution_count": 44,
     "metadata": {},
     "output_type": "execute_result"
    }
   ],
   "source": [
    "pred3_1D"
   ]
  },
  {
   "cell_type": "code",
   "execution_count": 45,
   "metadata": {
    "scrolled": true
   },
   "outputs": [
    {
     "name": "stderr",
     "output_type": "stream",
     "text": [
      "C:\\Users\\montec3\\AppData\\Local\\Continuum\\anaconda3\\lib\\site-packages\\ipykernel_launcher.py:1: FutureWarning: Method .as_matrix will be removed in a future version. Use .values instead.\n",
      "  \"\"\"Entry point for launching an IPython kernel.\n"
     ]
    }
   ],
   "source": [
    "outTest3 = outputs_test.as_matrix().astype(np.float32)"
   ]
  },
  {
   "cell_type": "code",
   "execution_count": 46,
   "metadata": {},
   "outputs": [
    {
     "name": "stdout",
     "output_type": "stream",
     "text": [
      "\n",
      "Prediction whitened vs [Expected]\n",
      "\n",
      "22.850603103637695       [13.4]\n",
      "23.79124641418457       [24.7]\n",
      "34.37828063964844       [35.4]\n",
      "21.167985916137695       [16.8]\n",
      "25.73308753967285       [24.4]\n",
      "17.1481990814209       [17.6]\n",
      "7.805210113525391       [19.6]\n",
      "25.835908889770508       [23.7]\n",
      "28.458168029785156       [23.9]\n",
      "23.927642822265625       [15.7]\n",
      "23.587785720825195       [26.2]\n",
      "16.64373016357422       [23.4]\n",
      "28.155569076538086       [25.]\n",
      "25.535127639770508       [10.2]\n",
      "24.67222023010254       [24.8]\n",
      "26.82002067565918       [13.8]\n",
      "15.688697814941406       [18.5]\n",
      "16.237180709838867       [38.7]\n",
      "11.148711204528809       [24.3]\n",
      "22.726285934448242       [29.9]\n",
      "29.650054931640625       [22.5]\n",
      "48.76448440551758       [20.]\n",
      "17.167783737182617       [8.3]\n",
      "21.879072189331055       [8.5]\n",
      "15.037137031555176       [34.9]\n",
      "19.131620407104492       [33.2]\n",
      "20.266817092895508       [22.5]\n",
      "49.417518615722656       [17.9]\n",
      "17.38881492614746       [19.6]\n",
      "20.43496322631836       [21.]\n",
      "19.325233459472656       [36.2]\n",
      "29.478389739990234       [19.7]\n",
      "16.829591751098633       [13.1]\n",
      "15.617094993591309       [13.8]\n",
      "23.585731506347656       [20.6]\n",
      "16.957134246826172       [28.2]\n",
      "20.192182540893555       [12.8]\n",
      "14.265040397644043       [20.4]\n",
      "21.575586318969727       [21.2]\n",
      "27.748247146606445       [5.]\n",
      "18.733747482299805       [21.7]\n",
      "24.51093101501465       [20.4]\n",
      "20.264047622680664       [20.7]\n",
      "50.62004089355469       [32.4]\n",
      "23.325002670288086       [17.4]\n",
      "21.962247848510742       [13.4]\n",
      "14.026772499084473       [17.4]\n",
      "48.41716384887695       [33.2]\n",
      "16.0344295501709       [24.]\n",
      "21.144977569580078       [22.]\n",
      "21.435420989990234       [9.7]\n",
      "14.299683570861816       [19.8]\n",
      "19.55561065673828       [13.8]\n",
      "28.05317497253418       [17.5]\n",
      "12.7069730758667       [20.5]\n",
      "26.8264217376709       [10.4]\n",
      "22.988637924194336       [20.5]\n",
      "16.190467834472656       [21.]\n",
      "9.959425926208496       [21.4]\n",
      "47.167625427246094       [33.3]\n",
      "38.460426330566406       [25.]\n",
      "11.85070514678955       [8.8]\n",
      "18.951080322265625       [19.6]\n",
      "21.428306579589844       [18.2]\n",
      "22.856517791748047       [29.4]\n",
      "26.238950729370117       [26.6]\n",
      "13.997176170349121       [22.6]\n",
      "22.653141021728516       [23.9]\n",
      "21.159074783325195       [36.4]\n",
      "16.647254943847656       [7.]\n",
      "23.647645950317383       [35.4]\n",
      "23.654109954833984       [20.6]\n",
      "22.266841888427734       [20.5]\n",
      "23.08977699279785       [18.7]\n",
      "41.7442741394043       [20.]\n",
      "33.729854583740234       [18.7]\n",
      "16.334035873413086       [8.1]\n",
      "46.11370849609375       [24.1]\n",
      "48.39373016357422       [18.5]\n",
      "34.55471420288086       [18.4]\n",
      "21.107210159301758       [20.1]\n",
      "21.63459014892578       [20.3]\n",
      "21.257932662963867       [13.9]\n",
      "22.414011001586914       [11.9]\n",
      "33.41878128051758       [22.2]\n",
      "19.72231674194336       [19.5]\n",
      "24.00441551208496       [29.]\n",
      "20.840545654296875       [21.7]\n",
      "25.422401428222656       [48.5]\n",
      "21.301759719848633       [32.9]\n",
      "29.679162979125977       [22.8]\n",
      "8.973398208618164       [13.5]\n",
      "27.044862747192383       [30.1]\n",
      "48.112632751464844       [27.5]\n",
      "22.27737045288086       [20.1]\n",
      "16.236997604370117       [16.]\n",
      "10.55693244934082       [19.3]\n",
      "18.400920867919922       [31.7]\n",
      "25.63669776916504       [29.8]\n",
      "20.752981185913086       [14.1]\n",
      "24.035873413085938       [11.7]\n",
      "21.89266586303711       [28.7]\n",
      "19.191802978515625       [15.6]\n",
      "22.77300453186035       [24.5]\n",
      "22.088180541992188       [21.7]\n",
      "21.030550003051758       [22.1]\n",
      "23.50123405456543       [18.4]\n",
      "16.033964157104492       [19.1]\n",
      "49.122352600097656       [28.7]\n",
      "21.286928176879883       [29.8]\n",
      "21.556119918823242       [15.2]\n",
      "22.85653305053711       [22.7]\n",
      "23.674837112426758       [24.2]\n",
      "20.404611587524414       [20.1]\n",
      "23.365877151489258       [27.1]\n",
      "17.8011531829834       [24.6]\n",
      "20.488338470458984       [17.8]\n",
      "10.926409721374512       [7.2]\n",
      "34.118186950683594       [22.2]\n",
      "24.23476791381836       [17.5]\n",
      "30.987049102783203       [20.7]\n",
      "10.214717864990234       [14.1]\n",
      "19.04928970336914       [32.]\n",
      "20.38425064086914       [23.6]\n",
      "27.1479434967041       [23.6]\n",
      "11.326184272766113       [22.]\n",
      "36.94999313354492       [19.9]\n",
      "18.80508041381836       [23.5]\n",
      "26.99542999267578       [30.5]\n",
      "25.282461166381836       [33.1]\n",
      "19.005718231201172       [39.8]\n",
      "19.60074806213379       [17.8]\n",
      "18.007352828979492       [18.3]\n",
      "10.641805648803711       [12.6]\n",
      "36.032955169677734       [42.8]\n",
      "50.358097076416016       [13.3]\n",
      "36.17338180541992       [18.6]\n",
      "33.6540412902832       [50.]\n",
      "18.346437454223633       [18.5]\n",
      "24.89215850830078       [14.6]\n",
      "46.255516052246094       [17.3]\n",
      "22.008689880371094       [22.6]\n",
      "28.38437843322754       [14.5]\n",
      "8.260000228881836       [21.2]\n",
      "24.978153228759766       [20.6]\n",
      "21.853038787841797       [18.7]\n",
      "40.25386047363281       [12.7]\n",
      "15.066021919250488       [22.6]\n",
      "47.95763397216797       [15.1]\n",
      "14.674132347106934       [37.3]\n",
      "49.458412170410156       [20.2]\n",
      "12.370696067810059       [22.9]\n"
     ]
    }
   ],
   "source": [
    "# show predictions and actual values\n",
    "print('\\nPrediction whitened vs [Expected]\\n') # '\\u0332'.join to underline text\n",
    "table2 = '\\n'.join('{}       {}'.format(x, y) for x, y in zip(pred3_1D, outTest3))\n",
    "print(table2)"
   ]
  },
  {
   "cell_type": "code",
   "execution_count": 47,
   "metadata": {},
   "outputs": [
    {
     "name": "stdout",
     "output_type": "stream",
     "text": [
      "152/152 [==============================] - 0s 447us/step\n"
     ]
    },
    {
     "data": {
      "text/plain": [
       "[77.58413294741982, 0.0]"
      ]
     },
     "execution_count": 47,
     "metadata": {},
     "output_type": "execute_result"
    }
   ],
   "source": [
    "# Evaluating the network again\n",
    "model.evaluate(inputs_test, outputs_test)"
   ]
  },
  {
   "cell_type": "markdown",
   "metadata": {},
   "source": [
    "And despite the MSE loss is lower, this neural network as it is, is not valid for predicting purposes, it still needs to be better developed"
   ]
  }
 ],
 "metadata": {
  "kernelspec": {
   "display_name": "Python 3",
   "language": "python",
   "name": "python3"
  },
  "language_info": {
   "codemirror_mode": {
    "name": "ipython",
    "version": 3
   },
   "file_extension": ".py",
   "mimetype": "text/x-python",
   "name": "python",
   "nbconvert_exporter": "python",
   "pygments_lexer": "ipython3",
   "version": "3.6.9"
  }
 },
 "nbformat": 4,
 "nbformat_minor": 2
}
